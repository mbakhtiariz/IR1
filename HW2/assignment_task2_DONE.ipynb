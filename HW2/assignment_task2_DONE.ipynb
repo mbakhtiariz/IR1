{
 "cells": [
  {
   "cell_type": "markdown",
   "metadata": {},
   "source": [
    "# Information Retrieval 1#\n",
    "## Assignment 2: Retrieval models [100 points] ##"
   ]
  },
  {
   "cell_type": "markdown",
   "metadata": {},
   "source": [
    "In this assignment you will get familiar with basic and advanced information retrieval concepts. You will implement different information retrieval ranking models and evaluate their performance.\n",
    "\n",
    "We provide you with a Indri index. To query the index, you'll use a Python package ([pyndri](https://github.com/cvangysel/pyndri)) that allows easy access to the underlying document statistics.\n",
    "\n",
    "For evaluation you'll use the [TREC Eval](https://github.com/usnistgov/trec_eval) utility, provided by the National Institute of Standards and Technology of the United States. TREC Eval is the de facto standard way to compute Information Retrieval measures and is frequently referenced in scientific papers.\n",
    "\n",
    "This is a **groups-of-three assignment**, the deadline is **Wednesday, January 31st**. Code quality, informative comments and convincing analysis of the results will be considered when grading. Submission should be done through blackboard, questions can be asked on the course [Piazza](piazza.com/university_of_amsterdam/spring2018/52041inr6y/home).\n",
    "\n",
    "### Technicalities (must-read!) ###\n",
    "\n",
    "The assignment directory is organized as follows:\n",
    "   * `./assignment.ipynb` (this file): the description of the assignment.\n",
    "   * `./index/`: the index we prepared for you.\n",
    "   * `./ap_88_90/`: directory with ground-truth and evaluation sets:\n",
    "      * `qrel_test`: test query relevance collection (**test set**).\n",
    "      * `qrel_validation`: validation query relevance collection (**validation set**).\n",
    "      * `topics_title`: semicolon-separated file with query identifiers and terms.\n",
    "\n",
    "You will need the following software packages (tested with Python 3.5 inside [Anaconda](https://conda.io/docs/user-guide/install/index.html)):\n",
    "   * Python 3.5 and Jupyter\n",
    "   * Indri + Pyndri (Follow the installation instructions [here](https://github.com/nickvosk/pyndri/blob/master/README.md))\n",
    "   * gensim [link](https://radimrehurek.com/gensim/install.html)\n",
    "   * TREC Eval [link](https://github.com/usnistgov/trec_eval)"
   ]
  },
  {
   "cell_type": "markdown",
   "metadata": {},
   "source": [
    "### TREC Eval primer ###\n",
    "The TREC Eval utility can be downloaded and compiled as follows:\n",
    "\n",
    "    git clone https://github.com/usnistgov/trec_eval.git\n",
    "    cd trec_eval\n",
    "    make\n",
    "\n",
    "TREC Eval computes evaluation scores given two files: ground-truth information regarding relevant documents, named *query relevance* or *qrel*, and a ranking of documents for a set of queries, referred to as a *run*. The *qrel* will be supplied by us and should not be changed. For every retrieval model (or combinations thereof) you will generate a run of the top-1000 documents for every query. The format of the *run* file is as follows:\n",
    "\n",
    "    $query_identifier Q0 $document_identifier $rank_of_document_for_query $query_document_similarity $run_identifier\n",
    "    \n",
    "where\n",
    "   * `$query_identifier` is the unique identifier corresponding to a query (usually this follows a sequential numbering).\n",
    "   * `Q0` is a legacy field that you can ignore.\n",
    "   * `$document_identifier` corresponds to the unique identifier of a document (e.g., APXXXXXXX where AP denotes the collection and the Xs correspond to a unique numerical identifier).\n",
    "   * `$rank_of_document_for_query` denotes the rank of the document for the particular query. This field is ignored by TREC Eval and is only maintained for legacy support. The ranks are computed by TREC Eval itself using the `$query_document_similarity` field (see next). However, it remains good practice to correctly compute this field.\n",
    "   * `$query_document_similarity` is a score indicating the similarity between query and document where a higher score denotes greater similarity.\n",
    "   * `$run_identifier` is an identifier of the run. This field is for your own convenience and has no purpose beyond bookkeeping.\n",
    "   \n",
    "For example, say we have two queries: `Q1` and `Q2` and we rank three documents (`DOC1`, `DOC2`, `DOC3`). For query `Q1`, we find the following similarity scores `score(Q1, DOC1) = 1.0`, `score(Q1, DOC2) = 0.5`, `score(Q1, DOC3) = 0.75`; and for `Q2`: `score(Q2, DOC1) = -0.1`, `score(Q2, DOC2) = 1.25`, `score(Q1, DOC3) = 0.0`. We can generate run using the following snippet:"
   ]
  },
  {
   "cell_type": "code",
   "execution_count": 2,
   "metadata": {
    "scrolled": false
   },
   "outputs": [
    {
     "name": "stdout",
     "output_type": "stream",
     "text": [
      "Q2 Q0 DOC2 1 1.25 example\n",
      "Q2 Q0 DOC3 2 0.0 example\n",
      "Q2 Q0 DOC1 3 -0.1 example\n",
      "Q1 Q0 DOC1 1 1.0 example\n",
      "Q1 Q0 DOC3 2 0.75 example\n",
      "Q1 Q0 DOC2 3 0.5 example\n"
     ]
    }
   ],
   "source": [
    "import logging\n",
    "import sys\n",
    "import os\n",
    "\n",
    "def write_run(model_name, data, out_f,\n",
    "              max_objects_per_query=sys.maxsize,\n",
    "              skip_sorting=False):\n",
    "    \"\"\"\n",
    "    Write a run to an output file.\n",
    "    Parameters:\n",
    "        - model_name: identifier of run.\n",
    "        - data: dictionary mapping topic_id to object_assesments;\n",
    "            object_assesments is an iterable (list or tuple) of\n",
    "            (relevance, object_id) pairs.\n",
    "            The object_assesments iterable is sorted by decreasing order.\n",
    "        - out_f: output file stream.\n",
    "        - max_objects_per_query: cut-off for number of objects per query.\n",
    "    \"\"\"\n",
    "    for subject_id, object_assesments in data.items():\n",
    "        if not object_assesments:\n",
    "            logging.warning('Received empty ranking for %s; ignoring.',\n",
    "                            subject_id)\n",
    "\n",
    "            continue\n",
    "\n",
    "        # Probe types, to make sure everything goes alright.\n",
    "        # assert isinstance(object_assesments[0][0], float) or \\\n",
    "        #     isinstance(object_assesments[0][0], np.float32)\n",
    "        assert isinstance(object_assesments[0][1], str) or \\\n",
    "            isinstance(object_assesments[0][1], bytes)\n",
    "\n",
    "        if not skip_sorting:\n",
    "            object_assesments = sorted(object_assesments, reverse=True)\n",
    "\n",
    "        if max_objects_per_query < sys.maxsize:\n",
    "            object_assesments = object_assesments[:max_objects_per_query]\n",
    "\n",
    "        if isinstance(subject_id, bytes):\n",
    "            subject_id = subject_id.decode('utf8')\n",
    "\n",
    "        for rank, (relevance, object_id) in enumerate(object_assesments):\n",
    "            if isinstance(object_id, bytes):\n",
    "                object_id = object_id.decode('utf8')\n",
    "\n",
    "            out_f.write(\n",
    "                '{subject} Q0 {object} {rank} {relevance} '\n",
    "                '{model_name}\\n'.format(\n",
    "                    subject=subject_id,\n",
    "                    object=object_id,\n",
    "                    rank=rank + 1,\n",
    "                    relevance=relevance,\n",
    "                    model_name=model_name))\n",
    "            \n",
    "# The following writes the run to standard output.\n",
    "# In your code, you should write the runs to local\n",
    "# storage in order to pass them to trec_eval.\n",
    "write_run(\n",
    "    model_name='example',\n",
    "    data={\n",
    "        'Q1': ((1.0, 'DOC1'), (0.5, 'DOC2'), (0.75, 'DOC3')),\n",
    "        'Q2': ((-0.1, 'DOC1'), (1.25, 'DOC2'), (0.0, 'DOC3')),\n",
    "    },\n",
    "    out_f=sys.stdout,\n",
    "    max_objects_per_query=1000)"
   ]
  },
  {
   "cell_type": "markdown",
   "metadata": {},
   "source": [
    "Now, imagine that we know that `DOC1` is relevant and `DOC3` is non-relevant for `Q1`. In addition, for `Q2` we only know of the relevance of `DOC3`. The query relevance file looks like:\n",
    "\n",
    "    Q1 0 DOC1 1\n",
    "    Q1 0 DOC3 0\n",
    "    Q2 0 DOC3 1\n",
    "    \n",
    "We store the run and qrel in files `example.run` and `example.qrel` respectively on disk. We can now use TREC Eval to compute evaluation measures. In this example, we're only interested in Mean Average Precision and we'll only show this below for brevity. However, TREC Eval outputs much more information such as NDCG, recall, precision, etc.\n",
    "\n",
    "    $ trec_eval -m all_trec -q example.qrel example.run | grep -E \"^map\\s\"\n",
    "    > map                   \tQ1\t1.0000\n",
    "    > map                   \tQ2\t0.5000\n",
    "    > map                   \tall\t0.7500\n",
    "    \n",
    "Now that we've discussed the output format of rankings and how you can compute evaluation measures from these rankings, we'll now proceed with an overview of the indexing framework you'll use."
   ]
  },
  {
   "cell_type": "markdown",
   "metadata": {},
   "source": [
    "### Pyndri primer ###\n",
    "For this assignment you will use [Pyndri](https://github.com/cvangysel/pyndri) [[1](https://arxiv.org/abs/1701.00749)], a python interface for [Indri](https://www.lemurproject.org/indri.php). We have indexed the document collection and you can query the index using Pyndri. We will start by giving you some examples of what Pyndri can do:\n",
    "\n",
    "First we read the document collection index with Pyndri:"
   ]
  },
  {
   "cell_type": "code",
   "execution_count": 3,
   "metadata": {
    "scrolled": true
   },
   "outputs": [],
   "source": [
    "import pyndri\n",
    "\n",
    "index = pyndri.Index('index/')"
   ]
  },
  {
   "cell_type": "markdown",
   "metadata": {},
   "source": [
    "The loaded index can be used to access a collection of documents in an easy manner. We'll give you some examples to get some idea of what it can do, it is up to you to figure out how to use it for the remainder of the assignment.\n",
    "\n",
    "First let's look at the number of documents, since Pyndri indexes the documents using incremental identifiers we can simply take the lowest index and the maximum document and consider the difference:"
   ]
  },
  {
   "cell_type": "code",
   "execution_count": 4,
   "metadata": {},
   "outputs": [
    {
     "name": "stdout",
     "output_type": "stream",
     "text": [
      "There are 164597 documents in this collection.\n"
     ]
    }
   ],
   "source": [
    "print(\"There are %d documents in this collection.\" % (index.maximum_document() - index.document_base()))"
   ]
  },
  {
   "cell_type": "markdown",
   "metadata": {},
   "source": [
    "Let's take the first document out of the collection and take a look at it:"
   ]
  },
  {
   "cell_type": "code",
   "execution_count": 5,
   "metadata": {
    "scrolled": true
   },
   "outputs": [
    {
     "data": {
      "text/plain": [
       "tuple"
      ]
     },
     "execution_count": 5,
     "metadata": {},
     "output_type": "execute_result"
    }
   ],
   "source": [
    "example_document = index.document(index.document_base())\n",
    "type(example_document[1])"
   ]
  },
  {
   "cell_type": "markdown",
   "metadata": {},
   "source": [
    "Here we see a document consists of two things, a string representing the external document identifier and an integer list representing the identifiers of words that make up the document. Pyndri uses integer representations for words or terms, thus a token_id is an integer that represents a word whereas the token is the actual text of the word/term. Every id has a unique token and vice versa with the exception of stop words: words so common that there are uninformative, all of these receive the zero id.\n",
    "\n",
    "To see what some ids and their matching tokens we take a look at the dictionary of the index:"
   ]
  },
  {
   "cell_type": "code",
   "execution_count": 6,
   "metadata": {},
   "outputs": [
    {
     "name": "stdout",
     "output_type": "stream",
     "text": [
      "[(1, 'new'), (2, 'percent'), (3, 'two'), (4, '1'), (5, 'people'), (6, 'million'), (7, '000'), (8, 'government'), (9, 'president'), (10, 'years'), (11, 'state'), (12, '2'), (13, 'states'), (14, 'three'), (15, 'time')]\n"
     ]
    }
   ],
   "source": [
    "token2id, id2token, _ = index.get_dictionary()\n",
    "print(list(id2token.items())[:15])"
   ]
  },
  {
   "cell_type": "markdown",
   "metadata": {},
   "source": [
    "Using this dictionary we can see the tokens for the (non-stop) words in our example document:"
   ]
  },
  {
   "cell_type": "code",
   "execution_count": 7,
   "metadata": {},
   "outputs": [
    {
     "name": "stdout",
     "output_type": "stream",
     "text": [
      "['fifty', 'new', 'two', '1', 'percent', 'million', '000', 'safety', 'years', 'state', 'decide', 'time', 'officials', 'police', 'duffey', '5', 'american', 'told', '35', 'tuesday', 'city', 'promotes', 'wednesday', 'monday', 'mario', '23', 'york', 'department', 'demands', '6', 'occupying', 'halt', 'military', 'amherst', 'make', 'issued', 'union', 'spokesman', 'declined', 'trespassing', 'occupation', 'work', 'members', '300', 'militarism', 'staff', 'public', 'chanting', 'route', 'office', 'contended', 'leaving', 'overnight', 'reduced', 'purpose', 'money', 'committee', 'incident', 'hall', 'defense', 'telling', 'school', 'demonstrators', 'later', 'administration', 'service', 'deciccio', 'meeting', 'spokeswoman', 'began', 'dangerous', 'provosts', 'question', 'hearing', 'campus', 'm', 'negotiated', 'occupied', 'board', 'bus', 'rallying', 'left', 'second', 'lying', 'set', 'college', 'protesters', 'came', '11', '25', 'students', 'd', 'suspend', 'statement', 'university', 'increases', 'student', 'researchers', 'increased', 'prompting', 'charges', 'gear', '29', '1988', 'prevent', 'drove', 'latest', 'chapter', 'peaceful', '40', 'conduct', 'policy', 'got', 'canceled', 'health', 'protests', 'april', 'argued', 'looking', '250', 'jeanne', 'hours', '1969', 'chancellor', 'marched', 'away', 'funded', 'protest', 'feared', 'seven', 'bacteria', 'demanding', 'strain', 'presented', 'list', 'western', 'received', 'cuts', '52', 'local', 'governor', 'holiday', 'demonstrating', 'offer', 'budget', 'arrested', 'followed', 'memorial', 'disorderly', 'takeover', 'banned', 'study', 'camped', 'massachusetts', 'continue', 'hopkins', 'riot', 'differently', 'classified', 'town', 'possible', 'anthrax', '60', 'administrators', 'non', 'rules', 'p', 'ducked', 'gov', 'cuomo', 'charged', 'friends', 'building', 'evening', 'arrived', 'scheduled', 'research', 'classes', 'stood', '19', 'morning', 'comment', 'particularly', '22', 'unscheduled', 'virulent', 'joseph', 'en', 'thousands', 'meet', 'grant', 'charles', 'immediate', 'tuition', 'face']\n"
     ]
    }
   ],
   "source": [
    "print([id2token[word_id] for word_id in set(example_document[1]) if word_id > 0])"
   ]
  },
  {
   "cell_type": "markdown",
   "metadata": {},
   "source": [
    "The reverse can also be done, say we want to look for news about the \"University of Massachusetts\", the tokens of that query can be converted to ids using the reverse dictionary:"
   ]
  },
  {
   "cell_type": "code",
   "execution_count": 8,
   "metadata": {},
   "outputs": [
    {
     "name": "stdout",
     "output_type": "stream",
     "text": [
      "Query by tokens: ['university', '', 'massachusetts']\n",
      "Query by ids with stopwords: [200, 0, 894]\n",
      "Query by ids without stopwords: [200, 894]\n"
     ]
    }
   ],
   "source": [
    "query_tokens = index.tokenize(\"University of Massachusetts\")\n",
    "print(\"Query by tokens:\", query_tokens)\n",
    "query_id_tokens = [token2id.get(query_token,0) for query_token in query_tokens]\n",
    "print(\"Query by ids with stopwords:\", query_id_tokens)\n",
    "query_id_tokens = [word_id for word_id in query_id_tokens if word_id > 0]\n",
    "print(\"Query by ids without stopwords:\", query_id_tokens)"
   ]
  },
  {
   "cell_type": "markdown",
   "metadata": {},
   "source": [
    "Naturally we can now match the document and query in the id space, let's see how often a word from the query occurs in our example document:"
   ]
  },
  {
   "cell_type": "code",
   "execution_count": 9,
   "metadata": {},
   "outputs": [
    {
     "name": "stdout",
     "output_type": "stream",
     "text": [
      "Document AP890425-0001 has 13 word matches with query: \"university  massachusetts\".\n",
      "Document AP890425-0001 and query \"university  massachusetts\" have a 2.5% overlap.\n"
     ]
    }
   ],
   "source": [
    "matching_words = sum([True for word_id in example_document[1] if word_id in query_id_tokens])\n",
    "print(\"Document %s has %d word matches with query: \\\"%s\\\".\" % (example_document[0], matching_words, ' '.join(query_tokens)))\n",
    "print(\"Document %s and query \\\"%s\\\" have a %.01f%% overlap.\" % (example_document[0], ' '.join(query_tokens),matching_words/float(len(example_document[1]))*100))"
   ]
  },
  {
   "cell_type": "markdown",
   "metadata": {},
   "source": [
    "While this is certainly not everything Pyndri can do, it should give you an idea of how to use it. Please take a look at the [examples](https://github.com/cvangysel/pyndri) as it will help you a lot with this assignment.\n",
    "\n",
    "**CAUTION**: Avoid printing out the whole index in this Notebook as it will generate a lot of output and is likely to corrupt the Notebook."
   ]
  },
  {
   "cell_type": "markdown",
   "metadata": {},
   "source": [
    "### Parsing the query file\n",
    "You can parse the query file (`ap_88_89/topics_title`) using the following snippet:"
   ]
  },
  {
   "cell_type": "code",
   "execution_count": 10,
   "metadata": {},
   "outputs": [
    {
     "name": "stdout",
     "output_type": "stream",
     "text": [
      "OrderedDict([('51', 'Airbus Subsidies'), ('52', 'South African Sanctions'), ('53', 'Leveraged Buyouts'), ('54', 'Satellite Launch Contracts'), ('55', 'Insider Trading'), ('56', 'Prime (Lending) Rate Moves, Predictions'), ('57', 'MCI'), ('58', 'Rail Strikes'), ('59', 'Weather Related Fatalities'), ('60', 'Merit-Pay vs. Seniority'), ('61', 'Israeli Role in Iran-Contra Affair'), ('62', \"Military Coups D'etat\"), ('63', 'Machine Translation'), ('64', 'Hostage-Taking'), ('65', 'Information Retrieval Systems'), ('66', 'Natural Language Processing'), ('67', 'Politically Motivated Civil Disturbances'), ('68', 'Health Hazards from Fine-Diameter Fibers'), ('69', 'Attempts to Revive the SALT II Treaty'), ('70', 'Surrogate Motherhood'), ('71', 'Border Incursions'), ('72', 'Demographic Shifts in the U.S.'), ('73', 'Demographic Shifts across National Boundaries'), ('74', 'Conflicting Policy'), ('75', 'Automation'), ('76', 'U.S. Constitution - Original Intent'), ('77', 'Poaching'), ('78', 'Greenpeace'), ('79', 'FRG Political Party Positions'), ('80', '1988 Presidential Candidates Platforms'), ('81', 'Financial crunch for televangelists in the wake of the PTL scandal'), ('82', 'Genetic Engineering'), ('83', 'Measures to Protect the Atmosphere'), ('84', 'Alternative/renewable Energy Plant & Equipment Installation'), ('85', 'Official Corruption'), ('86', 'Bank Failures'), ('87', 'Criminal Actions Against Officers of Failed Financial Institutions'), ('88', 'Crude Oil Price Trends'), ('89', '\"Downstream\" Investments by OPEC Member States'), ('90', 'Data on Proven Reserves of Oil & Natural Gas Producers'), ('91', 'U.S. Army Acquisition of Advanced Weapons Systems'), ('92', 'International Military Equipment Sales'), ('93', 'What Backing Does the National Rifle Association Have?'), ('94', 'Computer-aided Crime'), ('95', 'Computer-aided Crime Detection'), ('96', 'Computer-Aided Medical Diagnosis'), ('97', 'Fiber Optics Applications'), ('98', 'Fiber Optics Equipment Manufacturers'), ('99', 'Iran-Contra Affair'), ('100', 'Controlling the Transfer of High Technology'), ('101', 'Design of the \"Star Wars\" Anti-missile Defense System'), ('102', \"Laser Research Applicable to the U.S.'s Strategic Defense Initiative\"), ('103', 'Welfare Reform'), ('104', 'Catastrophic Health Insurance'), ('105', '\"Black Monday\"'), ('106', 'U.S. Control of Insider Trading'), ('107', 'Japanese Regulation of Insider Trading'), ('108', 'Japanese Protectionist Measures'), ('109', 'Find Innovative Companies'), ('110', 'Black Resistance Against the South African Government'), ('111', 'Nuclear Proliferation'), ('112', 'Funding Biotechnology'), ('113', 'New Space Satellite Applications'), ('114', 'Non-commercial Satellite Launches'), ('115', 'Impact of the 1986 Immigration Law'), ('116', 'Generic Drug Substitutions'), ('117', 'Capacity of the U.S. Cellular Telephone Network'), ('118', 'International Terrorists'), ('119', 'Actions Against International Terrorists'), ('120', 'Economic Impact of International Terrorism'), ('121', 'Death from Cancer'), ('122', 'RDT&E of New Cancer Fighting Drugs'), ('123', 'Research into & Control of Carcinogens'), ('124', 'Alternatives to Traditional Cancer Therapies'), ('125', 'Anti-smoking Actions by Government'), ('126', 'Medical Ethics and Modern Technology'), ('127', 'U.S.-U.S.S.R. Arms Control Agreements'), ('128', 'Privatization of State Assets'), ('129', 'Soviet Spying on the U.S.'), ('130', 'Jewish Emigration and U.S.-USSR Relations'), ('131', 'McDonnell Douglas Contracts for Military Aircraft'), ('132', '\"Stealth\" Aircraft'), ('133', 'Hubble Space Telescope'), ('134', 'The Human Genome Project'), ('135', 'Possible Contributions of Gene Mapping to Medicine'), ('136', 'Diversification by Pacific Telesis'), ('137', 'Expansion in the U.S. Theme Park Industry'), ('138', 'Iranian Support for Lebanese Hostage-takers'), ('139', \"Iran's Islamic Revolution - Domestic and Foreign Social Consequences\"), ('140', 'Political Impact of Islamic Fundamentalism'), ('141', \"Japan's Handling of its Trade Surplus with the U.S.\"), ('142', 'Impact of Government Regulated Grain Farming on International Relations'), ('143', 'Why Protect U.S. Farmers?'), ('144', 'Management Problems at the United Nations'), ('145', 'Influence of the \"Pro-Israel Lobby\"'), ('146', 'Negotiating an End to the Nicaraguan Civil War'), ('147', 'Productivity Trends in the U.S. Economy'), ('148', 'Conflict in the Horn of Africa'), ('149', 'Industrial Espionage'), ('150', 'U.S. Political Campaign Financing'), ('151', 'Coping with overcrowded prisons'), ('152', 'Accusations of Cheating by Contractors on U.S. Defense Projects'), ('153', 'Insurance Coverage which pays for Long Term Care'), ('154', 'Oil Spills'), ('155', 'Right Wing Christian Fundamentalism in U.S.'), ('156', 'Efforts to enact Gun Control Legislation'), ('157', 'Causes and treatments of multiple sclerosis (MS)'), ('158', 'Term limitations for members of the U.S. Congress'), ('159', 'Electric Car Development'), ('160', 'Vitamins - The Cure for or Cause of Human Ailments'), ('161', 'Acid Rain'), ('162', 'Automobile Recalls'), ('163', 'Vietnam Veterans and Agent Orange'), ('164', 'Generic Drugs - Illegal Activities by Manufacturers'), ('165', 'Tobacco company advertising and the young'), ('166', 'Standardized testing and cultural bias'), ('167', 'Regulation of the showing of violence and explicit sex in motion picture theaters, on television, and on video cassettes.'), ('168', 'Financing AMTRAK'), ('169', 'Cost of Garbage/Trash Removal'), ('170', 'The Consequences of Implantation of Silicone Gel Breast Devices'), ('171', \"Use of Mutual Funds in an Individual's Retirement Strategy\"), ('172', 'The Effectiveness of Medical Products and Related Programs Utilized in the Cessation of Smoking.'), ('173', 'Smoking Bans'), ('174', 'Hazardous Waste Cleanup'), ('175', 'NRA Prevention of Gun Control Legislation'), ('176', 'Real-life private investigators'), ('177', 'English as the Official Language in U.S.'), ('178', 'Dog Maulings'), ('179', 'U. S. Restaurants in Foreign Lands'), ('180', 'Ineffectiveness of U.S. Embargoes/Sanctions'), ('181', 'Abuse of the Elderly by Family Members, and Medical and Nonmedical Personnel, and Initiatives Being Taken to Minimize This Mistreatment'), ('182', 'Commercial Overfishing Creates Food Fish Deficit'), ('183', 'Asbestos Related Lawsuits'), ('184', 'Corporate Pension Plans/Funds'), ('185', 'Reform of the U.S. Welfare System'), ('186', 'Difference of Learning Levels Among Inner City and More Suburban School Students'), ('187', 'Signs of the Demise of Independent Publishing'), ('188', 'Beachfront Erosion'), ('189', 'Real Motives for Murder'), ('190', 'Instances of Fraud Involving the Use of a Computer'), ('191', 'Efforts to Improve U.S. Schooling'), ('192', 'Oil Spill Cleanup'), ('193', 'Toys R Dangerous'), ('194', 'The Amount of Money Earned by Writers'), ('195', 'Stock Market Perturbations Attributable to Computer Initiated Trading'), ('196', 'School Choice Voucher System and its effects upon the entire U.S. educational program'), ('197', 'Reform of the jurisprudence system to stop juries from granting unreasonable monetary awards'), ('198', 'Gene Therapy and Its Benefits to Humankind'), ('199', 'Legality of Medically Assisted Suicides'), ('200', 'Impact of foreign textile imports on U.S. textile industry')])\n"
     ]
    }
   ],
   "source": [
    "import collections\n",
    "import io\n",
    "import logging\n",
    "import sys\n",
    "\n",
    "def parse_topics(file_or_files,\n",
    "                 max_topics=sys.maxsize, delimiter=';'):\n",
    "    assert max_topics >= 0 or max_topics is None\n",
    "\n",
    "    topics = collections.OrderedDict()\n",
    "\n",
    "    if not isinstance(file_or_files, list) and \\\n",
    "            not isinstance(file_or_files, tuple):\n",
    "        if hasattr(file_or_files, '__iter__'):\n",
    "            file_or_files = list(file_or_files)\n",
    "        else:\n",
    "            file_or_files = [file_or_files]\n",
    "\n",
    "    for f in file_or_files:\n",
    "        assert isinstance(f, io.IOBase)\n",
    "\n",
    "        for line in f:\n",
    "            assert(isinstance(line, str))\n",
    "\n",
    "            line = line.strip()\n",
    "\n",
    "            if not line:\n",
    "                continue\n",
    "\n",
    "            topic_id, terms = line.split(delimiter, 1)\n",
    "\n",
    "            if topic_id in topics and (topics[topic_id] != terms):\n",
    "                    logging.error('Duplicate topic \"%s\" (%s vs. %s).',\n",
    "                                  topic_id,\n",
    "                                  topics[topic_id],\n",
    "                                  terms)\n",
    "\n",
    "            topics[topic_id] = terms\n",
    "\n",
    "            if max_topics > 0 and len(topics) >= max_topics:\n",
    "                break\n",
    "\n",
    "    return topics\n",
    "\n",
    "with open('./ap_88_89/topics_title', 'r') as f_topics:\n",
    "    print(parse_topics([f_topics]))"
   ]
  },
  {
   "cell_type": "markdown",
   "metadata": {},
   "source": [
    "### Task 1: Implement and compare lexical IR methods [35 points] ### \n",
    "\n",
    "In this task you will implement a number of lexical methods for IR using the **Pyndri** framework. Then you will evaluate these methods on the dataset we have provided using **TREC Eval**.\n",
    "\n",
    "Use the **Pyndri** framework to get statistics of the documents (term frequency, document frequency, collection frequency; **you are not allowed to use the query functionality of Pyndri**) and implement the following scoring methods in **Python**:\n",
    "\n",
    "- [TF-IDF](http://nlp.stanford.edu/IR-book/html/htmledition/tf-idf-weighting-1.html) and \n",
    "- [BM25](http://nlp.stanford.edu/IR-book/html/htmledition/okapi-bm25-a-non-binary-model-1.html) with k1=1.2 and b=0.75. **[5 points]**\n",
    "- Language models ([survey](https://drive.google.com/file/d/0B-zklbckv9CHc0c3b245UW90NE0/view))\n",
    "    - Jelinek-Mercer (explore different values of 𝛌 in the range [0.1, 0.5, 0.9]). **[5 points]**\n",
    "    - Dirichlet Prior (explore different values of 𝛍 [500, 1000, 1500]). **[5 points]**\n",
    "    - Absolute discounting (explore different values of 𝛅 in the range [0.1, 0.5, 0.9]). **[5 points]**\n",
    "    - [Positional Language Models](http://sifaka.cs.uiuc.edu/~ylv2/pub/sigir09-plm.pdf) define a language model for each position of a document, and score a document based on the scores of its PLMs. The PLM is estimated based on propagated counts of words within a document through a proximity-based density function, which both captures proximity heuristics and achieves an effect of “soft” passage retrieval. Implement the PLM, all five kernels, but only the Best position strategy to score documents. Use 𝛔 equal to 50, and Dirichlet smoothing with 𝛍 optimized on the validation set (decide how to optimize this value yourself and motivate your decision in the report). **[10 points]**\n",
    "    \n",
    "Implement the above methods and report evaluation measures (on the test set) using the hyper parameter values you optimized on the validation set (also report the values of the hyper parameters). Use TREC Eval to obtain the results and report on `NDCG@10`, Mean Average Precision (`MAP@1000`), `Precision@5` and `Recall@1000`.\n",
    "\n",
    "For the language models, create plots showing `NDCG@10` with varying values of the parameters. You can do this by chaining small scripts using shell scripting (preferred) or execute trec_eval using Python's `subprocess`.\n",
    "\n",
    "Compute significance of the results using a [two-tailed paired Student t-test](https://docs.scipy.org/doc/scipy/reference/generated/scipy.stats.ttest_rel.html) **[5 points]**. Be wary of false rejection of the null hypothesis caused by the [multiple comparisons problem](https://en.wikipedia.org/wiki/Multiple_comparisons_problem). There are multiple ways to mitigate this problem and it is up to you to choose one.\n",
    "\n",
    "Analyse the results by identifying specific queries where different methods succeed or fail and discuss possible reasons that cause these differences. This is *very important* in order to understand who the different retrieval functions behave.\n",
    "\n",
    "**NOTE**: Don’t forget to use log computations in your calculations to avoid underflows. "
   ]
  },
  {
   "cell_type": "markdown",
   "metadata": {},
   "source": [
    "**IMPORTANT**: You should structure your code around the helper functions we provide below."
   ]
  },
  {
   "cell_type": "code",
   "execution_count": 11,
   "metadata": {},
   "outputs": [
    {
     "name": "stderr",
     "output_type": "stream",
     "text": [
      "INFO:root:test\n"
     ]
    }
   ],
   "source": [
    "# libraries\n",
    "import time\n",
    "import numpy as np\n",
    "import math\n",
    "import collections\n",
    "from collections import Counter\n",
    "from collections import defaultdict\n",
    "from operator import itemgetter\n",
    "from pprint import pprint\n",
    "import copy\n",
    "import gensim\n",
    "import logging\n",
    "import pyndri.compat\n",
    "import sys\n",
    "import Cython\n",
    "import multiprocessing\n",
    "import pandas as pd\n",
    "import matplotlib.pyplot as plt\n",
    "from sklearn.metrics.pairwise import cosine_similarity\n",
    "from scipy import stats\n",
    "from statsmodels.sandbox.stats import multicomp\n",
    "np.random.seed(12345678) \n",
    "\n",
    "logger = logging.getLogger()\n",
    "logger.setLevel(logging.INFO)\n",
    "logging.info(\"test\")"
   ]
  },
  {
   "cell_type": "code",
   "execution_count": 12,
   "metadata": {},
   "outputs": [
    {
     "name": "stdout",
     "output_type": "stream",
     "text": [
      "Gathering statistics about 456 terms.\n",
      "Inverted index creation took 38.41906547546387 seconds.\n"
     ]
    }
   ],
   "source": [
    "#with open('./ap_88_89/test_topic', 'r') as f_topics:\n",
    "with open('./ap_88_89/topics_title', 'r') as f_topics:\n",
    "    queries = parse_topics([f_topics])\n",
    "\n",
    "index = pyndri.Index('index/')\n",
    "\n",
    "num_documents = index.maximum_document() - index.document_base()\n",
    "\n",
    "dictionary = pyndri.extract_dictionary(index)\n",
    "\n",
    "tokenized_queries = {\n",
    "    query_id: [dictionary.translate_token(token)\n",
    "               for token in index.tokenize(query_string)\n",
    "               if dictionary.has_token(token)]\n",
    "    for query_id, query_string in queries.items()}\n",
    "\n",
    "query_term_ids = set(\n",
    "    query_term_id\n",
    "    for query_term_ids in tokenized_queries.values()\n",
    "    for query_term_id in query_term_ids)\n",
    "\n",
    "print('Gathering statistics about', len(query_term_ids), 'terms.')\n",
    "\n",
    "start_time = time.time()\n",
    "# inverted index creation.\n",
    "\n",
    "document_lengths = {}\n",
    "unique_terms_per_document = {}\n",
    "\n",
    "inverted_index = collections.defaultdict(dict)\n",
    "collection_frequencies = collections.defaultdict(int)\n",
    "\n",
    "total_terms = 0\n",
    "\n",
    "#______________________we added a list to keep the ext_doc and the tokens in every doc___________\n",
    "doc_list = []\n",
    "max_doc_len = 0\n",
    "\n",
    "for int_doc_id in range(index.document_base(), index.maximum_document()):\n",
    "    ext_doc_id, doc_token_ids = index.document(int_doc_id)\n",
    "    \n",
    "    #--------------------------------------\n",
    "    doc_list.append((ext_doc_id,doc_token_ids))\n",
    "    if(len(doc_token_ids) > max_doc_len):\n",
    "        max_doc_len = len(doc_token_ids)\n",
    "    \n",
    "    #--------------------------------------\n",
    "    document_bow = collections.Counter(\n",
    "        token_id for token_id in doc_token_ids\n",
    "        if token_id > 0)\n",
    "    document_length = sum(document_bow.values())\n",
    "\n",
    "    document_lengths[int_doc_id] = document_length\n",
    "    total_terms += document_length\n",
    "\n",
    "    unique_terms_per_document[int_doc_id] = len(document_bow)\n",
    "\n",
    "    for query_term_id in query_term_ids:\n",
    "        assert query_term_id is not None\n",
    "\n",
    "        document_term_frequency = document_bow.get(query_term_id, 0)\n",
    "\n",
    "        if document_term_frequency == 0:\n",
    "            continue\n",
    "\n",
    "        collection_frequencies[query_term_id] += document_term_frequency\n",
    "        inverted_index[query_term_id][int_doc_id] = document_term_frequency\n",
    "\n",
    "avg_doc_length = total_terms / num_documents\n",
    "\n",
    "print('Inverted index creation took', time.time() - start_time, 'seconds.')"
   ]
  },
  {
   "cell_type": "code",
   "execution_count": 13,
   "metadata": {},
   "outputs": [],
   "source": [
    "def get_tf(int_document_id, query_term_id):\n",
    "    #Returns term frequency (tf_t) for a document\n",
    "    return float(inverted_index.get(query_term_id, 0).get(int_document_id, 0))\n",
    "\n",
    "def collection_freq(query_term_id):\n",
    "    #Returns collection frequency\n",
    "    return collection_frequencies.get(query_term_id, 0)\n",
    "\n",
    "def calc_p_wc(query_term_id):\n",
    "    #Returns background probability p(w|C)\n",
    "    tf_wC = collection_freq(query_term_id)\n",
    "    C = total_terms\n",
    "    return (tf_wC/C)"
   ]
  },
  {
   "cell_type": "code",
   "execution_count": 14,
   "metadata": {},
   "outputs": [],
   "source": [
    "def run_retrieval(model_name, score_fn, hyper_param):\n",
    "    \"\"\"\n",
    "    Runs a retrieval method for all the queries and writes the TREC-friendly results in a file.\n",
    "    \n",
    "    :param model_name: the name of the model (a string)\n",
    "    :param score_fn: the scoring function (a function - see below for an example) \n",
    "    \"\"\"\n",
    "    #-----------------------------------------\n",
    "    if model_name != 'tfidf' and model_name != 'BM25':\n",
    "        model_name = model_name + str(hyper_param)\n",
    "    #-----------------------------------------\n",
    "    run_out_path = str('run_files/') + '{}.run'.format(model_name)\n",
    "\n",
    "#    if os.path.exists(run_out_path):\n",
    "#        return\n",
    "\n",
    "    retrieval_start_time = time.time()\n",
    "\n",
    "\n",
    "    print('Retrieving using', model_name)\n",
    "\n",
    "    data = collections.defaultdict(list)\n",
    "    top1000data = collections.defaultdict(list)\n",
    "\n",
    "    # TODO: fill the data dictionary. \n",
    "    # The dictionary data should have the form: query_id --> (document_score, external_doc_id)\n",
    "    \n",
    "    #for query_id, _ in queries.items():\n",
    "    for query_id, query_terms in tokenized_queries.items():\n",
    "        \n",
    "        score_per_doc = Counter()\n",
    "        '''\n",
    "        We do not go through all documents, we just go through the all documents relate to query term.\n",
    "        For example if we have 5 docs and Q1 = w1 w2 and w1 is inside the doc1 & doc2, w2 is inside doc3\n",
    "        , then we go through doc1, doc2, doc3\n",
    "        '''        \n",
    "        #------------------------docs_to_check = sum of all documents for q:-------------------------\n",
    "        \n",
    "        docs_to_check = set([inverted_index[term_id].keys() for term_id in query_terms][0])\n",
    "        \n",
    "        '''\n",
    "        We check the score for every term of a query for every doc related to that query and assign some score\n",
    "        to them.\n",
    "        In tf-idf when the term is not inside the that doc, we return 0.\n",
    "        In the smoothing methods, we assign some probability to the unseen terms.\n",
    "        '''\n",
    "        #--------------------------find the score(query, doc)-----------------------------------------\n",
    "        #for query_term_id in tokenized_queries[query_id]:\n",
    "        for query_term_id in query_terms:\n",
    "            for int_doc_id in docs_to_check:\n",
    "                document_term_freq = get_tf(int_doc_id, query_term_id)\n",
    "                score_per_doc[int_doc_id] += score_fn(int_doc_id, query_term_id, document_term_freq, hyper_param)\n",
    "                \n",
    "        #------------------------make data set to write in run file------------------------------------        \n",
    "        for int_doc_id in score_per_doc:\n",
    "            data[query_id].append((score_per_doc[int_doc_id], doc_list[int_doc_id - 1][0]))\n",
    "#         sorted_score = sorted(data[query_id], key = itemgetter(0), reverse=True)\n",
    "        \n",
    "#         if model_name == 'tfidf':\n",
    "#             top1000data[query_id] = sorted_score\n",
    "#             del top1000data[query_id][:1000] \n",
    "\n",
    "#         print(query_id, ': ' ,top1000data[query_id][:10])\n",
    "    print('Retrieval took: ', time.time() - retrieval_start_time, 'seconds.')\n",
    "    \n",
    "    with open(run_out_path, 'w') as f_out:\n",
    "        write_run(\n",
    "            model_name=model_name,\n",
    "            data=data,\n",
    "            out_f=f_out,\n",
    "            max_objects_per_query=1000) "
   ]
  },
  {
   "cell_type": "markdown",
   "metadata": {},
   "source": [
    "#### TF - IDF"
   ]
  },
  {
   "cell_type": "code",
   "execution_count": 15,
   "metadata": {
    "scrolled": true
   },
   "outputs": [
    {
     "name": "stdout",
     "output_type": "stream",
     "text": [
      "Retrieving using tfidf\n",
      "Retrieval took:  6.472477197647095 seconds.\n"
     ]
    }
   ],
   "source": [
    "def tfidf(int_document_id, query_term_id, document_term_freq, num_docs):\n",
    "    \"\"\"\n",
    "    Scoring function for a document and a query term\n",
    "    \n",
    "    :param int_document_id: the document id\n",
    "    :param query_token_id: the query term id (assuming you have split the query to tokens)\n",
    "    :param document_term_freq: the document term frequency of the query term \n",
    "    \"\"\"    \n",
    "    score = document_term_freq * math.log10(num_docs/len(inverted_index[query_term_id]))\n",
    "    return score\n",
    "\n",
    "num_documents = index.maximum_document() - index.document_base()\n",
    "run_retrieval('tfidf', tfidf, num_documents)"
   ]
  },
  {
   "cell_type": "markdown",
   "metadata": {},
   "source": [
    "#### BM25"
   ]
  },
  {
   "cell_type": "code",
   "execution_count": 15,
   "metadata": {},
   "outputs": [
    {
     "name": "stdout",
     "output_type": "stream",
     "text": [
      "Retrieving using BM25\n",
      "Retrieval took:  8.763562202453613 seconds.\n"
     ]
    }
   ],
   "source": [
    "hyper_param = [1.2,0.75]\n",
    "'''    \n",
    "k1=1.2\n",
    "b=0.75\n",
    "'''\n",
    "def BM25(int_document_id, query_term_id, document_term_freq, hyper_param):\n",
    "\n",
    "    '''\n",
    "    BM25 with document length normalization\n",
    "    tf = document_term_freq\n",
    "    l_avg = avg_doc_length\n",
    "    l_d = document_lengths[int_document_id]\n",
    "    idf = math.log10(num_documents/len(inverted_index[query_term_id])\n",
    "    '''\n",
    "    k1=hyper_param[0]\n",
    "    b=hyper_param[1]\n",
    "\n",
    "\n",
    "    w_t_numerator = (k1+1) * document_term_freq * math.log10(num_documents / len(inverted_index[query_term_id]))\n",
    "    w_t_denominator = (k1 * (1-b + (b * document_lengths[int_document_id] / avg_doc_length))) + document_term_freq\n",
    "\n",
    "    w_t =  w_t_numerator/w_t_denominator\n",
    "    \n",
    "    return w_t\n",
    "run_retrieval('BM25', BM25, hyper_param)"
   ]
  },
  {
   "cell_type": "markdown",
   "metadata": {},
   "source": [
    "#### Jelinek-Mercer at 𝛌 = [0.1, 0.2, 0.3, 0.4, 0.5, 0.6, 0.7, 0.8, 0.9]"
   ]
  },
  {
   "cell_type": "code",
   "execution_count": 16,
   "metadata": {},
   "outputs": [],
   "source": [
    "def jelinek_mercer(int_document_id, query_term_id, document_term_freq, lmbda):\n",
    "    \n",
    "    tf_wd = document_term_freq\n",
    "    d = document_lengths[int_document_id]\n",
    "    p_wC = calc_p_wc(query_term_id)\n",
    "\n",
    "    pbt_lambda = (1 - lmbda)*(p_wC) + lmbda*(tf_wd/d)\n",
    "    return np.log10(pbt_lambda)"
   ]
  },
  {
   "cell_type": "code",
   "execution_count": 17,
   "metadata": {},
   "outputs": [
    {
     "name": "stdout",
     "output_type": "stream",
     "text": [
      "Retrieving using jelinek_mercer 0.0\n",
      "Retrieval took:  15.619354009628296 seconds.\n",
      "Retrieving using jelinek_mercer 0.1\n",
      "Retrieval took:  15.57999873161316 seconds.\n",
      "Retrieving using jelinek_mercer 0.2\n",
      "Retrieval took:  15.620298147201538 seconds.\n",
      "Retrieving using jelinek_mercer 0.3\n",
      "Retrieval took:  15.651917934417725 seconds.\n",
      "Retrieving using jelinek_mercer 0.4\n",
      "Retrieval took:  15.660192728042603 seconds.\n",
      "Retrieving using jelinek_mercer 0.5\n",
      "Retrieval took:  17.289112329483032 seconds.\n",
      "Retrieving using jelinek_mercer 0.6\n",
      "Retrieval took:  16.052319288253784 seconds.\n",
      "Retrieving using jelinek_mercer 0.7\n",
      "Retrieval took:  15.649085760116577 seconds.\n",
      "Retrieving using jelinek_mercer 0.8\n",
      "Retrieval took:  15.63981294631958 seconds.\n",
      "Retrieving using jelinek_mercer 0.9\n",
      "Retrieval took:  15.662591457366943 seconds.\n"
     ]
    }
   ],
   "source": [
    "for hyper_param in np.arange(0, 1, 0.1): \n",
    "    hyper_param = round(hyper_param, 1)\n",
    "    run_retrieval('jelinek_mercer ', jelinek_mercer, hyper_param)"
   ]
  },
  {
   "cell_type": "markdown",
   "metadata": {},
   "source": [
    "#### Absolute Discounting at 𝛅 = [0.1, 0.2, 0.3, 0.4, 0.5, 0.6, 0.7, 0.8, 0.9]"
   ]
  },
  {
   "cell_type": "code",
   "execution_count": 18,
   "metadata": {},
   "outputs": [
    {
     "name": "stdout",
     "output_type": "stream",
     "text": [
      "Retrieving using absolute_discounting 0.0\n",
      "Retrieval took:  11.808741807937622 seconds.\n",
      "Retrieving using absolute_discounting 0.1\n",
      "Retrieval took:  11.424179077148438 seconds.\n",
      "Retrieving using absolute_discounting 0.2\n",
      "Retrieval took:  11.32679033279419 seconds.\n",
      "Retrieving using absolute_discounting 0.3\n",
      "Retrieval took:  11.321329832077026 seconds.\n",
      "Retrieving using absolute_discounting 0.4\n",
      "Retrieval took:  11.367969512939453 seconds.\n",
      "Retrieving using absolute_discounting 0.5\n",
      "Retrieval took:  11.31329894065857 seconds.\n",
      "Retrieving using absolute_discounting 0.6\n",
      "Retrieval took:  11.29210114479065 seconds.\n",
      "Retrieving using absolute_discounting 0.7\n",
      "Retrieval took:  11.483906269073486 seconds.\n",
      "Retrieving using absolute_discounting 0.8\n",
      "Retrieval took:  11.326082706451416 seconds.\n",
      "Retrieving using absolute_discounting 0.9\n",
      "Retrieval took:  11.35144567489624 seconds.\n"
     ]
    }
   ],
   "source": [
    "#formula from : https://dl.acm.org/citation.cfm?id=384019\n",
    "def absolute_discounting(int_document_id, query_term_id, document_term_freq, delta):\n",
    "    \n",
    "    tf_wd = document_term_freq\n",
    "    d = document_lengths[int_document_id]\n",
    "    #d_u = number of unique words in d\n",
    "    d_u = unique_terms_per_document[int_document_id]\n",
    "    p_wC = calc_p_wc(query_term_id)\n",
    "    \n",
    "    #seen words probability\n",
    "    seen_words = max((tf_wd - delta), 0)/d\n",
    "    \n",
    "    #unseen words probability\n",
    "    unseen_words = delta*(d_u/d)*p_wC\n",
    "\n",
    "    return (seen_words + unseen_words)\n",
    "\n",
    "for hyper_param in np.arange(0, 1, 0.1):\n",
    "    hyper_param = round(hyper_param, 1)\n",
    "    run_retrieval('absolute_discounting ', absolute_discounting, hyper_param)\n",
    "#run_retrieval('absolute_discounting 0.5', absolute_discounting_05)\n",
    "#run_retrieval('absolute_discounting 0.9', absolute_discounting_09)"
   ]
  },
  {
   "cell_type": "markdown",
   "metadata": {},
   "source": [
    "### Task 2: Latent Semantic Models (LSMs) [15 points] ###\n",
    "\n",
    "In this task you will experiment with applying distributional semantics methods ([LSI](http://lsa3.colorado.edu/papers/JASIS.lsi.90.pdf) **[5 points]** and [LDA](https://www.cs.princeton.edu/~blei/papers/BleiNgJordan2003.pdf) **[5 points]**) for retrieval.\n",
    "\n",
    "You do not need to implement LSI or LDA on your own. Instead, you can use [gensim](http://radimrehurek.com/gensim/index.html). An example on how to integrate Pyndri with Gensim for word2vec can be found [here](https://github.com/cvangysel/pyndri/blob/master/examples/word2vec.py). For the remaining latent vector space models, you will need to implement connector classes (such as `IndriSentences`) by yourself.\n",
    "\n",
    "In order to use a latent semantic model for retrieval, you need to:\n",
    "   * build a representation of the query **q**,\n",
    "   * build a representation of the document **d**,\n",
    "   * calculate the similarity between **q** and **d** (e.g., cosine similarity, KL-divergence).\n",
    "     \n",
    "The exact implementation here depends on the latent semantic model you are using. \n",
    "   \n",
    "Each of these LSMs come with various hyperparameters to tune. Make a choice on the parameters, and explicitly mention the reasons that led you to these decisions. You can use the validation set to optimize hyper parameters you see fit; motivate your decisions. In addition, mention clearly how the query/document representations were constructed for each LSM and explain your choices.\n",
    "\n",
    "In this experiment, you will first obtain an initial top-1000 ranking for each query using TF-IDF in **Task 1**, and then re-rank the documents using the LSMs. Use TREC Eval to obtain the results and report on `NDCG@10`, Mean Average Precision (`MAP@1000`), `Precision@5` and `Recall@1000`.\n",
    "\n",
    "Perform significance testing **[5 points]** (similar as in Task 1) in the class of semantic matching methods."
   ]
  },
  {
   "cell_type": "code",
   "execution_count": 16,
   "metadata": {},
   "outputs": [
    {
     "name": "stdout",
     "output_type": "stream",
     "text": [
      "Computing took: \n",
      "104.9135274887085 seconds.\n"
     ]
    }
   ],
   "source": [
    "#first obtain an initial top-1000 ranking for each query using TF-IDF in Task 1\n",
    "docx = {}\n",
    "keys = inverted_index.keys()\n",
    "start_time = time.time()\n",
    "\n",
    "print('Computing took: ')\n",
    "\n",
    "for k in keys:\n",
    "    docx[k] = inverted_index[k].keys()\n",
    "\n",
    "scores = {}\n",
    "top1000_tfidf = {}\n",
    "\n",
    "#create datasets to store scores and document ids separately\n",
    "for query_id, term_idx in tokenized_queries.items():\n",
    "    scores[query_id] = []\n",
    "    docx_set = set()\n",
    "\n",
    "    for term_id in term_idx:\n",
    "        docx_set = docx_set | set(docx[term_id])\n",
    "\n",
    "#compute tfids scores\n",
    "    for d_id in docx_set:\n",
    "        result = 0\n",
    "        for term_id in term_idx:\n",
    "            result += tfidf(d_id, term_id, len(inverted_index.get(term_id, 0)), num_documents)\n",
    "        scores[query_id].append((result, index.document(d_id)[0], d_id))  \n",
    "\n",
    "print(time.time() - start_time, 'seconds.')"
   ]
  },
  {
   "cell_type": "code",
   "execution_count": 17,
   "metadata": {},
   "outputs": [],
   "source": [
    "#store top 1000 tfidf rank queries\n",
    "for query_id, term_idx in tokenized_queries.items():\n",
    "    top1000_tfidf[query_id] = sorted(scores[query_id], key = itemgetter(0), reverse = True)\n",
    "    del top1000_tfidf[query_id][1000:]\n",
    "\n",
    "#pprint(top1000_tfidf)"
   ]
  },
  {
   "cell_type": "code",
   "execution_count": 21,
   "metadata": {},
   "outputs": [
    {
     "data": {
      "text/plain": [
       "\"\\n#read from tfidf run file [query id no. ---- score]\\n\\nMasoumeh, this doesn't work as reading from files like this doesn't generate the .run file in the TREC format \\nand raises errors. Hence I'm reimplementing the above function to compute the top1000 tfidf scores for each query\\n\\ntfidf_file = open('models/tfidf.run', 'r')\\ntop1000_tfidf = collections.defaultdict(list)\\n\\nfor line in tfidf_file:\\n    top1000_tfidf=line.split()\\n     top1000_tfidf[info[0]].append(info[4])  \\n\""
      ]
     },
     "execution_count": 21,
     "metadata": {},
     "output_type": "execute_result"
    }
   ],
   "source": [
    "'''\n",
    "#read from tfidf run file [query id no. ---- score]\n",
    "\n",
    "Masoumeh, this doesn't work as reading from files like this doesn't generate the .run file in the TREC format \n",
    "and raises errors. Hence I'm reimplementing the above function to compute the top1000 tfidf scores for each query\n",
    "\n",
    "tfidf_file = open('models/tfidf.run', 'r')\n",
    "top1000_tfidf = collections.defaultdict(list)\n",
    "\n",
    "for line in tfidf_file:\n",
    "    top1000_tfidf=line.split()\n",
    "     top1000_tfidf[info[0]].append(info[4])  \n",
    "'''"
   ]
  },
  {
   "cell_type": "markdown",
   "metadata": {},
   "source": [
    "## LSMs"
   ]
  },
  {
   "cell_type": "code",
   "execution_count": 18,
   "metadata": {},
   "outputs": [
    {
     "name": "stderr",
     "output_type": "stream",
     "text": [
      "INFO:gensim.utils:loading Dictionary object from run_files/tharangni.dict\n",
      "INFO:gensim.utils:loaded run_files/tharangni.dict\n"
     ]
    }
   ],
   "source": [
    "#Use pyndri and gensim to create LSM Models\n",
    "document = index.document(index.document_base())\n",
    "\n",
    "#indri to get sentences\n",
    "sentences = pyndri.compat.IndriSentences(index, dictionary)\n",
    "\n",
    "#building corpus from sentences\n",
    "if os.path.exists('run_files/tharangni.dict'):\n",
    "    dictionary_corpus = gensim.corpora.Dictionary.load('run_files/tharangni.dict')\n",
    "else:\n",
    "    dictionary_corpus = gensim.corpora.Dictionary(sentences)\n",
    "    dictionary_corpus.save('run_files/tharangni.dict')"
   ]
  },
  {
   "cell_type": "code",
   "execution_count": 19,
   "metadata": {},
   "outputs": [
    {
     "name": "stdout",
     "output_type": "stream",
     "text": [
      "Dictionary(267318 unique tokens: ['montebello', 'griller', 'trawick', '66285', 'mechanized']...)\n"
     ]
    }
   ],
   "source": [
    "# type(list(dictionary_corpus.token2id.items())[267317][1])\n",
    "print(dictionary_corpus)"
   ]
  },
  {
   "cell_type": "code",
   "execution_count": 20,
   "metadata": {},
   "outputs": [
    {
     "name": "stderr",
     "output_type": "stream",
     "text": [
      "INFO:gensim.corpora.indexedcorpus:loaded corpus index from run_files/tharangni.mm.index\n",
      "INFO:gensim.matutils:initializing corpus reader from run_files/tharangni.mm\n",
      "INFO:gensim.matutils:accepted corpus with 164597 documents, 267318 features, 29573706 non-zero entries\n"
     ]
    },
    {
     "name": "stdout",
     "output_type": "stream",
     "text": [
      "Using already saved BOW\n"
     ]
    }
   ],
   "source": [
    "## convert tokenized documents to vectors [DOCUMENT BOW]\n",
    "if os.path.exists('run_files/tharangni.mm'):\n",
    "    corpus = gensim.corpora.MmCorpus('run_files/tharangni.mm')\n",
    "    print('Using already saved BOW')\n",
    "else:\n",
    "    corpus = [dictionary_corpus.doc2bow(sentence) for sentence in sentences]\n",
    "    gensim.corpora.MmCorpus.serialize('run_files/tharangni.mm', corpus) ##<-- saves bow to disk\n",
    "    print('BOW saved to disk')"
   ]
  },
  {
   "cell_type": "code",
   "execution_count": 21,
   "metadata": {},
   "outputs": [],
   "source": [
    "#representation for q (query) [QUERY BOW]\n",
    "query_bow = []\n",
    "\n",
    "#query id and term id in tokenized queries\n",
    "for q_id, t_id in tokenized_queries.items():\n",
    "    word_at_term = [id2token[t] for t in t_id]\n",
    "    query_bow.append(dictionary_corpus.doc2bow(word_at_term))"
   ]
  },
  {
   "cell_type": "markdown",
   "metadata": {},
   "source": [
    "#### LSI"
   ]
  },
  {
   "cell_type": "code",
   "execution_count": 23,
   "metadata": {
    "scrolled": true
   },
   "outputs": [
    {
     "name": "stderr",
     "output_type": "stream",
     "text": [
      "INFO:gensim.utils:loading LsiModel object from run_files/lsi_second_train100\n",
      "INFO:gensim.utils:loading id2word recursively from run_files/lsi_second_train100.id2word.* with mmap=None\n",
      "INFO:gensim.utils:setting ignored attribute dispatcher to None\n",
      "INFO:gensim.utils:setting ignored attribute projection to None\n",
      "INFO:gensim.utils:loaded run_files/lsi_second_train100\n",
      "INFO:gensim.utils:loading LsiModel object from run_files/lsi_second_train100.projection\n",
      "INFO:gensim.utils:loading u from run_files/lsi_second_train100.projection.u.npy with mmap=None\n",
      "INFO:gensim.utils:loaded run_files/lsi_second_train100.projection\n"
     ]
    },
    {
     "name": "stdout",
     "output_type": "stream",
     "text": [
      "Using already saved LSI Model\n"
     ]
    }
   ],
   "source": [
    "#train transformation model for LSI\n",
    "if os.path.exists('run_files/lsi_second_train100'):\n",
    "    lsi_train = gensim.models.LsiModel.load('run_files/lsi_second_train100') #load model from disk\n",
    "    print('Using already saved LSI Model')\n",
    "else:\n",
    "    lsi_train = gensim.models.LsiModel(corpus=corpus, id2word=dictionary_corpus, num_topics=200, distributed=False)\n",
    "    lsi_train.save('run_files/lsi_second_train100')  #save model to disk"
   ]
  },
  {
   "cell_type": "code",
   "execution_count": 24,
   "metadata": {},
   "outputs": [
    {
     "name": "stderr",
     "output_type": "stream",
     "text": [
      "INFO:gensim.models.lsimodel:topic #0(2488.666): 0.296*\"percent\" + 0.200*\"new\" + 0.200*\"1\" + 0.177*\"million\" + 0.144*\"two\" + 0.140*\"000\" + 0.138*\"people\" + 0.135*\"government\" + 0.130*\"president\" + 0.126*\"2\"\n",
      "INFO:gensim.models.lsimodel:topic #1(1623.856): -0.657*\"percent\" + -0.246*\"0\" + -0.211*\"1\" + -0.134*\"2\" + 0.115*\"president\" + 0.114*\"people\" + -0.103*\"3\" + 0.102*\"two\" + -0.099*\"5\" + 0.097*\"government\"\n",
      "INFO:gensim.models.lsimodel:topic #2(1314.568): -0.847*\"y\" + -0.481*\"n\" + -0.120*\"democrats\" + -0.118*\"republicans\" + -0.062*\"x\" + -0.047*\"republican\" + -0.041*\"democrat\" + -0.029*\"smith\" + -0.026*\"percent\" + -0.026*\"d\"\n",
      "INFO:gensim.models.lsimodel:topic #3(1235.856): -0.496*\"percent\" + 0.339*\"1\" + 0.295*\"million\" + -0.208*\"bush\" + 0.179*\"cents\" + -0.169*\"0\" + 0.141*\"2\" + -0.140*\"dukakis\" + -0.110*\"president\" + 0.109*\"higher\"\n",
      "INFO:gensim.models.lsimodel:topic #4(1061.971): -0.473*\"bush\" + -0.273*\"dukakis\" + 0.219*\"police\" + -0.215*\"president\" + 0.155*\"000\" + 0.144*\"people\" + -0.127*\"campaign\" + -0.124*\"house\" + -0.121*\"new\" + 0.120*\"government\"\n"
     ]
    },
    {
     "data": {
      "text/plain": [
       "[(0,\n",
       "  '0.296*\"percent\" + 0.200*\"new\" + 0.200*\"1\" + 0.177*\"million\" + 0.144*\"two\" + 0.140*\"000\" + 0.138*\"people\" + 0.135*\"government\" + 0.130*\"president\" + 0.126*\"2\"'),\n",
       " (1,\n",
       "  '-0.657*\"percent\" + -0.246*\"0\" + -0.211*\"1\" + -0.134*\"2\" + 0.115*\"president\" + 0.114*\"people\" + -0.103*\"3\" + 0.102*\"two\" + -0.099*\"5\" + 0.097*\"government\"'),\n",
       " (2,\n",
       "  '-0.847*\"y\" + -0.481*\"n\" + -0.120*\"democrats\" + -0.118*\"republicans\" + -0.062*\"x\" + -0.047*\"republican\" + -0.041*\"democrat\" + -0.029*\"smith\" + -0.026*\"percent\" + -0.026*\"d\"'),\n",
       " (3,\n",
       "  '-0.496*\"percent\" + 0.339*\"1\" + 0.295*\"million\" + -0.208*\"bush\" + 0.179*\"cents\" + -0.169*\"0\" + 0.141*\"2\" + -0.140*\"dukakis\" + -0.110*\"president\" + 0.109*\"higher\"'),\n",
       " (4,\n",
       "  '-0.473*\"bush\" + -0.273*\"dukakis\" + 0.219*\"police\" + -0.215*\"president\" + 0.155*\"000\" + 0.144*\"people\" + -0.127*\"campaign\" + -0.124*\"house\" + -0.121*\"new\" + 0.120*\"government\"')]"
      ]
     },
     "execution_count": 24,
     "metadata": {},
     "output_type": "execute_result"
    }
   ],
   "source": [
    "lsi_train.print_topics(5)"
   ]
  },
  {
   "cell_type": "code",
   "execution_count": 25,
   "metadata": {},
   "outputs": [],
   "source": [
    "def convert2vec_lsi(representation):\n",
    "    vector = np.zeros(lsi_train.num_topics, dtype=float)\n",
    "    for element in representation:\n",
    "        vector[element[0]] = element[1]\n",
    "    return vector"
   ]
  },
  {
   "cell_type": "code",
   "execution_count": 26,
   "metadata": {},
   "outputs": [],
   "source": [
    "DOC_lsi = lsi_train[corpus]\n",
    "QUERY_lsi = lsi_train[query_bow]"
   ]
  },
  {
   "cell_type": "code",
   "execution_count": 27,
   "metadata": {
    "scrolled": false
   },
   "outputs": [],
   "source": [
    "#create query and document representation\n",
    "'''\n",
    "THIS TAKES A LOT OF TIME TO RUN/EXECUTE!\n",
    "'''\n",
    "lsi_document_representation = {}\n",
    "lsi_cosine_similarity = {}\n",
    "\n",
    "for doc_lsi_term, doc_lsi_id in (zip(DOC_lsi, range(index.document_base(), index.maximum_document()) )):\n",
    "    lsi_document_representation[doc_lsi_id] = doc_lsi_term"
   ]
  },
  {
   "cell_type": "code",
   "execution_count": 28,
   "metadata": {},
   "outputs": [],
   "source": [
    "for query_lsi_id, query_lsi_term in (zip(tokenized_queries.items(), QUERY_lsi)):\n",
    "    lsi_cosine_similarity[query_lsi_id[0]] = []\n",
    "    query_lsi_representation = convert2vec_lsi(query_lsi_term)\n",
    "\n",
    "#re-ranking the top 1000 tfidf queries using lsi\n",
    "    for value in top1000_tfidf[query_lsi_id[0]]:\n",
    "#         print(value,'****---****' ,top1000_tfidf[query_lsi_id[0]])\n",
    "        d = lsi_document_representation[value[2]]\n",
    "        document_lsi_representation = convert2vec_lsi(d)\n",
    "        lsi_cosine_similarity[query_lsi_id[0]].append((\n",
    "            cosine_similarity(query_lsi_representation.reshape(1,-1), document_lsi_representation.reshape(1, -1) )[0][0],\n",
    "            index.document(value[2])[0]))"
   ]
  },
  {
   "cell_type": "code",
   "execution_count": 29,
   "metadata": {},
   "outputs": [],
   "source": [
    "#Create a run file for the LSI model\n",
    "write_run(model_name='lsi_cosine',\n",
    "          data=lsi_cosine_similarity,\n",
    "          out_f=open('run_files/lsi_cosine_tfidf.run', 'w'),\n",
    "          max_objects_per_query=1000)"
   ]
  },
  {
   "cell_type": "markdown",
   "metadata": {},
   "source": [
    "#### LDA "
   ]
  },
  {
   "cell_type": "code",
   "execution_count": null,
   "metadata": {},
   "outputs": [
    {
     "data": {
      "text/plain": [
       "\"\\nTHIS IS TRAINING DIDN'T GIVE SIGNIFICANTLY DIFFERENT RESULTS. HENCE CHANGING THE HYPERPARAMETERS AND TRAINING LDA AGAIN\\n##### train transformation model for LDA\\nif os.path.exists('run_files/lda_train100'):\\n    lda_train = gensim.models.LdaModel.load('run_files/lda_train100') #load model from disk\\n    print('Using already saved LDA Model')\\nelse:\\n#    lda_train = gensim.models.LdaModel(corpus=corpus, id2word=dictionary_corpus, num_topics=100)\\n    lda_train = gensim.models.LdaModel(corpus=corpus, id2word=dictionary_corpus, num_topics=100, update_every=0, passes=20, distributed=True)\\n    lda_train.save('run_files/lda_train100')  #save model to disk\\n\""
      ]
     },
     "execution_count": 30,
     "metadata": {},
     "output_type": "execute_result"
    }
   ],
   "source": [
    "'''\n",
    "THIS IS TRAINING DIDN'T GIVE SIGNIFICANTLY DIFFERENT RESULTS. HENCE CHANGING THE HYPERPARAMETERS AND TRAINING LDA AGAIN\n",
    "##### train transformation model for LDA\n",
    "if os.path.exists('run_files/lda_train100'):\n",
    "    lda_train = gensim.models.LdaModel.load('run_files/lda_train100') #load model from disk\n",
    "    print('Using already saved LDA Model')\n",
    "else:\n",
    "#    lda_train = gensim.models.LdaModel(corpus=corpus, id2word=dictionary_corpus, num_topics=100)\n",
    "    lda_train = gensim.models.LdaModel(corpus=corpus, id2word=dictionary_corpus, num_topics=100, update_every=0, passes=20, distributed=True)\n",
    "    lda_train.save('run_files/lda_train100')  #save model to disk\n",
    "'''"
   ]
  },
  {
   "cell_type": "code",
   "execution_count": 22,
   "metadata": {
    "scrolled": true
   },
   "outputs": [
    {
     "name": "stderr",
     "output_type": "stream",
     "text": [
      "INFO:gensim.models.ldamodel:using symmetric alpha at 0.025\n",
      "INFO:gensim.models.ldamodel:using symmetric eta at 0.025\n",
      "INFO:gensim.models.ldamodel:using serial LDA version on this node\n",
      "INFO:gensim.models.ldamulticore:running online LDA training, 40 topics, 1 passes over the supplied corpus of 164597 documents, updating every 15000 documents, evaluating every ~164597 documents, iterating 5x with a convergence threshold of 0.001000\n",
      "INFO:gensim.models.ldamulticore:training LDA model using 3 processes\n",
      "INFO:gensim.models.ldamulticore:PROGRESS: pass 0, dispatched chunk #0 = documents up to #5000/164597, outstanding queue size 1\n",
      "INFO:gensim.models.ldamulticore:PROGRESS: pass 0, dispatched chunk #1 = documents up to #10000/164597, outstanding queue size 2\n",
      "INFO:gensim.models.ldamulticore:PROGRESS: pass 0, dispatched chunk #2 = documents up to #15000/164597, outstanding queue size 3\n",
      "INFO:gensim.models.ldamulticore:PROGRESS: pass 0, dispatched chunk #3 = documents up to #20000/164597, outstanding queue size 4\n",
      "INFO:gensim.models.ldamulticore:PROGRESS: pass 0, dispatched chunk #4 = documents up to #25000/164597, outstanding queue size 3\n",
      "INFO:gensim.models.ldamodel:merging changes from 15000 documents into a model of 164597 documents\n",
      "INFO:gensim.models.ldamodel:topic #17 (0.025): 0.004*\"1\" + 0.004*\"percent\" + 0.004*\"new\" + 0.003*\"two\" + 0.003*\"years\" + 0.003*\"government\" + 0.003*\"president\" + 0.003*\"people\" + 0.003*\"million\" + 0.003*\"time\"\n",
      "INFO:gensim.models.ldamodel:topic #1 (0.025): 0.005*\"percent\" + 0.004*\"new\" + 0.004*\"1\" + 0.004*\"two\" + 0.003*\"million\" + 0.003*\"years\" + 0.003*\"people\" + 0.003*\"president\" + 0.003*\"000\" + 0.002*\"2\"\n",
      "INFO:gensim.models.ldamodel:topic #29 (0.025): 0.004*\"percent\" + 0.004*\"two\" + 0.003*\"million\" + 0.003*\"1\" + 0.003*\"000\" + 0.003*\"government\" + 0.003*\"new\" + 0.003*\"president\" + 0.003*\"years\" + 0.003*\"people\"\n",
      "INFO:gensim.models.ldamodel:topic #25 (0.025): 0.004*\"two\" + 0.004*\"new\" + 0.004*\"million\" + 0.003*\"government\" + 0.003*\"000\" + 0.003*\"years\" + 0.003*\"president\" + 0.003*\"people\" + 0.003*\"percent\" + 0.003*\"1\"\n",
      "INFO:gensim.models.ldamodel:topic #4 (0.025): 0.005*\"1\" + 0.003*\"new\" + 0.003*\"million\" + 0.003*\"years\" + 0.003*\"two\" + 0.003*\"percent\" + 0.003*\"people\" + 0.003*\"government\" + 0.003*\"000\" + 0.002*\"2\"\n",
      "INFO:gensim.models.ldamodel:topic diff=28.553776, rho=1.000000\n",
      "INFO:gensim.models.ldamulticore:PROGRESS: pass 0, dispatched chunk #5 = documents up to #30000/164597, outstanding queue size 3\n",
      "INFO:gensim.models.ldamulticore:PROGRESS: pass 0, dispatched chunk #6 = documents up to #35000/164597, outstanding queue size 2\n",
      "INFO:gensim.models.ldamulticore:PROGRESS: pass 0, dispatched chunk #7 = documents up to #40000/164597, outstanding queue size 3\n",
      "INFO:gensim.models.ldamulticore:PROGRESS: pass 0, dispatched chunk #8 = documents up to #45000/164597, outstanding queue size 4\n",
      "INFO:gensim.models.ldamodel:merging changes from 20000 documents into a model of 164597 documents\n",
      "INFO:gensim.models.ldamodel:topic #6 (0.025): 0.003*\"million\" + 0.003*\"percent\" + 0.003*\"two\" + 0.003*\"1\" + 0.003*\"2\" + 0.003*\"president\" + 0.003*\"years\" + 0.003*\"government\" + 0.003*\"new\" + 0.003*\"people\"\n",
      "INFO:gensim.models.ldamodel:topic #14 (0.025): 0.004*\"people\" + 0.004*\"two\" + 0.003*\"government\" + 0.003*\"new\" + 0.003*\"million\" + 0.003*\"1\" + 0.003*\"000\" + 0.003*\"years\" + 0.003*\"percent\" + 0.003*\"president\"\n",
      "INFO:gensim.models.ldamodel:topic #12 (0.025): 0.005*\"new\" + 0.004*\"people\" + 0.004*\"percent\" + 0.003*\"government\" + 0.003*\"1\" + 0.003*\"two\" + 0.002*\"million\" + 0.002*\"president\" + 0.002*\"state\" + 0.002*\"police\"\n",
      "INFO:gensim.models.ldamodel:topic #16 (0.025): 0.006*\"new\" + 0.004*\"1\" + 0.004*\"million\" + 0.004*\"government\" + 0.004*\"000\" + 0.003*\"people\" + 0.003*\"years\" + 0.003*\"percent\" + 0.003*\"two\" + 0.003*\"president\"\n",
      "INFO:gensim.models.ldamodel:topic #17 (0.025): 0.004*\"percent\" + 0.004*\"1\" + 0.004*\"new\" + 0.003*\"two\" + 0.003*\"years\" + 0.003*\"government\" + 0.003*\"president\" + 0.003*\"people\" + 0.003*\"million\" + 0.003*\"time\"\n",
      "INFO:gensim.models.ldamodel:topic diff=5.682280, rho=0.500000\n",
      "INFO:gensim.models.ldamulticore:PROGRESS: pass 0, dispatched chunk #9 = documents up to #50000/164597, outstanding queue size 3\n",
      "INFO:gensim.models.ldamulticore:PROGRESS: pass 0, dispatched chunk #10 = documents up to #55000/164597, outstanding queue size 2\n",
      "INFO:gensim.models.ldamulticore:PROGRESS: pass 0, dispatched chunk #11 = documents up to #60000/164597, outstanding queue size 3\n",
      "INFO:gensim.models.ldamulticore:PROGRESS: pass 0, dispatched chunk #12 = documents up to #65000/164597, outstanding queue size 4\n",
      "INFO:gensim.models.ldamodel:merging changes from 15000 documents into a model of 164597 documents\n",
      "INFO:gensim.models.ldamodel:topic #27 (0.025): 0.004*\"new\" + 0.004*\"two\" + 0.004*\"president\" + 0.003*\"1\" + 0.003*\"people\" + 0.003*\"percent\" + 0.003*\"000\" + 0.003*\"government\" + 0.003*\"state\" + 0.002*\"time\"\n",
      "INFO:gensim.models.ldamodel:topic #7 (0.025): 0.004*\"two\" + 0.004*\"million\" + 0.003*\"new\" + 0.003*\"people\" + 0.003*\"000\" + 0.003*\"1\" + 0.003*\"government\" + 0.003*\"percent\" + 0.003*\"state\" + 0.002*\"president\"\n",
      "INFO:gensim.models.ldamodel:topic #34 (0.025): 0.005*\"government\" + 0.004*\"new\" + 0.004*\"people\" + 0.004*\"million\" + 0.003*\"two\" + 0.003*\"percent\" + 0.003*\"years\" + 0.003*\"police\" + 0.003*\"1\" + 0.003*\"president\"\n",
      "INFO:gensim.models.ldamodel:topic #25 (0.025): 0.004*\"two\" + 0.004*\"new\" + 0.003*\"million\" + 0.003*\"government\" + 0.003*\"000\" + 0.003*\"president\" + 0.003*\"years\" + 0.003*\"people\" + 0.002*\"house\" + 0.002*\"percent\"\n",
      "INFO:gensim.models.ldamodel:topic #33 (0.025): 0.005*\"percent\" + 0.004*\"million\" + 0.004*\"new\" + 0.003*\"1\" + 0.003*\"years\" + 0.003*\"president\" + 0.003*\"two\" + 0.003*\"000\" + 0.003*\"people\" + 0.003*\"government\"\n",
      "INFO:gensim.models.ldamodel:topic diff=3.550768, rho=0.353553\n",
      "INFO:gensim.models.ldamulticore:PROGRESS: pass 0, dispatched chunk #13 = documents up to #70000/164597, outstanding queue size 4\n",
      "INFO:gensim.models.ldamodel:merging changes from 15000 documents into a model of 164597 documents\n",
      "INFO:gensim.models.ldamodel:topic #14 (0.025): 0.004*\"people\" + 0.004*\"two\" + 0.003*\"government\" + 0.003*\"new\" + 0.003*\"million\" + 0.003*\"1\" + 0.003*\"000\" + 0.003*\"years\" + 0.003*\"percent\" + 0.003*\"president\"\n",
      "INFO:gensim.models.ldamodel:topic #6 (0.025): 0.003*\"million\" + 0.003*\"percent\" + 0.003*\"two\" + 0.003*\"1\" + 0.003*\"2\" + 0.003*\"years\" + 0.003*\"president\" + 0.003*\"government\" + 0.003*\"new\" + 0.003*\"people\"\n",
      "INFO:gensim.models.ldamodel:topic #36 (0.025): 0.005*\"two\" + 0.003*\"president\" + 0.003*\"police\" + 0.003*\"people\" + 0.003*\"percent\" + 0.003*\"000\" + 0.003*\"new\" + 0.003*\"government\" + 0.002*\"million\" + 0.002*\"1\"\n",
      "INFO:gensim.models.ldamodel:topic #5 (0.025): 0.004*\"two\" + 0.003*\"new\" + 0.003*\"million\" + 0.003*\"people\" + 0.003*\"1\" + 0.003*\"percent\" + 0.003*\"government\" + 0.003*\"years\" + 0.003*\"000\" + 0.002*\"told\"\n",
      "INFO:gensim.models.ldamodel:topic #15 (0.025): 0.004*\"new\" + 0.004*\"government\" + 0.003*\"percent\" + 0.003*\"000\" + 0.003*\"court\" + 0.003*\"people\" + 0.003*\"million\" + 0.003*\"two\" + 0.003*\"president\" + 0.002*\"states\"\n",
      "INFO:gensim.models.ldamodel:topic diff=3.090831, rho=0.301511\n",
      "INFO:gensim.models.ldamulticore:PROGRESS: pass 0, dispatched chunk #14 = documents up to #75000/164597, outstanding queue size 2\n",
      "INFO:gensim.models.ldamulticore:PROGRESS: pass 0, dispatched chunk #15 = documents up to #80000/164597, outstanding queue size 2\n",
      "INFO:gensim.models.ldamulticore:PROGRESS: pass 0, dispatched chunk #16 = documents up to #85000/164597, outstanding queue size 3\n",
      "INFO:gensim.models.ldamulticore:PROGRESS: pass 0, dispatched chunk #17 = documents up to #90000/164597, outstanding queue size 4\n",
      "INFO:gensim.models.ldamodel:merging changes from 15000 documents into a model of 164597 documents\n",
      "INFO:gensim.models.ldamodel:topic #19 (0.025): 0.004*\"new\" + 0.003*\"000\" + 0.003*\"people\" + 0.003*\"government\" + 0.003*\"percent\" + 0.003*\"million\" + 0.003*\"two\" + 0.003*\"president\" + 0.002*\"national\" + 0.002*\"officials\"\n",
      "INFO:gensim.models.ldamodel:topic #11 (0.025): 0.004*\"new\" + 0.003*\"two\" + 0.003*\"years\" + 0.003*\"people\" + 0.003*\"three\" + 0.003*\"1\" + 0.002*\"000\" + 0.002*\"government\" + 0.002*\"time\" + 0.002*\"officials\"\n",
      "INFO:gensim.models.ldamodel:topic #29 (0.025): 0.004*\"percent\" + 0.004*\"two\" + 0.003*\"1\" + 0.003*\"million\" + 0.003*\"government\" + 0.003*\"000\" + 0.003*\"new\" + 0.003*\"years\" + 0.003*\"president\" + 0.003*\"people\"\n"
     ]
    },
    {
     "name": "stderr",
     "output_type": "stream",
     "text": [
      "INFO:gensim.models.ldamodel:topic #13 (0.025): 0.004*\"percent\" + 0.004*\"1\" + 0.004*\"new\" + 0.004*\"president\" + 0.003*\"million\" + 0.003*\"people\" + 0.003*\"government\" + 0.003*\"two\" + 0.003*\"2\" + 0.003*\"years\"\n",
      "INFO:gensim.models.ldamodel:topic #1 (0.025): 0.006*\"percent\" + 0.005*\"1\" + 0.005*\"new\" + 0.004*\"million\" + 0.004*\"two\" + 0.003*\"2\" + 0.003*\"years\" + 0.003*\"people\" + 0.003*\"president\" + 0.002*\"000\"\n",
      "INFO:gensim.models.ldamodel:topic diff=2.877805, rho=0.267261\n",
      "INFO:gensim.models.ldamulticore:PROGRESS: pass 0, dispatched chunk #18 = documents up to #95000/164597, outstanding queue size 3\n",
      "INFO:gensim.models.ldamulticore:PROGRESS: pass 0, dispatched chunk #19 = documents up to #100000/164597, outstanding queue size 2\n",
      "INFO:gensim.models.ldamulticore:PROGRESS: pass 0, dispatched chunk #20 = documents up to #105000/164597, outstanding queue size 3\n",
      "INFO:gensim.models.ldamulticore:PROGRESS: pass 0, dispatched chunk #21 = documents up to #110000/164597, outstanding queue size 4\n",
      "INFO:gensim.models.ldamodel:merging changes from 20000 documents into a model of 164597 documents\n",
      "INFO:gensim.models.ldamodel:topic #11 (0.025): 0.004*\"new\" + 0.003*\"two\" + 0.003*\"years\" + 0.003*\"three\" + 0.003*\"people\" + 0.003*\"1\" + 0.002*\"000\" + 0.002*\"government\" + 0.002*\"time\" + 0.002*\"officials\"\n",
      "INFO:gensim.models.ldamodel:topic #35 (0.025): 0.005*\"new\" + 0.004*\"1\" + 0.004*\"percent\" + 0.003*\"million\" + 0.003*\"president\" + 0.003*\"government\" + 0.003*\"bush\" + 0.003*\"two\" + 0.003*\"000\" + 0.003*\"state\"\n",
      "INFO:gensim.models.ldamodel:topic #13 (0.025): 0.004*\"percent\" + 0.004*\"1\" + 0.004*\"new\" + 0.004*\"president\" + 0.003*\"million\" + 0.003*\"people\" + 0.003*\"government\" + 0.003*\"two\" + 0.003*\"2\" + 0.003*\"years\"\n",
      "INFO:gensim.models.ldamodel:topic #34 (0.025): 0.005*\"government\" + 0.004*\"people\" + 0.004*\"new\" + 0.003*\"two\" + 0.003*\"million\" + 0.003*\"police\" + 0.003*\"years\" + 0.003*\"president\" + 0.002*\"000\" + 0.002*\"percent\"\n",
      "INFO:gensim.models.ldamodel:topic #16 (0.025): 0.006*\"new\" + 0.004*\"1\" + 0.004*\"million\" + 0.004*\"000\" + 0.003*\"government\" + 0.003*\"people\" + 0.003*\"percent\" + 0.003*\"years\" + 0.003*\"two\" + 0.002*\"president\"\n",
      "INFO:gensim.models.ldamodel:topic diff=3.495407, rho=0.242536\n",
      "INFO:gensim.models.ldamulticore:PROGRESS: pass 0, dispatched chunk #22 = documents up to #115000/164597, outstanding queue size 3\n",
      "INFO:gensim.models.ldamulticore:PROGRESS: pass 0, dispatched chunk #23 = documents up to #120000/164597, outstanding queue size 2\n",
      "INFO:gensim.models.ldamulticore:PROGRESS: pass 0, dispatched chunk #24 = documents up to #125000/164597, outstanding queue size 3\n",
      "INFO:gensim.models.ldamulticore:PROGRESS: pass 0, dispatched chunk #25 = documents up to #130000/164597, outstanding queue size 4\n",
      "INFO:gensim.models.ldamodel:merging changes from 15000 documents into a model of 164597 documents\n",
      "INFO:gensim.models.ldamodel:topic #1 (0.025): 0.010*\"percent\" + 0.007*\"1\" + 0.005*\"new\" + 0.005*\"2\" + 0.004*\"million\" + 0.004*\"cents\" + 0.004*\"stock\" + 0.003*\"3\" + 0.003*\"two\" + 0.003*\"lower\"\n",
      "INFO:gensim.models.ldamodel:topic #18 (0.025): 0.009*\"1\" + 0.006*\"new\" + 0.005*\"percent\" + 0.004*\"000\" + 0.004*\"2\" + 0.003*\"government\" + 0.003*\"million\" + 0.003*\"two\" + 0.003*\"people\" + 0.002*\"years\"\n",
      "INFO:gensim.models.ldamodel:topic #7 (0.025): 0.005*\"two\" + 0.003*\"people\" + 0.003*\"000\" + 0.003*\"new\" + 0.003*\"million\" + 0.003*\"state\" + 0.003*\"government\" + 0.002*\"three\" + 0.002*\"told\" + 0.002*\"1\"\n",
      "INFO:gensim.models.ldamodel:topic #34 (0.025): 0.005*\"government\" + 0.004*\"people\" + 0.004*\"new\" + 0.004*\"two\" + 0.003*\"million\" + 0.003*\"police\" + 0.003*\"years\" + 0.003*\"president\" + 0.002*\"000\" + 0.002*\"soviet\"\n",
      "INFO:gensim.models.ldamodel:topic #20 (0.025): 0.004*\"government\" + 0.004*\"police\" + 0.004*\"two\" + 0.003*\"percent\" + 0.003*\"new\" + 0.003*\"president\" + 0.003*\"people\" + 0.003*\"soviet\" + 0.003*\"officials\" + 0.003*\"state\"\n",
      "INFO:gensim.models.ldamodel:topic diff=2.871134, rho=0.218218\n",
      "INFO:gensim.models.ldamulticore:PROGRESS: pass 0, dispatched chunk #26 = documents up to #135000/164597, outstanding queue size 4\n",
      "INFO:gensim.models.ldamodel:merging changes from 15000 documents into a model of 164597 documents\n",
      "INFO:gensim.models.ldamodel:topic #11 (0.025): 0.004*\"new\" + 0.004*\"two\" + 0.003*\"three\" + 0.003*\"years\" + 0.003*\"people\" + 0.002*\"000\" + 0.002*\"officials\" + 0.002*\"time\" + 0.002*\"old\" + 0.002*\"government\"\n",
      "INFO:gensim.models.ldamodel:topic #4 (0.025): 0.005*\"1\" + 0.004*\"million\" + 0.004*\"new\" + 0.003*\"years\" + 0.003*\"percent\" + 0.003*\"two\" + 0.003*\"officials\" + 0.003*\"people\" + 0.003*\"2\" + 0.002*\"000\"\n",
      "INFO:gensim.models.ldamodel:topic #34 (0.025): 0.005*\"government\" + 0.004*\"people\" + 0.004*\"two\" + 0.004*\"new\" + 0.003*\"police\" + 0.003*\"million\" + 0.003*\"years\" + 0.003*\"president\" + 0.002*\"000\" + 0.002*\"soviet\"\n",
      "INFO:gensim.models.ldamodel:topic #25 (0.025): 0.005*\"two\" + 0.004*\"new\" + 0.003*\"president\" + 0.003*\"government\" + 0.003*\"000\" + 0.003*\"years\" + 0.003*\"people\" + 0.003*\"soviet\" + 0.003*\"million\" + 0.003*\"house\"\n",
      "INFO:gensim.models.ldamodel:topic #39 (0.025): 0.005*\"million\" + 0.004*\"1\" + 0.004*\"new\" + 0.004*\"years\" + 0.004*\"percent\" + 0.003*\"two\" + 0.003*\"government\" + 0.003*\"people\" + 0.003*\"000\" + 0.003*\"2\"\n",
      "INFO:gensim.models.ldamodel:topic diff=2.695710, rho=0.204124\n",
      "INFO:gensim.models.ldamulticore:PROGRESS: pass 0, dispatched chunk #27 = documents up to #140000/164597, outstanding queue size 2\n",
      "INFO:gensim.models.ldamulticore:PROGRESS: pass 0, dispatched chunk #28 = documents up to #145000/164597, outstanding queue size 2\n",
      "INFO:gensim.models.ldamulticore:PROGRESS: pass 0, dispatched chunk #29 = documents up to #150000/164597, outstanding queue size 3\n",
      "INFO:gensim.models.ldamulticore:PROGRESS: pass 0, dispatched chunk #30 = documents up to #155000/164597, outstanding queue size 4\n",
      "INFO:gensim.models.ldamodel:merging changes from 15000 documents into a model of 164597 documents\n",
      "INFO:gensim.models.ldamodel:topic #27 (0.025): 0.004*\"president\" + 0.004*\"two\" + 0.004*\"new\" + 0.004*\"people\" + 0.003*\"state\" + 0.003*\"000\" + 0.003*\"government\" + 0.003*\"percent\" + 0.003*\"time\" + 0.002*\"1\"\n",
      "INFO:gensim.models.ldamodel:topic #2 (0.025): 0.004*\"state\" + 0.004*\"two\" + 0.004*\"new\" + 0.003*\"people\" + 0.003*\"000\" + 0.003*\"dukakis\" + 0.003*\"president\" + 0.003*\"years\" + 0.002*\"government\" + 0.002*\"million\"\n",
      "INFO:gensim.models.ldamodel:topic #9 (0.025): 0.005*\"government\" + 0.005*\"people\" + 0.004*\"soviet\" + 0.004*\"new\" + 0.003*\"two\" + 0.003*\"bush\" + 0.003*\"president\" + 0.002*\"party\" + 0.002*\"south\" + 0.002*\"states\"\n",
      "INFO:gensim.models.ldamodel:topic #10 (0.025): 0.004*\"people\" + 0.004*\"two\" + 0.004*\"new\" + 0.004*\"000\" + 0.004*\"years\" + 0.003*\"time\" + 0.003*\"percent\" + 0.003*\"president\" + 0.002*\"state\" + 0.002*\"government\"\n",
      "INFO:gensim.models.ldamodel:topic #32 (0.025): 0.005*\"new\" + 0.003*\"000\" + 0.003*\"million\" + 0.003*\"state\" + 0.003*\"president\" + 0.003*\"years\" + 0.002*\"two\" + 0.002*\"officials\" + 0.002*\"people\" + 0.002*\"percent\"\n",
      "INFO:gensim.models.ldamodel:topic diff=2.519543, rho=0.192450\n",
      "INFO:gensim.models.ldamulticore:PROGRESS: pass 0, dispatched chunk #31 = documents up to #160000/164597, outstanding queue size 3\n",
      "INFO:gensim.models.ldamulticore:PROGRESS: pass 0, dispatched chunk #32 = documents up to #164597/164597, outstanding queue size 2\n",
      "INFO:gensim.models.ldamodel:merging changes from 15000 documents into a model of 164597 documents\n",
      "INFO:gensim.models.ldamodel:topic #32 (0.025): 0.005*\"new\" + 0.003*\"000\" + 0.003*\"state\" + 0.003*\"million\" + 0.003*\"president\" + 0.003*\"years\" + 0.002*\"two\" + 0.002*\"people\" + 0.002*\"officials\" + 0.002*\"percent\"\n",
      "INFO:gensim.models.ldamodel:topic #14 (0.025): 0.005*\"dukakis\" + 0.004*\"people\" + 0.004*\"two\" + 0.004*\"government\" + 0.003*\"state\" + 0.003*\"president\" + 0.003*\"years\" + 0.003*\"new\" + 0.003*\"000\" + 0.003*\"million\"\n",
      "INFO:gensim.models.ldamodel:topic #34 (0.025): 0.005*\"government\" + 0.004*\"people\" + 0.004*\"two\" + 0.003*\"new\" + 0.003*\"police\" + 0.003*\"soviet\" + 0.003*\"years\" + 0.003*\"president\" + 0.002*\"million\" + 0.002*\"000\"\n",
      "INFO:gensim.models.ldamodel:topic #22 (0.025): 0.005*\"new\" + 0.004*\"million\" + 0.004*\"percent\" + 0.004*\"000\" + 0.004*\"president\" + 0.004*\"1\" + 0.003*\"two\" + 0.003*\"bush\" + 0.003*\"years\" + 0.002*\"5\"\n",
      "INFO:gensim.models.ldamodel:topic #18 (0.025): 0.013*\"1\" + 0.007*\"new\" + 0.005*\"percent\" + 0.005*\"000\" + 0.004*\"2\" + 0.003*\"late\" + 0.003*\"million\" + 0.003*\"government\" + 0.003*\"gold\" + 0.003*\"billion\"\n"
     ]
    },
    {
     "name": "stderr",
     "output_type": "stream",
     "text": [
      "INFO:gensim.models.ldamodel:topic diff=2.364210, rho=0.182574\n",
      "INFO:gensim.models.ldamodel:merging changes from 4597 documents into a model of 164597 documents\n",
      "INFO:gensim.models.ldamodel:topic #12 (0.025): 0.005*\"new\" + 0.004*\"people\" + 0.003*\"two\" + 0.002*\"time\" + 0.002*\"state\" + 0.002*\"national\" + 0.002*\"government\" + 0.002*\"percent\" + 0.002*\"aids\" + 0.002*\"police\"\n",
      "INFO:gensim.models.ldamodel:topic #19 (0.025): 0.004*\"new\" + 0.004*\"government\" + 0.004*\"people\" + 0.003*\"000\" + 0.003*\"president\" + 0.003*\"two\" + 0.003*\"national\" + 0.002*\"officials\" + 0.002*\"united\" + 0.002*\"three\"\n",
      "INFO:gensim.models.ldamodel:topic #24 (0.025): 0.009*\"y\" + 0.007*\"n\" + 0.007*\"democrats\" + 0.006*\"republicans\" + 0.006*\"new\" + 0.005*\"republican\" + 0.004*\"percent\" + 0.003*\"x\" + 0.003*\"yes\" + 0.003*\"1\"\n",
      "INFO:gensim.models.ldamodel:topic #8 (0.025): 0.005*\"people\" + 0.004*\"new\" + 0.004*\"million\" + 0.004*\"000\" + 0.004*\"years\" + 0.004*\"two\" + 0.003*\"government\" + 0.003*\"soviet\" + 0.002*\"president\" + 0.002*\"three\"\n",
      "INFO:gensim.models.ldamodel:topic #33 (0.025): 0.006*\"percent\" + 0.005*\"million\" + 0.004*\"new\" + 0.004*\"president\" + 0.004*\"years\" + 0.003*\"000\" + 0.003*\"two\" + 0.003*\"people\" + 0.003*\"1\" + 0.003*\"government\"\n",
      "INFO:gensim.models.ldamodel:topic diff=1.738017, rho=0.174078\n",
      "INFO:gensim.models.ldamodel:-9.442 per-word bound, 695.5 perplexity estimate based on a held-out corpus of 4597 documents with 1171423 words\n",
      "INFO:gensim.utils:saving LdaState object under run_files/lda_second_train100.state, separately None\n",
      "INFO:gensim.utils:storing np array 'sstats' to run_files/lda_second_train100.state.sstats.npy\n",
      "INFO:gensim.utils:saved run_files/lda_second_train100.state\n",
      "INFO:gensim.utils:saving LdaMulticore object under run_files/lda_second_train100, separately ['expElogbeta', 'sstats']\n",
      "INFO:gensim.utils:not storing attribute id2word\n",
      "INFO:gensim.utils:storing np array 'expElogbeta' to run_files/lda_second_train100.expElogbeta.npy\n",
      "INFO:gensim.utils:not storing attribute dispatcher\n",
      "INFO:gensim.utils:not storing attribute state\n",
      "INFO:gensim.utils:saved run_files/lda_second_train100\n"
     ]
    }
   ],
   "source": [
    "##### train transformation model for LDA\n",
    "if os.path.exists('run_files/lda_second_train100'):\n",
    "    lda_train = gensim.models.ldamulticore.LdaMulticore.load('run_files/lda_second_train100') #load model from disk\n",
    "    print('Using already saved LDA Model')\n",
    "else:\n",
    "#    lda_train = gensim.models.LdaModel(corpus=corpus, id2word=dictionary_corpus, num_topics=100)\n",
    "    lda_train = gensim.models.ldamulticore.LdaMulticore(corpus=corpus, id2word=dictionary_corpus, num_topics=40, \n",
    "                                                        workers=3, passes=1, eval_every=1000, iterations=5,\n",
    "                                                       batch=False, alpha='symmetric', minimum_probability=0.1,\n",
    "                                                       chunksize=5000)\n",
    "    lda_train.save('run_files/lda_second_train100')  #save model to disk\n"
   ]
  },
  {
   "cell_type": "code",
   "execution_count": 23,
   "metadata": {},
   "outputs": [
    {
     "name": "stderr",
     "output_type": "stream",
     "text": [
      "INFO:gensim.models.ldamodel:topic #31 (0.025): 0.004*\"two\" + 0.004*\"million\" + 0.004*\"new\" + 0.003*\"000\" + 0.003*\"percent\" + 0.003*\"people\" + 0.002*\"time\" + 0.002*\"state\" + 0.002*\"three\" + 0.002*\"police\"\n",
      "INFO:gensim.models.ldamodel:topic #30 (0.025): 0.005*\"people\" + 0.004*\"two\" + 0.004*\"new\" + 0.003*\"000\" + 0.003*\"percent\" + 0.003*\"1\" + 0.003*\"three\" + 0.003*\"million\" + 0.002*\"time\" + 0.002*\"years\"\n",
      "INFO:gensim.models.ldamodel:topic #14 (0.025): 0.005*\"dukakis\" + 0.004*\"people\" + 0.004*\"government\" + 0.004*\"two\" + 0.003*\"president\" + 0.003*\"state\" + 0.003*\"years\" + 0.003*\"new\" + 0.003*\"000\" + 0.002*\"million\"\n",
      "INFO:gensim.models.ldamodel:topic #6 (0.025): 0.003*\"president\" + 0.003*\"two\" + 0.003*\"million\" + 0.003*\"years\" + 0.003*\"government\" + 0.003*\"states\" + 0.003*\"percent\" + 0.003*\"new\" + 0.003*\"people\" + 0.003*\"000\"\n",
      "INFO:gensim.models.ldamodel:topic #34 (0.025): 0.005*\"government\" + 0.004*\"people\" + 0.004*\"two\" + 0.003*\"new\" + 0.003*\"police\" + 0.003*\"soviet\" + 0.003*\"president\" + 0.003*\"years\" + 0.002*\"million\" + 0.002*\"000\"\n"
     ]
    },
    {
     "data": {
      "text/plain": [
       "[(31,\n",
       "  '0.004*\"two\" + 0.004*\"million\" + 0.004*\"new\" + 0.003*\"000\" + 0.003*\"percent\" + 0.003*\"people\" + 0.002*\"time\" + 0.002*\"state\" + 0.002*\"three\" + 0.002*\"police\"'),\n",
       " (30,\n",
       "  '0.005*\"people\" + 0.004*\"two\" + 0.004*\"new\" + 0.003*\"000\" + 0.003*\"percent\" + 0.003*\"1\" + 0.003*\"three\" + 0.003*\"million\" + 0.002*\"time\" + 0.002*\"years\"'),\n",
       " (14,\n",
       "  '0.005*\"dukakis\" + 0.004*\"people\" + 0.004*\"government\" + 0.004*\"two\" + 0.003*\"president\" + 0.003*\"state\" + 0.003*\"years\" + 0.003*\"new\" + 0.003*\"000\" + 0.002*\"million\"'),\n",
       " (6,\n",
       "  '0.003*\"president\" + 0.003*\"two\" + 0.003*\"million\" + 0.003*\"years\" + 0.003*\"government\" + 0.003*\"states\" + 0.003*\"percent\" + 0.003*\"new\" + 0.003*\"people\" + 0.003*\"000\"'),\n",
       " (34,\n",
       "  '0.005*\"government\" + 0.004*\"people\" + 0.004*\"two\" + 0.003*\"new\" + 0.003*\"police\" + 0.003*\"soviet\" + 0.003*\"president\" + 0.003*\"years\" + 0.002*\"million\" + 0.002*\"000\"')]"
      ]
     },
     "execution_count": 23,
     "metadata": {},
     "output_type": "execute_result"
    }
   ],
   "source": [
    "lda_train.print_topics(5)"
   ]
  },
  {
   "cell_type": "code",
   "execution_count": 24,
   "metadata": {},
   "outputs": [],
   "source": [
    "def convert2vec_lda(representation):\n",
    "    vector = np.zeros(lda_train.num_topics, dtype=float)\n",
    "    for element in representation:\n",
    "        vector[element[0]] = element[1]\n",
    "    return vector"
   ]
  },
  {
   "cell_type": "code",
   "execution_count": 25,
   "metadata": {},
   "outputs": [],
   "source": [
    "DOC_lda = lda_train[corpus]\n",
    "QUERY_lda = lda_train[query_bow]"
   ]
  },
  {
   "cell_type": "code",
   "execution_count": 26,
   "metadata": {},
   "outputs": [],
   "source": [
    "#create query and document representation\n",
    "lda_document_representation = {}\n",
    "lda_cosine_similarity = {}\n",
    "\n",
    "for doc_lda_term, doc_lda_id in (zip(DOC_lda, range(index.document_base(), index.maximum_document()) )):\n",
    "    lda_document_representation[doc_lda_id] = doc_lda_term"
   ]
  },
  {
   "cell_type": "code",
   "execution_count": 27,
   "metadata": {},
   "outputs": [],
   "source": [
    "for query_lda_id, query_lda_term in (zip(tokenized_queries.items(), QUERY_lda)):\n",
    "    lda_cosine_similarity[query_lda_id[0]] = []\n",
    "    query_lda_representation = convert2vec_lda(query_lda_term)\n",
    "    \n",
    "    for value in top1000_tfidf[query_lda_id[0]]:\n",
    "#         print(value,'****---****' ,top1000_tfidf[query_lsi_id[0]])\n",
    "        d = lda_document_representation[value[2]]\n",
    "        document_lda_representation = convert2vec_lda(d)\n",
    "        lda_cosine_similarity[query_lda_id[0]].append((\n",
    "            cosine_similarity(query_lda_representation.reshape(1,-1), document_lda_representation.reshape(1, -1))[0][0],\n",
    "            index.document(value[2])[0]))"
   ]
  },
  {
   "cell_type": "code",
   "execution_count": 30,
   "metadata": {},
   "outputs": [],
   "source": [
    "#Create a run file for the LDA model\n",
    "write_run(model_name='lda_2_cosine',\n",
    "          data=lda_cosine_similarity,\n",
    "          out_f=open('run_files/lda_2_cosine_tfidf.run', 'w'),\n",
    "          max_objects_per_query=1000)"
   ]
  },
  {
   "cell_type": "code",
   "execution_count": 31,
   "metadata": {},
   "outputs": [
    {
     "name": "stdout",
     "output_type": "stream",
     "text": [
      "{'LSA_models': ['lda_2_cosine_tfidf', 'lsi_cosine_tfidf']}\n"
     ]
    }
   ],
   "source": [
    "def parse_results(results_file):\n",
    "    results_lines = [l.strip('\\n') for l in open(results_file, 'r').readlines()]\n",
    "    eval_measure = None\n",
    "    results_by_scoring = defaultdict(lambda: defaultdict(dict))\n",
    "    results_by_eval = defaultdict(lambda: defaultdict(dict))\n",
    "    means = defaultdict(lambda: defaultdict(float))\n",
    "    \n",
    "    for line in results_lines:\n",
    "        if line.startswith('MODEL:'):\n",
    "            scoring_method = line.split(': ')[1]\n",
    "            continue\n",
    "        else:\n",
    "            eval_measure, query, result = line.split()\n",
    "            if query == 'all':\n",
    "                means[eval_measure][scoring_method] = result\n",
    "            else:\n",
    "                results_by_scoring[scoring_method][eval_measure][int(query)] = float(result)\n",
    "                \n",
    "    for scoring_method in results_by_scoring.keys():\n",
    "        for eval_measure in results_by_scoring[scoring_method].keys():\n",
    "            for query, result in results_by_scoring[scoring_method][eval_measure].items():\n",
    "                results_by_eval[eval_measure][scoring_method][query] = float(result)\n",
    "\n",
    "    return means, results_by_scoring, results_by_eval\n",
    "    \n",
    "means, scoring_dict, eval_dict = parse_results('all_results_validation.txt')\n",
    "\n",
    "language_models = {\n",
    "    'LSA_models' : [setting for setting in list(means['ndcg_cut_10'])\n",
    "                   if setting.startswith('lsi_cosine_tfidf') or setting.startswith('lda_2_cosine_tfidf')]}\n",
    "pprint(language_models)"
   ]
  },
  {
   "cell_type": "code",
   "execution_count": 32,
   "metadata": {},
   "outputs": [
    {
     "data": {
      "text/html": [
       "<div>\n",
       "<style scoped>\n",
       "    .dataframe tbody tr th:only-of-type {\n",
       "        vertical-align: middle;\n",
       "    }\n",
       "\n",
       "    .dataframe tbody tr th {\n",
       "        vertical-align: top;\n",
       "    }\n",
       "\n",
       "    .dataframe thead th {\n",
       "        text-align: right;\n",
       "    }\n",
       "</style>\n",
       "<table border=\"1\" class=\"dataframe\">\n",
       "  <thead>\n",
       "    <tr style=\"text-align: right;\">\n",
       "      <th></th>\n",
       "      <th>P_5</th>\n",
       "      <th>map_cut_1000</th>\n",
       "      <th>ndcg_cut_10</th>\n",
       "      <th>recall_1000</th>\n",
       "    </tr>\n",
       "  </thead>\n",
       "  <tbody>\n",
       "    <tr>\n",
       "      <th>lda_2_cosine_tfidf</th>\n",
       "      <td>0.0600</td>\n",
       "      <td>0.0378</td>\n",
       "      <td>0.0670</td>\n",
       "      <td>0.1662</td>\n",
       "    </tr>\n",
       "    <tr>\n",
       "      <th>lsi_cosine_tfidf</th>\n",
       "      <td>0.1400</td>\n",
       "      <td>0.0596</td>\n",
       "      <td>0.1311</td>\n",
       "      <td>0.1662</td>\n",
       "    </tr>\n",
       "    <tr>\n",
       "      <th>tfidf</th>\n",
       "      <td>0.2133</td>\n",
       "      <td>0.1252</td>\n",
       "      <td>0.2016</td>\n",
       "      <td>0.3676</td>\n",
       "    </tr>\n",
       "  </tbody>\n",
       "</table>\n",
       "</div>"
      ],
      "text/plain": [
       "                       P_5 map_cut_1000 ndcg_cut_10 recall_1000\n",
       "lda_2_cosine_tfidf  0.0600       0.0378      0.0670      0.1662\n",
       "lsi_cosine_tfidf    0.1400       0.0596      0.1311      0.1662\n",
       "tfidf               0.2133       0.1252      0.2016      0.3676"
      ]
     },
     "execution_count": 32,
     "metadata": {},
     "output_type": "execute_result"
    }
   ],
   "source": [
    "means_df = pd.DataFrame.from_dict(means)\n",
    "means_df"
   ]
  },
  {
   "cell_type": "code",
   "execution_count": 33,
   "metadata": {},
   "outputs": [],
   "source": [
    "measures = ['P_5', 'map_cut_1000', 'ndcg_cut_10', 'recall_1000']"
   ]
  },
  {
   "cell_type": "code",
   "execution_count": 34,
   "metadata": {},
   "outputs": [
    {
     "data": {
      "image/png": "[encoded data removed]",
      "text/plain": [
       "<matplotlib.figure.Figure at 0x7fb183ebfc50>"
      ]
     },
     "metadata": {},
     "output_type": "display_data"
    },
    {
     "data": {
      "image/png": "[encoded data removed]",
      "text/plain": [
       "<matplotlib.figure.Figure at 0x7fb1901fd4e0>"
      ]
     },
     "metadata": {},
     "output_type": "display_data"
    },
    {
     "data": {
      "image/png": "[encoded data removed]",
      "text/plain": [
       "<matplotlib.figure.Figure at 0x7fb183d617f0>"
      ]
     },
     "metadata": {},
     "output_type": "display_data"
    },
    {
     "data": {
      "image/png": "[encoded data removed]",
      "text/plain": [
       "<matplotlib.figure.Figure at 0x7fb183d1db00>"
      ]
     },
     "metadata": {},
     "output_type": "display_data"
    }
   ],
   "source": [
    "for model in language_models.keys():\n",
    "    for item in measures:\n",
    "        dicts = { setting : eval_dict[item][setting] for setting in language_models[model] }\n",
    "        item_df = pd.DataFrame.from_dict(dicts) \n",
    "        item_df.plot.bar(figsize=(20,7))\n",
    "        plt.title(model + ' at '+item)\n",
    "        plt.show()\n",
    "        item_df"
   ]
  },
  {
   "cell_type": "code",
   "execution_count": 35,
   "metadata": {},
   "outputs": [
    {
     "name": "stdout",
     "output_type": "stream",
     "text": [
      "defaultdict(<class 'dict'>,\n",
      "            {'P_5': Ttest_relResult(statistic=2.350278605572012, pvalue=0.025774237364825595),\n",
      "             'map_cut_1000': Ttest_relResult(statistic=2.3544324836780213, pvalue=0.025534906715680324),\n",
      "             'ndcg_cut_10': Ttest_relResult(statistic=2.273559995514008, pvalue=0.030576992171964287),\n",
      "             'recall_1000': Ttest_relResult(statistic=nan, pvalue=nan)})\n"
     ]
    },
    {
     "data": {
      "text/html": [
       "<div>\n",
       "<style scoped>\n",
       "    .dataframe tbody tr th:only-of-type {\n",
       "        vertical-align: middle;\n",
       "    }\n",
       "\n",
       "    .dataframe tbody tr th {\n",
       "        vertical-align: top;\n",
       "    }\n",
       "\n",
       "    .dataframe thead th {\n",
       "        text-align: right;\n",
       "    }\n",
       "</style>\n",
       "<table border=\"1\" class=\"dataframe\">\n",
       "  <thead>\n",
       "    <tr style=\"text-align: right;\">\n",
       "      <th></th>\n",
       "      <th>P_5</th>\n",
       "      <th>map_cut_1000</th>\n",
       "      <th>ndcg_cut_10</th>\n",
       "      <th>recall_1000</th>\n",
       "    </tr>\n",
       "  </thead>\n",
       "  <tbody>\n",
       "    <tr>\n",
       "      <th>1</th>\n",
       "      <td>0.025774</td>\n",
       "      <td>0.025535</td>\n",
       "      <td>0.030577</td>\n",
       "      <td>NaN</td>\n",
       "    </tr>\n",
       "  </tbody>\n",
       "</table>\n",
       "</div>"
      ],
      "text/plain": [
       "        P_5  map_cut_1000  ndcg_cut_10  recall_1000\n",
       "1  0.025774      0.025535     0.030577          NaN"
      ]
     },
     "execution_count": 35,
     "metadata": {},
     "output_type": "execute_result"
    }
   ],
   "source": [
    "#significance testing for LSA models\n",
    "LSA_ttest = collections.defaultdict(dict)\n",
    "\n",
    "#storing scores separately as array\n",
    "for measure in measures:\n",
    "    LSI_similarity_scores = np.array(list(eval_dict[measure]['lsi_cosine_tfidf'].values()), dtype=float)\n",
    "    LDA_similarity_scores = np.array(list(eval_dict[measure]['lda_2_cosine_tfidf'].values()), dtype=float)\n",
    "    #perform t-test\n",
    "    LSA_ttest[measure] = stats.ttest_rel(LSI_similarity_scores, LDA_similarity_scores)\n",
    "\n",
    "pprint(LSA_ttest)\n",
    "#display pvalues in a table\n",
    "pvals_df = pd.DataFrame(LSA_ttest)[1:]\n",
    "pvals_df"
   ]
  },
  {
   "cell_type": "markdown",
   "metadata": {},
   "source": [
    "### Task 3:  Word embeddings for ranking [20 points] (open-ended) ###\n",
    "\n",
    "First create word embeddings on the corpus we provided using [word2vec](http://arxiv.org/abs/1411.2738) -- [gensim implementation](https://radimrehurek.com/gensim/models/word2vec.html). You should extract the indexed documents using pyndri and provide them to gensim for training a model (see example [here](https://github.com/nickvosk/pyndri/blob/master/examples/word2vec.py)).\n",
    "   \n",
    "This is an open-ended task. It is left up you to decide how you will combine word embeddings to derive query and document representations. Note that since we provide the implementation for training word2vec, you will be graded based on your creativity on combining word embeddings for building query and document representations.\n",
    "\n",
    "Note: If you want to experiment with pre-trained word embeddings on a different corpus, you can use the word embeddings we provide alongside the assignment (./data/reduced_vectors_google.txt.tar.gz). These are the [google word2vec word embeddings](https://code.google.com/archive/p/word2vec/), reduced to only the words that appear in the document collection we use in this assignment."
   ]
  },
  {
   "cell_type": "markdown",
   "metadata": {},
   "source": [
    "#### WORD2VEC"
   ]
  },
  {
   "cell_type": "code",
   "execution_count": null,
   "metadata": {},
   "outputs": [],
   "source": [
    "#creating names, constants and files\n",
    "word2vec_file = 'word2vec_model.bin'\n",
    "doc2vec_file = 'doc2vec_model.doc2vec'\n",
    "\n",
    "corpus_file = 'pyndri_corpus.mm'\n",
    "dict_file='corpdict.dict'\n",
    "\n",
    "tfidf_model_file = 'tfidf_model.model'\n",
    "tfidf_corpus_file = 'tfidf_corpus.mm'\n",
    "\n",
    "lsi_model_file = 'lsi_model.model'\n",
    "lsi_corpus_file = 'lsi_corpus.mm'\n",
    "\n",
    "lda_model_file = 'lda_model.model'\n",
    "lda_corpus_file = 'lda_corpus.mm'\n",
    "\n",
    "LSI_SHAPE = 64\n",
    "LDA_SHAPE = 32\n",
    "NN_LAYERS = 32\n",
    "\n",
    "AVAILABLE_CORES = multiprocessing.cpu_count()\n",
    "\n",
    "logging.info(\"Created variables\")"
   ]
  },
  {
   "cell_type": "code",
   "execution_count": null,
   "metadata": {},
   "outputs": [],
   "source": [
    "logging.info('Initializing word2vec.')\n",
    "\n",
    "dictionary = pyndri.extract_dictionary(index)\n",
    "sentences = pyndri.compat.IndriSentences(index, dictionary)\n",
    "\n",
    "if not os.path.isfile(word2vec_file):\n",
    "    #train a model if it is not present\n",
    "    model = gensim.models.Word2Vec(sentences,\n",
    "                                  size = NN_LAYERS,\n",
    "                                  window = 5, # One-sided window size\n",
    "                                  min_count = 5, # Minimum word frequency\n",
    "                                  workers = AVAILABLE_CORES,\n",
    "                                  sample = 1e-5, # Sub-sample threshold\n",
    "                                  negative = 5, # Number of negative examples\n",
    "                                  sg = True)\n",
    "    model.wv.save_word2vec_format(word2vec_file, binary = True)\n",
    "    \n",
    "else:\n",
    "    #load existing model\n",
    "    word2vec_model = gensim.models.KeyedVectors.load_word2vec_format(word2vec_file, binary = True)"
   ]
  },
  {
   "cell_type": "code",
   "execution_count": null,
   "metadata": {},
   "outputs": [],
   "source": []
  },
  {
   "cell_type": "markdown",
   "metadata": {},
   "source": [
    "### Task 4: Learning to rank (LTR) [15 points] (open-ended) ###\n",
    "\n",
    "In this task you will get an introduction into learning to rank for information retrieval.\n",
    "\n",
    "You can explore different ways for devising features for the model. Obviously, you can use the retrieval methods you implemented in Task 1, Task 2 and Task 3 as features. Think about other features you can use (e.g. query/document length). Creativity on devising new features and providing motivation for them will be taken into account when grading.\n",
    "\n",
    "For every query, first create a document candidate set using the top-1000 documents using TF-IDF, and subsequently compute features given a query and a document. Note that the feature values of different retrieval methods are likely to be distributed differently.\n",
    "\n",
    "You are adviced to start some pointwise learning to rank algorithm e.g. logistic regression, implemented in [scikit-learn](http://scikit-learn.org/stable/modules/generated/sklearn.linear_model.LogisticRegression.html).\n",
    "Train your LTR model using 10-fold cross validation on the test set. More advanced learning to rank algorithms will be appreciated when grading."
   ]
  },
  {
   "cell_type": "code",
   "execution_count": null,
   "metadata": {},
   "outputs": [],
   "source": []
  },
  {
   "cell_type": "markdown",
   "metadata": {
    "collapsed": true
   },
   "source": [
    "### Task 5: Write a report [15 points; instant FAIL if not provided] ###\n",
    "\n",
    "The report should be a PDF file created using the [sigconf ACM template](https://www.acm.org/publications/proceedings-template) and will determine a significant part of your grade.\n",
    "\n",
    "   * It should explain what you have implemented, motivate your experiments and detail what you expect to learn from them. **[10 points]**\n",
    "   * Lastly, provide a convincing analysis of your results and conclude the report accordingly. **[10 points]**\n",
    "      * Do all methods perform similarly on all queries? Why?\n",
    "      * Is there a single retrieval model that outperforms all other retrieval models (i.e., silver bullet)?\n",
    "      * ...\n",
    "\n",
    "**Hand in the report and your self-contained implementation source files.** Only send us the files that matter, organized in a well-documented zip/tgz file with clear instructions on how to reproduce your results. That is, we want to be able to regenerate all your results with minimal effort. You can assume that the index and ground-truth information is present in the same file structure as the one we have provided.\n"
   ]
  },
  {
   "cell_type": "code",
   "execution_count": null,
   "metadata": {},
   "outputs": [],
   "source": []
  }
 ],
 "metadata": {
  "anaconda-cloud": {},
  "kernelspec": {
   "display_name": "Python 3",
   "language": "python",
   "name": "python3"
  },
  "language_info": {
   "codemirror_mode": {
    "name": "ipython",
    "version": 3
   },
   "file_extension": ".py",
   "mimetype": "text/x-python",
   "name": "python",
   "nbconvert_exporter": "python",
   "pygments_lexer": "ipython3",
   "version": "3.5.2"
  }
 },
 "nbformat": 4,
 "nbformat_minor": 1
}
