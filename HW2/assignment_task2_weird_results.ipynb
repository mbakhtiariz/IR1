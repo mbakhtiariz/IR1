{
 "cells": [
  {
   "cell_type": "markdown",
   "metadata": {},
   "source": [
    "# Information Retrieval 1#\n",
    "## Assignment 2: Retrieval models [100 points] ##"
   ]
  },
  {
   "cell_type": "markdown",
   "metadata": {},
   "source": [
    "In this assignment you will get familiar with basic and advanced information retrieval concepts. You will implement different information retrieval ranking models and evaluate their performance.\n",
    "\n",
    "We provide you with a Indri index. To query the index, you'll use a Python package ([pyndri](https://github.com/cvangysel/pyndri)) that allows easy access to the underlying document statistics.\n",
    "\n",
    "For evaluation you'll use the [TREC Eval](https://github.com/usnistgov/trec_eval) utility, provided by the National Institute of Standards and Technology of the United States. TREC Eval is the de facto standard way to compute Information Retrieval measures and is frequently referenced in scientific papers.\n",
    "\n",
    "This is a **groups-of-three assignment**, the deadline is **Wednesday, January 31st**. Code quality, informative comments and convincing analysis of the results will be considered when grading. Submission should be done through blackboard, questions can be asked on the course [Piazza](piazza.com/university_of_amsterdam/spring2018/52041inr6y/home).\n",
    "\n",
    "### Technicalities (must-read!) ###\n",
    "\n",
    "The assignment directory is organized as follows:\n",
    "   * `./assignment.ipynb` (this file): the description of the assignment.\n",
    "   * `./index/`: the index we prepared for you.\n",
    "   * `./ap_88_90/`: directory with ground-truth and evaluation sets:\n",
    "      * `qrel_test`: test query relevance collection (**test set**).\n",
    "      * `qrel_validation`: validation query relevance collection (**validation set**).\n",
    "      * `topics_title`: semicolon-separated file with query identifiers and terms.\n",
    "\n",
    "You will need the following software packages (tested with Python 3.5 inside [Anaconda](https://conda.io/docs/user-guide/install/index.html)):\n",
    "   * Python 3.5 and Jupyter\n",
    "   * Indri + Pyndri (Follow the installation instructions [here](https://github.com/nickvosk/pyndri/blob/master/README.md))\n",
    "   * gensim [link](https://radimrehurek.com/gensim/install.html)\n",
    "   * TREC Eval [link](https://github.com/usnistgov/trec_eval)"
   ]
  },
  {
   "cell_type": "markdown",
   "metadata": {},
   "source": [
    "### TREC Eval primer ###\n",
    "The TREC Eval utility can be downloaded and compiled as follows:\n",
    "\n",
    "    git clone https://github.com/usnistgov/trec_eval.git\n",
    "    cd trec_eval\n",
    "    make\n",
    "\n",
    "TREC Eval computes evaluation scores given two files: ground-truth information regarding relevant documents, named *query relevance* or *qrel*, and a ranking of documents for a set of queries, referred to as a *run*. The *qrel* will be supplied by us and should not be changed. For every retrieval model (or combinations thereof) you will generate a run of the top-1000 documents for every query. The format of the *run* file is as follows:\n",
    "\n",
    "    $query_identifier Q0 $document_identifier $rank_of_document_for_query $query_document_similarity $run_identifier\n",
    "    \n",
    "where\n",
    "   * `$query_identifier` is the unique identifier corresponding to a query (usually this follows a sequential numbering).\n",
    "   * `Q0` is a legacy field that you can ignore.\n",
    "   * `$document_identifier` corresponds to the unique identifier of a document (e.g., APXXXXXXX where AP denotes the collection and the Xs correspond to a unique numerical identifier).\n",
    "   * `$rank_of_document_for_query` denotes the rank of the document for the particular query. This field is ignored by TREC Eval and is only maintained for legacy support. The ranks are computed by TREC Eval itself using the `$query_document_similarity` field (see next). However, it remains good practice to correctly compute this field.\n",
    "   * `$query_document_similarity` is a score indicating the similarity between query and document where a higher score denotes greater similarity.\n",
    "   * `$run_identifier` is an identifier of the run. This field is for your own convenience and has no purpose beyond bookkeeping.\n",
    "   \n",
    "For example, say we have two queries: `Q1` and `Q2` and we rank three documents (`DOC1`, `DOC2`, `DOC3`). For query `Q1`, we find the following similarity scores `score(Q1, DOC1) = 1.0`, `score(Q1, DOC2) = 0.5`, `score(Q1, DOC3) = 0.75`; and for `Q2`: `score(Q2, DOC1) = -0.1`, `score(Q2, DOC2) = 1.25`, `score(Q1, DOC3) = 0.0`. We can generate run using the following snippet:"
   ]
  },
  {
   "cell_type": "code",
   "execution_count": 1,
   "metadata": {
    "scrolled": false
   },
   "outputs": [
    {
     "name": "stdout",
     "output_type": "stream",
     "text": [
      "Q2 Q0 DOC2 1 1.25 example\n",
      "Q2 Q0 DOC3 2 0.0 example\n",
      "Q2 Q0 DOC1 3 -0.1 example\n",
      "Q1 Q0 DOC1 1 1.0 example\n",
      "Q1 Q0 DOC3 2 0.75 example\n",
      "Q1 Q0 DOC2 3 0.5 example\n"
     ]
    }
   ],
   "source": [
    "import logging\n",
    "import sys\n",
    "import os\n",
    "\n",
    "def write_run(model_name, data, out_f,\n",
    "              max_objects_per_query=sys.maxsize,\n",
    "              skip_sorting=False):\n",
    "    \"\"\"\n",
    "    Write a run to an output file.\n",
    "    Parameters:\n",
    "        - model_name: identifier of run.\n",
    "        - data: dictionary mapping topic_id to object_assesments;\n",
    "            object_assesments is an iterable (list or tuple) of\n",
    "            (relevance, object_id) pairs.\n",
    "            The object_assesments iterable is sorted by decreasing order.\n",
    "        - out_f: output file stream.\n",
    "        - max_objects_per_query: cut-off for number of objects per query.\n",
    "    \"\"\"\n",
    "    for subject_id, object_assesments in data.items():\n",
    "        if not object_assesments:\n",
    "            logging.warning('Received empty ranking for %s; ignoring.',\n",
    "                            subject_id)\n",
    "\n",
    "            continue\n",
    "\n",
    "        # Probe types, to make sure everything goes alright.\n",
    "        # assert isinstance(object_assesments[0][0], float) or \\\n",
    "        #     isinstance(object_assesments[0][0], np.float32)\n",
    "        assert isinstance(object_assesments[0][1], str) or \\\n",
    "            isinstance(object_assesments[0][1], bytes)\n",
    "\n",
    "        if not skip_sorting:\n",
    "            object_assesments = sorted(object_assesments, reverse=True)\n",
    "\n",
    "        if max_objects_per_query < sys.maxsize:\n",
    "            object_assesments = object_assesments[:max_objects_per_query]\n",
    "\n",
    "        if isinstance(subject_id, bytes):\n",
    "            subject_id = subject_id.decode('utf8')\n",
    "\n",
    "        for rank, (relevance, object_id) in enumerate(object_assesments):\n",
    "            if isinstance(object_id, bytes):\n",
    "                object_id = object_id.decode('utf8')\n",
    "\n",
    "            out_f.write(\n",
    "                '{subject} Q0 {object} {rank} {relevance} '\n",
    "                '{model_name}\\n'.format(\n",
    "                    subject=subject_id,\n",
    "                    object=object_id,\n",
    "                    rank=rank + 1,\n",
    "                    relevance=relevance,\n",
    "                    model_name=model_name))\n",
    "            \n",
    "# The following writes the run to standard output.\n",
    "# In your code, you should write the runs to local\n",
    "# storage in order to pass them to trec_eval.\n",
    "write_run(\n",
    "    model_name='example',\n",
    "    data={\n",
    "        'Q1': ((1.0, 'DOC1'), (0.5, 'DOC2'), (0.75, 'DOC3')),\n",
    "        'Q2': ((-0.1, 'DOC1'), (1.25, 'DOC2'), (0.0, 'DOC3')),\n",
    "    },\n",
    "    out_f=sys.stdout,\n",
    "    max_objects_per_query=1000)"
   ]
  },
  {
   "cell_type": "markdown",
   "metadata": {},
   "source": [
    "Now, imagine that we know that `DOC1` is relevant and `DOC3` is non-relevant for `Q1`. In addition, for `Q2` we only know of the relevance of `DOC3`. The query relevance file looks like:\n",
    "\n",
    "    Q1 0 DOC1 1\n",
    "    Q1 0 DOC3 0\n",
    "    Q2 0 DOC3 1\n",
    "    \n",
    "We store the run and qrel in files `example.run` and `example.qrel` respectively on disk. We can now use TREC Eval to compute evaluation measures. In this example, we're only interested in Mean Average Precision and we'll only show this below for brevity. However, TREC Eval outputs much more information such as NDCG, recall, precision, etc.\n",
    "\n",
    "    $ trec_eval -m all_trec -q example.qrel example.run | grep -E \"^map\\s\"\n",
    "    > map                   \tQ1\t1.0000\n",
    "    > map                   \tQ2\t0.5000\n",
    "    > map                   \tall\t0.7500\n",
    "    \n",
    "Now that we've discussed the output format of rankings and how you can compute evaluation measures from these rankings, we'll now proceed with an overview of the indexing framework you'll use."
   ]
  },
  {
   "cell_type": "markdown",
   "metadata": {},
   "source": [
    "### Pyndri primer ###\n",
    "For this assignment you will use [Pyndri](https://github.com/cvangysel/pyndri) [[1](https://arxiv.org/abs/1701.00749)], a python interface for [Indri](https://www.lemurproject.org/indri.php). We have indexed the document collection and you can query the index using Pyndri. We will start by giving you some examples of what Pyndri can do:\n",
    "\n",
    "First we read the document collection index with Pyndri:"
   ]
  },
  {
   "cell_type": "code",
   "execution_count": 2,
   "metadata": {
    "scrolled": true
   },
   "outputs": [],
   "source": [
    "import pyndri\n",
    "\n",
    "index = pyndri.Index('index/')"
   ]
  },
  {
   "cell_type": "markdown",
   "metadata": {},
   "source": [
    "The loaded index can be used to access a collection of documents in an easy manner. We'll give you some examples to get some idea of what it can do, it is up to you to figure out how to use it for the remainder of the assignment.\n",
    "\n",
    "First let's look at the number of documents, since Pyndri indexes the documents using incremental identifiers we can simply take the lowest index and the maximum document and consider the difference:"
   ]
  },
  {
   "cell_type": "code",
   "execution_count": 3,
   "metadata": {},
   "outputs": [
    {
     "name": "stdout",
     "output_type": "stream",
     "text": [
      "There are 164597 documents in this collection.\n"
     ]
    }
   ],
   "source": [
    "print(\"There are %d documents in this collection.\" % (index.maximum_document() - index.document_base()))"
   ]
  },
  {
   "cell_type": "markdown",
   "metadata": {},
   "source": [
    "Let's take the first document out of the collection and take a look at it:"
   ]
  },
  {
   "cell_type": "code",
   "execution_count": 4,
   "metadata": {
    "scrolled": true
   },
   "outputs": [
    {
     "data": {
      "text/plain": [
       "tuple"
      ]
     },
     "execution_count": 4,
     "metadata": {},
     "output_type": "execute_result"
    }
   ],
   "source": [
    "example_document = index.document(index.document_base())\n",
    "type(example_document[1])"
   ]
  },
  {
   "cell_type": "markdown",
   "metadata": {},
   "source": [
    "Here we see a document consists of two things, a string representing the external document identifier and an integer list representing the identifiers of words that make up the document. Pyndri uses integer representations for words or terms, thus a token_id is an integer that represents a word whereas the token is the actual text of the word/term. Every id has a unique token and vice versa with the exception of stop words: words so common that there are uninformative, all of these receive the zero id.\n",
    "\n",
    "To see what some ids and their matching tokens we take a look at the dictionary of the index:"
   ]
  },
  {
   "cell_type": "code",
   "execution_count": 5,
   "metadata": {},
   "outputs": [
    {
     "name": "stdout",
     "output_type": "stream",
     "text": [
      "[(1, 'new'), (2, 'percent'), (3, 'two'), (4, '1'), (5, 'people'), (6, 'million'), (7, '000'), (8, 'government'), (9, 'president'), (10, 'years'), (11, 'state'), (12, '2'), (13, 'states'), (14, 'three'), (15, 'time')]\n"
     ]
    }
   ],
   "source": [
    "token2id, id2token, _ = index.get_dictionary()\n",
    "print(list(id2token.items())[:15])"
   ]
  },
  {
   "cell_type": "markdown",
   "metadata": {},
   "source": [
    "Using this dictionary we can see the tokens for the (non-stop) words in our example document:"
   ]
  },
  {
   "cell_type": "code",
   "execution_count": 6,
   "metadata": {},
   "outputs": [
    {
     "name": "stdout",
     "output_type": "stream",
     "text": [
      "['fifty', 'new', 'two', '1', 'percent', 'million', '000', 'safety', 'years', 'state', 'decide', 'time', 'officials', 'police', 'duffey', '5', 'american', 'told', '35', 'tuesday', 'city', 'promotes', 'wednesday', 'monday', 'mario', '23', 'york', 'department', 'demands', '6', 'occupying', 'halt', 'military', 'amherst', 'make', 'issued', 'union', 'spokesman', 'declined', 'trespassing', 'occupation', 'work', 'members', '300', 'militarism', 'staff', 'public', 'chanting', 'route', 'office', 'contended', 'leaving', 'overnight', 'reduced', 'purpose', 'money', 'committee', 'incident', 'hall', 'defense', 'telling', 'school', 'demonstrators', 'later', 'administration', 'service', 'deciccio', 'meeting', 'spokeswoman', 'began', 'dangerous', 'provosts', 'question', 'hearing', 'campus', 'm', 'negotiated', 'occupied', 'board', 'bus', 'rallying', 'left', 'second', 'lying', 'set', 'college', 'protesters', 'came', '11', '25', 'students', 'd', 'suspend', 'statement', 'university', 'increases', 'student', 'researchers', 'increased', 'prompting', 'charges', 'gear', '29', '1988', 'prevent', 'drove', 'latest', 'chapter', 'peaceful', '40', 'conduct', 'policy', 'got', 'canceled', 'health', 'protests', 'april', 'argued', 'looking', '250', 'jeanne', 'hours', '1969', 'chancellor', 'marched', 'away', 'funded', 'protest', 'feared', 'seven', 'bacteria', 'demanding', 'strain', 'presented', 'list', 'western', 'received', 'cuts', '52', 'local', 'governor', 'holiday', 'demonstrating', 'offer', 'budget', 'arrested', 'followed', 'memorial', 'disorderly', 'takeover', 'banned', 'study', 'camped', 'massachusetts', 'continue', 'hopkins', 'riot', 'differently', 'classified', 'town', 'possible', 'anthrax', '60', 'administrators', 'non', 'rules', 'p', 'ducked', 'gov', 'cuomo', 'charged', 'friends', 'building', 'evening', 'arrived', 'scheduled', 'research', 'classes', 'stood', '19', 'morning', 'comment', 'particularly', '22', 'unscheduled', 'virulent', 'joseph', 'en', 'thousands', 'meet', 'grant', 'charles', 'immediate', 'tuition', 'face']\n"
     ]
    }
   ],
   "source": [
    "print([id2token[word_id] for word_id in set(example_document[1]) if word_id > 0])"
   ]
  },
  {
   "cell_type": "markdown",
   "metadata": {},
   "source": [
    "The reverse can also be done, say we want to look for news about the \"University of Massachusetts\", the tokens of that query can be converted to ids using the reverse dictionary:"
   ]
  },
  {
   "cell_type": "code",
   "execution_count": 7,
   "metadata": {},
   "outputs": [
    {
     "name": "stdout",
     "output_type": "stream",
     "text": [
      "Query by tokens: ['university', '', 'massachusetts']\n",
      "Query by ids with stopwords: [200, 0, 894]\n",
      "Query by ids without stopwords: [200, 894]\n"
     ]
    }
   ],
   "source": [
    "query_tokens = index.tokenize(\"University of Massachusetts\")\n",
    "print(\"Query by tokens:\", query_tokens)\n",
    "query_id_tokens = [token2id.get(query_token,0) for query_token in query_tokens]\n",
    "print(\"Query by ids with stopwords:\", query_id_tokens)\n",
    "query_id_tokens = [word_id for word_id in query_id_tokens if word_id > 0]\n",
    "print(\"Query by ids without stopwords:\", query_id_tokens)"
   ]
  },
  {
   "cell_type": "markdown",
   "metadata": {},
   "source": [
    "Naturally we can now match the document and query in the id space, let's see how often a word from the query occurs in our example document:"
   ]
  },
  {
   "cell_type": "code",
   "execution_count": 8,
   "metadata": {},
   "outputs": [
    {
     "name": "stdout",
     "output_type": "stream",
     "text": [
      "Document AP890425-0001 has 13 word matches with query: \"university  massachusetts\".\n",
      "Document AP890425-0001 and query \"university  massachusetts\" have a 2.5% overlap.\n"
     ]
    }
   ],
   "source": [
    "matching_words = sum([True for word_id in example_document[1] if word_id in query_id_tokens])\n",
    "print(\"Document %s has %d word matches with query: \\\"%s\\\".\" % (example_document[0], matching_words, ' '.join(query_tokens)))\n",
    "print(\"Document %s and query \\\"%s\\\" have a %.01f%% overlap.\" % (example_document[0], ' '.join(query_tokens),matching_words/float(len(example_document[1]))*100))"
   ]
  },
  {
   "cell_type": "markdown",
   "metadata": {},
   "source": [
    "While this is certainly not everything Pyndri can do, it should give you an idea of how to use it. Please take a look at the [examples](https://github.com/cvangysel/pyndri) as it will help you a lot with this assignment.\n",
    "\n",
    "**CAUTION**: Avoid printing out the whole index in this Notebook as it will generate a lot of output and is likely to corrupt the Notebook."
   ]
  },
  {
   "cell_type": "markdown",
   "metadata": {},
   "source": [
    "### Parsing the query file\n",
    "You can parse the query file (`ap_88_89/topics_title`) using the following snippet:"
   ]
  },
  {
   "cell_type": "code",
   "execution_count": 9,
   "metadata": {},
   "outputs": [
    {
     "name": "stdout",
     "output_type": "stream",
     "text": [
      "OrderedDict([('51', 'Airbus Subsidies'), ('52', 'South African Sanctions'), ('53', 'Leveraged Buyouts'), ('54', 'Satellite Launch Contracts'), ('55', 'Insider Trading'), ('56', 'Prime (Lending) Rate Moves, Predictions'), ('57', 'MCI'), ('58', 'Rail Strikes'), ('59', 'Weather Related Fatalities'), ('60', 'Merit-Pay vs. Seniority'), ('61', 'Israeli Role in Iran-Contra Affair'), ('62', \"Military Coups D'etat\"), ('63', 'Machine Translation'), ('64', 'Hostage-Taking'), ('65', 'Information Retrieval Systems'), ('66', 'Natural Language Processing'), ('67', 'Politically Motivated Civil Disturbances'), ('68', 'Health Hazards from Fine-Diameter Fibers'), ('69', 'Attempts to Revive the SALT II Treaty'), ('70', 'Surrogate Motherhood'), ('71', 'Border Incursions'), ('72', 'Demographic Shifts in the U.S.'), ('73', 'Demographic Shifts across National Boundaries'), ('74', 'Conflicting Policy'), ('75', 'Automation'), ('76', 'U.S. Constitution - Original Intent'), ('77', 'Poaching'), ('78', 'Greenpeace'), ('79', 'FRG Political Party Positions'), ('80', '1988 Presidential Candidates Platforms'), ('81', 'Financial crunch for televangelists in the wake of the PTL scandal'), ('82', 'Genetic Engineering'), ('83', 'Measures to Protect the Atmosphere'), ('84', 'Alternative/renewable Energy Plant & Equipment Installation'), ('85', 'Official Corruption'), ('86', 'Bank Failures'), ('87', 'Criminal Actions Against Officers of Failed Financial Institutions'), ('88', 'Crude Oil Price Trends'), ('89', '\"Downstream\" Investments by OPEC Member States'), ('90', 'Data on Proven Reserves of Oil & Natural Gas Producers'), ('91', 'U.S. Army Acquisition of Advanced Weapons Systems'), ('92', 'International Military Equipment Sales'), ('93', 'What Backing Does the National Rifle Association Have?'), ('94', 'Computer-aided Crime'), ('95', 'Computer-aided Crime Detection'), ('96', 'Computer-Aided Medical Diagnosis'), ('97', 'Fiber Optics Applications'), ('98', 'Fiber Optics Equipment Manufacturers'), ('99', 'Iran-Contra Affair'), ('100', 'Controlling the Transfer of High Technology'), ('101', 'Design of the \"Star Wars\" Anti-missile Defense System'), ('102', \"Laser Research Applicable to the U.S.'s Strategic Defense Initiative\"), ('103', 'Welfare Reform'), ('104', 'Catastrophic Health Insurance'), ('105', '\"Black Monday\"'), ('106', 'U.S. Control of Insider Trading'), ('107', 'Japanese Regulation of Insider Trading'), ('108', 'Japanese Protectionist Measures'), ('109', 'Find Innovative Companies'), ('110', 'Black Resistance Against the South African Government'), ('111', 'Nuclear Proliferation'), ('112', 'Funding Biotechnology'), ('113', 'New Space Satellite Applications'), ('114', 'Non-commercial Satellite Launches'), ('115', 'Impact of the 1986 Immigration Law'), ('116', 'Generic Drug Substitutions'), ('117', 'Capacity of the U.S. Cellular Telephone Network'), ('118', 'International Terrorists'), ('119', 'Actions Against International Terrorists'), ('120', 'Economic Impact of International Terrorism'), ('121', 'Death from Cancer'), ('122', 'RDT&E of New Cancer Fighting Drugs'), ('123', 'Research into & Control of Carcinogens'), ('124', 'Alternatives to Traditional Cancer Therapies'), ('125', 'Anti-smoking Actions by Government'), ('126', 'Medical Ethics and Modern Technology'), ('127', 'U.S.-U.S.S.R. Arms Control Agreements'), ('128', 'Privatization of State Assets'), ('129', 'Soviet Spying on the U.S.'), ('130', 'Jewish Emigration and U.S.-USSR Relations'), ('131', 'McDonnell Douglas Contracts for Military Aircraft'), ('132', '\"Stealth\" Aircraft'), ('133', 'Hubble Space Telescope'), ('134', 'The Human Genome Project'), ('135', 'Possible Contributions of Gene Mapping to Medicine'), ('136', 'Diversification by Pacific Telesis'), ('137', 'Expansion in the U.S. Theme Park Industry'), ('138', 'Iranian Support for Lebanese Hostage-takers'), ('139', \"Iran's Islamic Revolution - Domestic and Foreign Social Consequences\"), ('140', 'Political Impact of Islamic Fundamentalism'), ('141', \"Japan's Handling of its Trade Surplus with the U.S.\"), ('142', 'Impact of Government Regulated Grain Farming on International Relations'), ('143', 'Why Protect U.S. Farmers?'), ('144', 'Management Problems at the United Nations'), ('145', 'Influence of the \"Pro-Israel Lobby\"'), ('146', 'Negotiating an End to the Nicaraguan Civil War'), ('147', 'Productivity Trends in the U.S. Economy'), ('148', 'Conflict in the Horn of Africa'), ('149', 'Industrial Espionage'), ('150', 'U.S. Political Campaign Financing'), ('151', 'Coping with overcrowded prisons'), ('152', 'Accusations of Cheating by Contractors on U.S. Defense Projects'), ('153', 'Insurance Coverage which pays for Long Term Care'), ('154', 'Oil Spills'), ('155', 'Right Wing Christian Fundamentalism in U.S.'), ('156', 'Efforts to enact Gun Control Legislation'), ('157', 'Causes and treatments of multiple sclerosis (MS)'), ('158', 'Term limitations for members of the U.S. Congress'), ('159', 'Electric Car Development'), ('160', 'Vitamins - The Cure for or Cause of Human Ailments'), ('161', 'Acid Rain'), ('162', 'Automobile Recalls'), ('163', 'Vietnam Veterans and Agent Orange'), ('164', 'Generic Drugs - Illegal Activities by Manufacturers'), ('165', 'Tobacco company advertising and the young'), ('166', 'Standardized testing and cultural bias'), ('167', 'Regulation of the showing of violence and explicit sex in motion picture theaters, on television, and on video cassettes.'), ('168', 'Financing AMTRAK'), ('169', 'Cost of Garbage/Trash Removal'), ('170', 'The Consequences of Implantation of Silicone Gel Breast Devices'), ('171', \"Use of Mutual Funds in an Individual's Retirement Strategy\"), ('172', 'The Effectiveness of Medical Products and Related Programs Utilized in the Cessation of Smoking.'), ('173', 'Smoking Bans'), ('174', 'Hazardous Waste Cleanup'), ('175', 'NRA Prevention of Gun Control Legislation'), ('176', 'Real-life private investigators'), ('177', 'English as the Official Language in U.S.'), ('178', 'Dog Maulings'), ('179', 'U. S. Restaurants in Foreign Lands'), ('180', 'Ineffectiveness of U.S. Embargoes/Sanctions'), ('181', 'Abuse of the Elderly by Family Members, and Medical and Nonmedical Personnel, and Initiatives Being Taken to Minimize This Mistreatment'), ('182', 'Commercial Overfishing Creates Food Fish Deficit'), ('183', 'Asbestos Related Lawsuits'), ('184', 'Corporate Pension Plans/Funds'), ('185', 'Reform of the U.S. Welfare System'), ('186', 'Difference of Learning Levels Among Inner City and More Suburban School Students'), ('187', 'Signs of the Demise of Independent Publishing'), ('188', 'Beachfront Erosion'), ('189', 'Real Motives for Murder'), ('190', 'Instances of Fraud Involving the Use of a Computer'), ('191', 'Efforts to Improve U.S. Schooling'), ('192', 'Oil Spill Cleanup'), ('193', 'Toys R Dangerous'), ('194', 'The Amount of Money Earned by Writers'), ('195', 'Stock Market Perturbations Attributable to Computer Initiated Trading'), ('196', 'School Choice Voucher System and its effects upon the entire U.S. educational program'), ('197', 'Reform of the jurisprudence system to stop juries from granting unreasonable monetary awards'), ('198', 'Gene Therapy and Its Benefits to Humankind'), ('199', 'Legality of Medically Assisted Suicides'), ('200', 'Impact of foreign textile imports on U.S. textile industry')])\n"
     ]
    }
   ],
   "source": [
    "import collections\n",
    "import io\n",
    "import logging\n",
    "import sys\n",
    "\n",
    "def parse_topics(file_or_files,\n",
    "                 max_topics=sys.maxsize, delimiter=';'):\n",
    "    assert max_topics >= 0 or max_topics is None\n",
    "\n",
    "    topics = collections.OrderedDict()\n",
    "\n",
    "    if not isinstance(file_or_files, list) and \\\n",
    "            not isinstance(file_or_files, tuple):\n",
    "        if hasattr(file_or_files, '__iter__'):\n",
    "            file_or_files = list(file_or_files)\n",
    "        else:\n",
    "            file_or_files = [file_or_files]\n",
    "\n",
    "    for f in file_or_files:\n",
    "        assert isinstance(f, io.IOBase)\n",
    "\n",
    "        for line in f:\n",
    "            assert(isinstance(line, str))\n",
    "\n",
    "            line = line.strip()\n",
    "\n",
    "            if not line:\n",
    "                continue\n",
    "\n",
    "            topic_id, terms = line.split(delimiter, 1)\n",
    "\n",
    "            if topic_id in topics and (topics[topic_id] != terms):\n",
    "                    logging.error('Duplicate topic \"%s\" (%s vs. %s).',\n",
    "                                  topic_id,\n",
    "                                  topics[topic_id],\n",
    "                                  terms)\n",
    "\n",
    "            topics[topic_id] = terms\n",
    "\n",
    "            if max_topics > 0 and len(topics) >= max_topics:\n",
    "                break\n",
    "\n",
    "    return topics\n",
    "\n",
    "with open('./ap_88_89/topics_title', 'r') as f_topics:\n",
    "    print(parse_topics([f_topics]))"
   ]
  },
  {
   "cell_type": "markdown",
   "metadata": {},
   "source": [
    "### Task 1: Implement and compare lexical IR methods [35 points] ### \n",
    "\n",
    "In this task you will implement a number of lexical methods for IR using the **Pyndri** framework. Then you will evaluate these methods on the dataset we have provided using **TREC Eval**.\n",
    "\n",
    "Use the **Pyndri** framework to get statistics of the documents (term frequency, document frequency, collection frequency; **you are not allowed to use the query functionality of Pyndri**) and implement the following scoring methods in **Python**:\n",
    "\n",
    "- [TF-IDF](http://nlp.stanford.edu/IR-book/html/htmledition/tf-idf-weighting-1.html) and \n",
    "- [BM25](http://nlp.stanford.edu/IR-book/html/htmledition/okapi-bm25-a-non-binary-model-1.html) with k1=1.2 and b=0.75. **[5 points]**\n",
    "- Language models ([survey](https://drive.google.com/file/d/0B-zklbckv9CHc0c3b245UW90NE0/view))\n",
    "    - Jelinek-Mercer (explore different values of 𝛌 in the range [0.1, 0.5, 0.9]). **[5 points]**\n",
    "    - Dirichlet Prior (explore different values of 𝛍 [500, 1000, 1500]). **[5 points]**\n",
    "    - Absolute discounting (explore different values of 𝛅 in the range [0.1, 0.5, 0.9]). **[5 points]**\n",
    "    - [Positional Language Models](http://sifaka.cs.uiuc.edu/~ylv2/pub/sigir09-plm.pdf) define a language model for each position of a document, and score a document based on the scores of its PLMs. The PLM is estimated based on propagated counts of words within a document through a proximity-based density function, which both captures proximity heuristics and achieves an effect of “soft” passage retrieval. Implement the PLM, all five kernels, but only the Best position strategy to score documents. Use 𝛔 equal to 50, and Dirichlet smoothing with 𝛍 optimized on the validation set (decide how to optimize this value yourself and motivate your decision in the report). **[10 points]**\n",
    "    \n",
    "Implement the above methods and report evaluation measures (on the test set) using the hyper parameter values you optimized on the validation set (also report the values of the hyper parameters). Use TREC Eval to obtain the results and report on `NDCG@10`, Mean Average Precision (`MAP@1000`), `Precision@5` and `Recall@1000`.\n",
    "\n",
    "For the language models, create plots showing `NDCG@10` with varying values of the parameters. You can do this by chaining small scripts using shell scripting (preferred) or execute trec_eval using Python's `subprocess`.\n",
    "\n",
    "Compute significance of the results using a [two-tailed paired Student t-test](https://docs.scipy.org/doc/scipy/reference/generated/scipy.stats.ttest_rel.html) **[5 points]**. Be wary of false rejection of the null hypothesis caused by the [multiple comparisons problem](https://en.wikipedia.org/wiki/Multiple_comparisons_problem). There are multiple ways to mitigate this problem and it is up to you to choose one.\n",
    "\n",
    "Analyse the results by identifying specific queries where different methods succeed or fail and discuss possible reasons that cause these differences. This is *very important* in order to understand who the different retrieval functions behave.\n",
    "\n",
    "**NOTE**: Don’t forget to use log computations in your calculations to avoid underflows. "
   ]
  },
  {
   "cell_type": "markdown",
   "metadata": {},
   "source": [
    "**IMPORTANT**: You should structure your code around the helper functions we provide below."
   ]
  },
  {
   "cell_type": "code",
   "execution_count": 64,
   "metadata": {},
   "outputs": [
    {
     "name": "stderr",
     "output_type": "stream",
     "text": [
      "INFO:root:test\n"
     ]
    }
   ],
   "source": [
    "# libraries\n",
    "import time\n",
    "import numpy as np\n",
    "import math\n",
    "import collections\n",
    "from collections import Counter\n",
    "from collections import defaultdict\n",
    "from operator import itemgetter\n",
    "from pprint import pprint\n",
    "import copy\n",
    "import gensim\n",
    "import logging\n",
    "import pyndri.compat\n",
    "import sys\n",
    "import Cython\n",
    "import multiprocessing\n",
    "import pandas as pd\n",
    "import matplotlib.pyplot as plt\n",
    "from sklearn.metrics.pairwise import cosine_similarity\n",
    "from scipy import stats\n",
    "np.random.seed(12345678) \n",
    "\n",
    "logger = logging.getLogger()\n",
    "logger.setLevel(logging.INFO)\n",
    "logging.info(\"test\")"
   ]
  },
  {
   "cell_type": "code",
   "execution_count": 11,
   "metadata": {},
   "outputs": [
    {
     "name": "stdout",
     "output_type": "stream",
     "text": [
      "Gathering statistics about 456 terms.\n",
      "Inverted index creation took 41.30068874359131 seconds.\n"
     ]
    }
   ],
   "source": [
    "#with open('./ap_88_89/test_topic', 'r') as f_topics:\n",
    "with open('./ap_88_89/topics_title', 'r') as f_topics:\n",
    "    queries = parse_topics([f_topics])\n",
    "\n",
    "index = pyndri.Index('index/')\n",
    "\n",
    "num_documents = index.maximum_document() - index.document_base()\n",
    "\n",
    "dictionary = pyndri.extract_dictionary(index)\n",
    "\n",
    "tokenized_queries = {\n",
    "    query_id: [dictionary.translate_token(token)\n",
    "               for token in index.tokenize(query_string)\n",
    "               if dictionary.has_token(token)]\n",
    "    for query_id, query_string in queries.items()}\n",
    "\n",
    "query_term_ids = set(\n",
    "    query_term_id\n",
    "    for query_term_ids in tokenized_queries.values()\n",
    "    for query_term_id in query_term_ids)\n",
    "\n",
    "print('Gathering statistics about', len(query_term_ids), 'terms.')\n",
    "\n",
    "start_time = time.time()\n",
    "# inverted index creation.\n",
    "\n",
    "document_lengths = {}\n",
    "unique_terms_per_document = {}\n",
    "\n",
    "inverted_index = collections.defaultdict(dict)\n",
    "collection_frequencies = collections.defaultdict(int)\n",
    "\n",
    "total_terms = 0\n",
    "\n",
    "#______________________we added a list to keep the ext_doc and the tokens in every doc___________\n",
    "doc_list = []\n",
    "max_doc_len = 0\n",
    "\n",
    "for int_doc_id in range(index.document_base(), index.maximum_document()):\n",
    "    ext_doc_id, doc_token_ids = index.document(int_doc_id)\n",
    "    \n",
    "    #--------------------------------------\n",
    "    doc_list.append((ext_doc_id,doc_token_ids))\n",
    "    if(len(doc_token_ids) > max_doc_len):\n",
    "        max_doc_len = len(doc_token_ids)\n",
    "    \n",
    "    #--------------------------------------\n",
    "    document_bow = collections.Counter(\n",
    "        token_id for token_id in doc_token_ids\n",
    "        if token_id > 0)\n",
    "    document_length = sum(document_bow.values())\n",
    "\n",
    "    document_lengths[int_doc_id] = document_length\n",
    "    total_terms += document_length\n",
    "\n",
    "    unique_terms_per_document[int_doc_id] = len(document_bow)\n",
    "\n",
    "    for query_term_id in query_term_ids:\n",
    "        assert query_term_id is not None\n",
    "\n",
    "        document_term_frequency = document_bow.get(query_term_id, 0)\n",
    "\n",
    "        if document_term_frequency == 0:\n",
    "            continue\n",
    "\n",
    "        collection_frequencies[query_term_id] += document_term_frequency\n",
    "        inverted_index[query_term_id][int_doc_id] = document_term_frequency\n",
    "\n",
    "avg_doc_length = total_terms / num_documents\n",
    "\n",
    "print('Inverted index creation took', time.time() - start_time, 'seconds.')"
   ]
  },
  {
   "cell_type": "code",
   "execution_count": 12,
   "metadata": {},
   "outputs": [],
   "source": [
    "def get_tf(int_document_id, query_term_id):\n",
    "    #Returns term frequency (tf_t) for a document\n",
    "    return float(inverted_index.get(query_term_id, 0).get(int_document_id, 0))\n",
    "\n",
    "def collection_freq(query_term_id):\n",
    "    #Returns collection frequency\n",
    "    return collection_frequencies.get(query_term_id, 0)\n",
    "\n",
    "def calc_p_wc(query_term_id):\n",
    "    #Returns background probability p(w|C)\n",
    "    tf_wC = collection_freq(query_term_id)\n",
    "    C = total_terms\n",
    "    return (tf_wC/C)"
   ]
  },
  {
   "cell_type": "code",
   "execution_count": 13,
   "metadata": {},
   "outputs": [],
   "source": [
    "def run_retrieval(model_name, score_fn, hyper_param):\n",
    "    \"\"\"\n",
    "    Runs a retrieval method for all the queries and writes the TREC-friendly results in a file.\n",
    "    \n",
    "    :param model_name: the name of the model (a string)\n",
    "    :param score_fn: the scoring function (a function - see below for an example) \n",
    "    \"\"\"\n",
    "    #-----------------------------------------\n",
    "    if model_name != 'tfidf' and model_name != 'BM25':\n",
    "        model_name = model_name + str(hyper_param)\n",
    "    #-----------------------------------------\n",
    "    run_out_path = str('models/') + '{}.run'.format(model_name)\n",
    "\n",
    "#    if os.path.exists(run_out_path):\n",
    "#        return\n",
    "\n",
    "    retrieval_start_time = time.time()\n",
    "\n",
    "\n",
    "    print('Retrieving using', model_name)\n",
    "\n",
    "    data = collections.defaultdict(list)\n",
    "    top1000data = collections.defaultdict(list)\n",
    "\n",
    "    # TODO: fill the data dictionary. \n",
    "    # The dictionary data should have the form: query_id --> (document_score, external_doc_id)\n",
    "    \n",
    "    #for query_id, _ in queries.items():\n",
    "    for query_id, query_terms in tokenized_queries.items():\n",
    "        \n",
    "        score_per_doc = Counter()\n",
    "        '''\n",
    "        We do not go through all documents, we just go through the all documents relate to query term.\n",
    "        For example if we have 5 docs and Q1 = w1 w2 and w1 is inside the doc1 & doc2, w2 is inside doc3\n",
    "        , then we go through doc1, doc2, doc3\n",
    "        '''        \n",
    "        #------------------------docs_to_check = sum of all documents for q:-------------------------\n",
    "        \n",
    "        docs_to_check = set([inverted_index[term_id].keys() for term_id in query_terms][0])\n",
    "        \n",
    "        '''\n",
    "        We check the score for every term of a query for every doc related to that query and assign some score\n",
    "        to them.\n",
    "        In tf-idf when the term is not inside the that doc, we return 0.\n",
    "        In the smoothing methods, we assign some probability to the unseen terms.\n",
    "        '''\n",
    "        #--------------------------find the score(query, doc)-----------------------------------------\n",
    "        #for query_term_id in tokenized_queries[query_id]:\n",
    "        for query_term_id in query_terms:\n",
    "            for int_doc_id in docs_to_check:\n",
    "                document_term_freq = get_tf(int_doc_id, query_term_id)\n",
    "                score_per_doc[int_doc_id] += score_fn(int_doc_id, query_term_id, document_term_freq, hyper_param)\n",
    "                \n",
    "        #------------------------make data set to write in run file------------------------------------        \n",
    "        for int_doc_id in score_per_doc:\n",
    "            data[query_id].append((score_per_doc[int_doc_id], doc_list[int_doc_id - 1][0]))\n",
    "#         sorted_score = sorted(data[query_id], key = itemgetter(0), reverse=True)\n",
    "        \n",
    "#         if model_name == 'tfidf':\n",
    "#             top1000data[query_id] = sorted_score\n",
    "#             del top1000data[query_id][:1000] \n",
    "\n",
    "#         print(query_id, ': ' ,top1000data[query_id][:10])\n",
    "    print('Retrieval took: ', time.time() - retrieval_start_time, 'seconds.')\n",
    "    \n",
    "    with open(run_out_path, 'w') as f_out:\n",
    "        write_run(\n",
    "            model_name=model_name,\n",
    "            data=data,\n",
    "            out_f=f_out,\n",
    "            max_objects_per_query=1000) "
   ]
  },
  {
   "cell_type": "markdown",
   "metadata": {},
   "source": [
    "#### TF - IDF"
   ]
  },
  {
   "cell_type": "code",
   "execution_count": 14,
   "metadata": {
    "scrolled": true
   },
   "outputs": [
    {
     "name": "stdout",
     "output_type": "stream",
     "text": [
      "Retrieving using tfidf\n",
      "Retrieval took:  6.376723051071167 seconds.\n"
     ]
    }
   ],
   "source": [
    "def tfidf(int_document_id, query_term_id, document_term_freq, num_docs):\n",
    "    \"\"\"\n",
    "    Scoring function for a document and a query term\n",
    "    \n",
    "    :param int_document_id: the document id\n",
    "    :param query_token_id: the query term id (assuming you have split the query to tokens)\n",
    "    :param document_term_freq: the document term frequency of the query term \n",
    "    \"\"\"    \n",
    "    score = document_term_freq * math.log10(num_docs/len(inverted_index[query_term_id]))\n",
    "    return score\n",
    "\n",
    "num_documents = index.maximum_document() - index.document_base()\n",
    "run_retrieval('tfidf', tfidf, num_documents)"
   ]
  },
  {
   "cell_type": "markdown",
   "metadata": {},
   "source": [
    "#### BM25"
   ]
  },
  {
   "cell_type": "code",
   "execution_count": 15,
   "metadata": {},
   "outputs": [
    {
     "name": "stdout",
     "output_type": "stream",
     "text": [
      "Retrieving using BM25\n",
      "Retrieval took:  9.23710036277771 seconds.\n"
     ]
    }
   ],
   "source": [
    "hyper_param = [1.2,0.75]\n",
    "'''    \n",
    "k1=1.2\n",
    "b=0.75\n",
    "'''\n",
    "def BM25(int_document_id, query_term_id, document_term_freq,hyper_param):\n",
    "\n",
    "    '''\n",
    "    BM25 with document length normalization\n",
    "    tf = document_term_freq\n",
    "    l_avg = avg_doc_length\n",
    "    l_d = document_lengths[int_document_id]\n",
    "    idf = math.log10(num_documents/len(inverted_index[query_term_id])\n",
    "    '''\n",
    "    k1=hyper_param[0]\n",
    "    b=hyper_param[1]\n",
    "\n",
    "\n",
    "    w_t_numerator = (k1+1) * document_term_freq * math.log10(num_documents / len(inverted_index[query_term_id]))\n",
    "    w_t_denominator = (k1 * (1-b + (b * document_lengths[int_document_id] / avg_doc_length))) + document_term_freq\n",
    "\n",
    "    w_t =  w_t_numerator/w_t_denominator\n",
    "    \n",
    "    return w_t\n",
    "run_retrieval('BM25', BM25, hyper_param)"
   ]
  },
  {
   "cell_type": "markdown",
   "metadata": {},
   "source": [
    "#### Jelinek-Mercer at 𝛌 = [0.1, 0.2, 0.3, 0.4, 0.5, 0.6, 0.7, 0.8, 0.9]"
   ]
  },
  {
   "cell_type": "code",
   "execution_count": 16,
   "metadata": {},
   "outputs": [],
   "source": [
    "def jelinek_mercer(int_document_id, query_term_id, document_term_freq, lmbda):\n",
    "    \n",
    "    tf_wd = document_term_freq\n",
    "    d = document_lengths[int_document_id]\n",
    "    p_wC = calc_p_wc(query_term_id)\n",
    "\n",
    "    pbt_lambda = (1 - lmbda)*(p_wC) + lmbda*(tf_wd/d)\n",
    "    return np.log10(pbt_lambda)"
   ]
  },
  {
   "cell_type": "code",
   "execution_count": 17,
   "metadata": {},
   "outputs": [
    {
     "name": "stdout",
     "output_type": "stream",
     "text": [
      "Retrieving using jelinek_mercer 0.0\n",
      "Retrieval took:  19.029163360595703 seconds.\n",
      "Retrieving using jelinek_mercer 0.1\n",
      "Retrieval took:  16.72562074661255 seconds.\n",
      "Retrieving using jelinek_mercer 0.2\n",
      "Retrieval took:  18.553688049316406 seconds.\n",
      "Retrieving using jelinek_mercer 0.3\n",
      "Retrieval took:  18.229533433914185 seconds.\n",
      "Retrieving using jelinek_mercer 0.4\n",
      "Retrieval took:  17.92137837409973 seconds.\n",
      "Retrieving using jelinek_mercer 0.5\n",
      "Retrieval took:  16.644779205322266 seconds.\n",
      "Retrieving using jelinek_mercer 0.6\n",
      "Retrieval took:  16.536654472351074 seconds.\n",
      "Retrieving using jelinek_mercer 0.7\n",
      "Retrieval took:  17.420358180999756 seconds.\n",
      "Retrieving using jelinek_mercer 0.8\n",
      "Retrieval took:  16.922592878341675 seconds.\n",
      "Retrieving using jelinek_mercer 0.9\n",
      "Retrieval took:  16.888097524642944 seconds.\n"
     ]
    }
   ],
   "source": [
    "for hyper_param in np.arange(0, 1, 0.1): \n",
    "    hyper_param = round(hyper_param, 1)\n",
    "    run_retrieval('jelinek_mercer ', jelinek_mercer, hyper_param)"
   ]
  },
  {
   "cell_type": "markdown",
   "metadata": {},
   "source": [
    "#### Absolute Discounting at 𝛅 = [0.1, 0.2, 0.3, 0.4, 0.5, 0.6, 0.7, 0.8, 0.9]"
   ]
  },
  {
   "cell_type": "code",
   "execution_count": 18,
   "metadata": {},
   "outputs": [
    {
     "name": "stdout",
     "output_type": "stream",
     "text": [
      "Retrieving using absolute_discounting 0.0\n",
      "Retrieval took:  11.780969619750977 seconds.\n",
      "Retrieving using absolute_discounting 0.1\n",
      "Retrieval took:  12.02707576751709 seconds.\n",
      "Retrieving using absolute_discounting 0.2\n",
      "Retrieval took:  11.306993961334229 seconds.\n",
      "Retrieving using absolute_discounting 0.3\n",
      "Retrieval took:  11.250715017318726 seconds.\n",
      "Retrieving using absolute_discounting 0.4\n",
      "Retrieval took:  11.84693455696106 seconds.\n",
      "Retrieving using absolute_discounting 0.5\n",
      "Retrieval took:  12.099369049072266 seconds.\n",
      "Retrieving using absolute_discounting 0.6\n",
      "Retrieval took:  13.318758487701416 seconds.\n",
      "Retrieving using absolute_discounting 0.7\n",
      "Retrieval took:  12.30607295036316 seconds.\n",
      "Retrieving using absolute_discounting 0.8\n",
      "Retrieval took:  13.914846897125244 seconds.\n",
      "Retrieving using absolute_discounting 0.9\n",
      "Retrieval took:  12.045928955078125 seconds.\n"
     ]
    }
   ],
   "source": [
    "#formula from : https://dl.acm.org/citation.cfm?id=384019\n",
    "def absolute_discounting(int_document_id, query_term_id, document_term_freq, delta):\n",
    "    \n",
    "    tf_wd = document_term_freq\n",
    "    d = document_lengths[int_document_id]\n",
    "    #d_u = number of unique words in d\n",
    "    d_u = unique_terms_per_document[int_document_id]\n",
    "    p_wC = calc_p_wc(query_term_id)\n",
    "    \n",
    "    #seen words probability\n",
    "    seen_words = max((tf_wd - delta), 0)/d\n",
    "    \n",
    "    #unseen words probability\n",
    "    unseen_words = delta*(d_u/d)*p_wC\n",
    "\n",
    "    return (seen_words + unseen_words)\n",
    "\n",
    "for hyper_param in np.arange(0, 1, 0.1):\n",
    "    hyper_param = round(hyper_param, 1)\n",
    "    run_retrieval('absolute_discounting ', absolute_discounting, hyper_param)\n",
    "#run_retrieval('absolute_discounting 0.5', absolute_discounting_05)\n",
    "#run_retrieval('absolute_discounting 0.9', absolute_discounting_09)"
   ]
  },
  {
   "cell_type": "markdown",
   "metadata": {},
   "source": [
    "### Task 2: Latent Semantic Models (LSMs) [15 points] ###\n",
    "\n",
    "In this task you will experiment with applying distributional semantics methods ([LSI](http://lsa3.colorado.edu/papers/JASIS.lsi.90.pdf) **[5 points]** and [LDA](https://www.cs.princeton.edu/~blei/papers/BleiNgJordan2003.pdf) **[5 points]**) for retrieval.\n",
    "\n",
    "You do not need to implement LSI or LDA on your own. Instead, you can use [gensim](http://radimrehurek.com/gensim/index.html). An example on how to integrate Pyndri with Gensim for word2vec can be found [here](https://github.com/cvangysel/pyndri/blob/master/examples/word2vec.py). For the remaining latent vector space models, you will need to implement connector classes (such as `IndriSentences`) by yourself.\n",
    "\n",
    "In order to use a latent semantic model for retrieval, you need to:\n",
    "   * build a representation of the query **q**,\n",
    "   * build a representation of the document **d**,\n",
    "   * calculate the similarity between **q** and **d** (e.g., cosine similarity, KL-divergence).\n",
    "     \n",
    "The exact implementation here depends on the latent semantic model you are using. \n",
    "   \n",
    "Each of these LSMs come with various hyperparameters to tune. Make a choice on the parameters, and explicitly mention the reasons that led you to these decisions. You can use the validation set to optimize hyper parameters you see fit; motivate your decisions. In addition, mention clearly how the query/document representations were constructed for each LSM and explain your choices.\n",
    "\n",
    "In this experiment, you will first obtain an initial top-1000 ranking for each query using TF-IDF in **Task 1**, and then re-rank the documents using the LSMs. Use TREC Eval to obtain the results and report on `NDCG@10`, Mean Average Precision (`MAP@1000`), `Precision@5` and `Recall@1000`.\n",
    "\n",
    "Perform significance testing **[5 points]** (similar as in Task 1) in the class of semantic matching methods."
   ]
  },
  {
   "cell_type": "code",
   "execution_count": 19,
   "metadata": {},
   "outputs": [
    {
     "name": "stdout",
     "output_type": "stream",
     "text": [
      "Computing took: \n",
      "109.03705310821533 seconds.\n"
     ]
    }
   ],
   "source": [
    "#first obtain an initial top-1000 ranking for each query using TF-IDF in Task 1\n",
    "docx = {}\n",
    "keys = inverted_index.keys()\n",
    "start_time = time.time()\n",
    "\n",
    "print('Computing took: ')\n",
    "\n",
    "for k in keys:\n",
    "    docx[k] = inverted_index[k].keys()\n",
    "\n",
    "scores = {}\n",
    "top1000_tfidf = {}\n",
    "\n",
    "#create datasets to store scores and document ids separately\n",
    "for query_id, term_idx in tokenized_queries.items():\n",
    "    scores[query_id] = []\n",
    "    docx_set = set()\n",
    "\n",
    "    for term_id in term_idx:\n",
    "        docx_set = docx_set | set(docx[term_id])\n",
    "\n",
    "#compute tfids scores\n",
    "    for d_id in docx_set:\n",
    "        result = 0\n",
    "        for term_id in term_idx:\n",
    "            result += tfidf(d_id, term_id, len(inverted_index.get(term_id, 0)), num_documents)\n",
    "        scores[query_id].append((result, index.document(d_id)[0], d_id))  \n",
    "\n",
    "print(time.time() - start_time, 'seconds.')"
   ]
  },
  {
   "cell_type": "code",
   "execution_count": 20,
   "metadata": {},
   "outputs": [],
   "source": [
    "#store top 1000 tfidf rank queries\n",
    "for query_id, term_idx in tokenized_queries.items():\n",
    "    top1000_tfidf[query_id] = sorted(scores[query_id], key = itemgetter(0), reverse = True)\n",
    "    del top1000_tfidf[query_id][1000:]\n",
    "\n",
    "#pprint(top1000_tfidf)"
   ]
  },
  {
   "cell_type": "code",
   "execution_count": 21,
   "metadata": {},
   "outputs": [
    {
     "data": {
      "text/plain": [
       "\"\\n#read from tfidf run file [query id no. ---- score]\\n\\nMasoumeh, this doesn't work as reading from files like this doesn't generate the .run file in the TREC format \\nand raises errors. Hence I'm reimplementing the above function to compute the top1000 tfidf scores for each query\\n\\ntfidf_file = open('models/tfidf.run', 'r')\\ntop1000_tfidf = collections.defaultdict(list)\\n\\nfor line in tfidf_file:\\n    top1000_tfidf=line.split()\\n     top1000_tfidf[info[0]].append(info[4])  \\n\""
      ]
     },
     "execution_count": 21,
     "metadata": {},
     "output_type": "execute_result"
    }
   ],
   "source": [
    "'''\n",
    "#read from tfidf run file [query id no. ---- score]\n",
    "\n",
    "Masoumeh, this doesn't work as reading from files like this doesn't generate the .run file in the TREC format \n",
    "and raises errors. Hence I'm reimplementing the above function to compute the top1000 tfidf scores for each query\n",
    "\n",
    "tfidf_file = open('models/tfidf.run', 'r')\n",
    "top1000_tfidf = collections.defaultdict(list)\n",
    "\n",
    "for line in tfidf_file:\n",
    "    top1000_tfidf=line.split()\n",
    "     top1000_tfidf[info[0]].append(info[4])  \n",
    "'''"
   ]
  },
  {
   "cell_type": "markdown",
   "metadata": {},
   "source": [
    "## LSMs"
   ]
  },
  {
   "cell_type": "code",
   "execution_count": 22,
   "metadata": {},
   "outputs": [
    {
     "name": "stderr",
     "output_type": "stream",
     "text": [
      "INFO:gensim.utils:loading Dictionary object from models/tharangni.dict\n",
      "INFO:gensim.utils:loaded models/tharangni.dict\n"
     ]
    }
   ],
   "source": [
    "#Use pyndri and gensim to create LSM Models\n",
    "document = index.document(index.document_base())\n",
    "\n",
    "#indri to get sentences\n",
    "sentences = pyndri.compat.IndriSentences(index, dictionary)\n",
    "\n",
    "#building corpus from sentences\n",
    "if os.path.exists('models/tharangni.dict'):\n",
    "    dictionary_corpus = gensim.corpora.Dictionary.load('models/tharangni.dict')\n",
    "else:\n",
    "    dictionary_corpus = gensim.corpora.Dictionary(sentences)\n",
    "    dictionary_corpus.save('models/tharangni.dict')"
   ]
  },
  {
   "cell_type": "code",
   "execution_count": 23,
   "metadata": {},
   "outputs": [
    {
     "name": "stdout",
     "output_type": "stream",
     "text": [
      "Dictionary(267318 unique tokens: ['arguero', 'getaways', 'hyperbolic', 'arcade', 'jiao']...)\n"
     ]
    }
   ],
   "source": [
    "# type(list(dictionary_corpus.token2id.items())[267317][1])\n",
    "print(dictionary_corpus)"
   ]
  },
  {
   "cell_type": "code",
   "execution_count": 24,
   "metadata": {},
   "outputs": [
    {
     "name": "stderr",
     "output_type": "stream",
     "text": [
      "INFO:gensim.corpora.indexedcorpus:loaded corpus index from models/tharangni.mm.index\n",
      "INFO:gensim.matutils:initializing corpus reader from models/tharangni.mm\n",
      "INFO:gensim.matutils:accepted corpus with 164597 documents, 267318 features, 29573706 non-zero entries\n"
     ]
    },
    {
     "name": "stdout",
     "output_type": "stream",
     "text": [
      "Using already saved BOW\n"
     ]
    }
   ],
   "source": [
    "## convert tokenized documents to vectors [DOCUMENT BOW]\n",
    "if os.path.exists('models/tharangni.mm'):\n",
    "    corpus = gensim.corpora.MmCorpus('models/tharangni.mm')\n",
    "    print('Using already saved BOW')\n",
    "else:\n",
    "    corpus = [dictionary_corpus.doc2bow(sentence) for sentence in sentences]\n",
    "    gensim.corpora.MmCorpus.serialize('models/tharangni.mm', corpus) ##<-- saves bow to disk\n",
    "    print('BOW saved to disk')"
   ]
  },
  {
   "cell_type": "code",
   "execution_count": 25,
   "metadata": {},
   "outputs": [],
   "source": [
    "def convert2vec(representation):\n",
    "    vector = np.zeros(lsi_train.num_topics, dtype=float)\n",
    "    for element in representation:\n",
    "        vector[element[0]] = element[1]\n",
    "    return vector"
   ]
  },
  {
   "cell_type": "code",
   "execution_count": 26,
   "metadata": {},
   "outputs": [],
   "source": [
    "#representation for q (query) [QUERY BOW]\n",
    "query_bow = []\n",
    "\n",
    "#query id and term id in tokenized queries\n",
    "for q_id, t_id in tokenized_queries.items():\n",
    "    word_at_term = [id2token[t] for t in t_id]\n",
    "    query_bow.append(dictionary_corpus.doc2bow(word_at_term))"
   ]
  },
  {
   "cell_type": "markdown",
   "metadata": {},
   "source": [
    "#### LSI"
   ]
  },
  {
   "cell_type": "code",
   "execution_count": 27,
   "metadata": {
    "scrolled": true
   },
   "outputs": [
    {
     "name": "stderr",
     "output_type": "stream",
     "text": [
      "INFO:gensim.utils:loading LsiModel object from models/lsi_train100\n",
      "INFO:gensim.utils:loading id2word recursively from models/lsi_train100.id2word.* with mmap=None\n",
      "INFO:gensim.utils:setting ignored attribute projection to None\n",
      "INFO:gensim.utils:setting ignored attribute dispatcher to None\n",
      "INFO:gensim.utils:loaded models/lsi_train100\n",
      "INFO:gensim.utils:loading LsiModel object from models/lsi_train100.projection\n",
      "INFO:gensim.utils:loading u from models/lsi_train100.projection.u.npy with mmap=None\n",
      "INFO:gensim.utils:loaded models/lsi_train100.projection\n"
     ]
    },
    {
     "name": "stdout",
     "output_type": "stream",
     "text": [
      "Using already saved LSI Model\n"
     ]
    }
   ],
   "source": [
    "#train transformation model for LSI\n",
    "if os.path.exists('models/lsi_train100'):\n",
    "    lsi_train = gensim.models.LsiModel.load('models/lsi_train100') #load model from disk\n",
    "    print('Using already saved LSI Model')\n",
    "else:\n",
    "    lsi_train = gensim.models.LsiModel(corpus=corpus, id2word=dictionary_corpus, num_topics=100)\n",
    "    lsi_train.save('models/lsi_train100')  #save model to disk"
   ]
  },
  {
   "cell_type": "code",
   "execution_count": 61,
   "metadata": {},
   "outputs": [
    {
     "name": "stderr",
     "output_type": "stream",
     "text": [
      "INFO:gensim.models.lsimodel:topic #0(2488.640): 0.296*\"percent\" + 0.200*\"new\" + 0.199*\"1\" + 0.177*\"million\" + 0.144*\"two\" + 0.140*\"000\" + 0.138*\"people\" + 0.135*\"government\" + 0.130*\"president\" + 0.126*\"2\"\n",
      "INFO:gensim.models.lsimodel:topic #1(1623.688): -0.657*\"percent\" + -0.245*\"0\" + -0.211*\"1\" + -0.134*\"2\" + 0.115*\"president\" + 0.114*\"people\" + -0.103*\"3\" + 0.102*\"two\" + -0.099*\"5\" + 0.097*\"government\"\n",
      "INFO:gensim.models.lsimodel:topic #2(1314.509): -0.847*\"y\" + -0.482*\"n\" + -0.120*\"democrats\" + -0.118*\"republicans\" + -0.062*\"x\" + -0.047*\"republican\" + -0.041*\"democrat\" + -0.029*\"smith\" + -0.026*\"d\" + -0.026*\"percent\"\n",
      "INFO:gensim.models.lsimodel:topic #3(1235.520): -0.497*\"percent\" + 0.339*\"1\" + 0.295*\"million\" + -0.208*\"bush\" + 0.179*\"cents\" + -0.166*\"0\" + 0.141*\"2\" + -0.139*\"dukakis\" + -0.111*\"president\" + 0.109*\"higher\"\n",
      "INFO:gensim.models.lsimodel:topic #4(1061.442): -0.474*\"bush\" + -0.272*\"dukakis\" + 0.219*\"police\" + -0.216*\"president\" + 0.155*\"000\" + 0.144*\"people\" + -0.126*\"campaign\" + -0.124*\"house\" + -0.122*\"new\" + 0.120*\"government\"\n"
     ]
    },
    {
     "data": {
      "text/plain": [
       "[(0,\n",
       "  '0.296*\"percent\" + 0.200*\"new\" + 0.199*\"1\" + 0.177*\"million\" + 0.144*\"two\" + 0.140*\"000\" + 0.138*\"people\" + 0.135*\"government\" + 0.130*\"president\" + 0.126*\"2\"'),\n",
       " (1,\n",
       "  '-0.657*\"percent\" + -0.245*\"0\" + -0.211*\"1\" + -0.134*\"2\" + 0.115*\"president\" + 0.114*\"people\" + -0.103*\"3\" + 0.102*\"two\" + -0.099*\"5\" + 0.097*\"government\"'),\n",
       " (2,\n",
       "  '-0.847*\"y\" + -0.482*\"n\" + -0.120*\"democrats\" + -0.118*\"republicans\" + -0.062*\"x\" + -0.047*\"republican\" + -0.041*\"democrat\" + -0.029*\"smith\" + -0.026*\"d\" + -0.026*\"percent\"'),\n",
       " (3,\n",
       "  '-0.497*\"percent\" + 0.339*\"1\" + 0.295*\"million\" + -0.208*\"bush\" + 0.179*\"cents\" + -0.166*\"0\" + 0.141*\"2\" + -0.139*\"dukakis\" + -0.111*\"president\" + 0.109*\"higher\"'),\n",
       " (4,\n",
       "  '-0.474*\"bush\" + -0.272*\"dukakis\" + 0.219*\"police\" + -0.216*\"president\" + 0.155*\"000\" + 0.144*\"people\" + -0.126*\"campaign\" + -0.124*\"house\" + -0.122*\"new\" + 0.120*\"government\"')]"
      ]
     },
     "execution_count": 61,
     "metadata": {},
     "output_type": "execute_result"
    }
   ],
   "source": [
    "lsi_train.print_topics(5)"
   ]
  },
  {
   "cell_type": "code",
   "execution_count": 28,
   "metadata": {},
   "outputs": [],
   "source": [
    "DOC_lsi = lsi_train[corpus]\n",
    "QUERY_lsi = lsi_train[query_bow]"
   ]
  },
  {
   "cell_type": "code",
   "execution_count": 29,
   "metadata": {
    "scrolled": false
   },
   "outputs": [],
   "source": [
    "#create query and document representation\n",
    "'''\n",
    "THIS TAKES A LOT OF TIME TO RUN/EXECUTE!\n",
    "'''\n",
    "document_representation = {}\n",
    "lsi_cosine_similarity = {}\n",
    "\n",
    "for doc_lsi_term, doc_lsi_id in (zip(DOC_lsi, range(index.document_base(), index.maximum_document()) )):\n",
    "    document_representation[doc_lsi_id] = doc_lsi_term"
   ]
  },
  {
   "cell_type": "code",
   "execution_count": 30,
   "metadata": {},
   "outputs": [],
   "source": [
    "for query_lsi_id, query_lsi_term in (zip(tokenized_queries.items(), QUERY_lsi)):\n",
    "    lsi_cosine_similarity[query_lsi_id[0]] = []\n",
    "    query_lsi_representation = convert2vec(query_lsi_term)\n",
    "\n",
    "#re-ranking the top 1000 tfidf queries using lsi\n",
    "    for value in top1000_tfidf[query_lsi_id[0]]:\n",
    "#         print(value,'****---****' ,top1000_tfidf[query_lsi_id[0]])\n",
    "        d = document_representation[value[2]]\n",
    "        document_lsi_representation = convert2vec(d)\n",
    "        lsi_cosine_similarity[query_lsi_id[0]].append((\n",
    "            cosine_similarity(query_lsi_representation.reshape(1,-1), document_lsi_representation.reshape(1, -1) ),\n",
    "            index.document(value[2])[0]))"
   ]
  },
  {
   "cell_type": "code",
   "execution_count": 31,
   "metadata": {},
   "outputs": [],
   "source": [
    "#Create a run file for the LSI model\n",
    "write_run(model_name='lsi_cosine',\n",
    "          data=lsi_cosine_similarity,\n",
    "          out_f=open('models/lsi_cosine_tfidf.run', 'w'),\n",
    "          max_objects_per_query=1000)"
   ]
  },
  {
   "cell_type": "markdown",
   "metadata": {},
   "source": [
    "#### LDA "
   ]
  },
  {
   "cell_type": "code",
   "execution_count": 32,
   "metadata": {},
   "outputs": [
    {
     "name": "stderr",
     "output_type": "stream",
     "text": [
      "INFO:gensim.models.ldamodel:using symmetric alpha at 0.01\n",
      "INFO:gensim.models.ldamodel:using symmetric eta at 0.01\n",
      "INFO:gensim.models.ldamodel:using serial LDA version on this node\n",
      "INFO:gensim.models.ldamodel:running online (single-pass) LDA training, 100 topics, 1 passes over the supplied corpus of 164597 documents, updating model once every 2000 documents, evaluating perplexity every 20000 documents, iterating 50x with a convergence threshold of 0.001000\n",
      "INFO:gensim.models.ldamodel:PROGRESS: pass 0, at document #2000/164597\n",
      "INFO:gensim.models.ldamodel:merging changes from 2000 documents into a model of 164597 documents\n",
      "INFO:gensim.models.ldamodel:topic #86 (0.010): 0.004*\"new\" + 0.004*\"people\" + 0.004*\"bush\" + 0.003*\"government\" + 0.003*\"two\" + 0.003*\"tuesday\" + 0.003*\"states\" + 0.003*\"years\" + 0.003*\"drug\" + 0.003*\"police\"\n",
      "INFO:gensim.models.ldamodel:topic #69 (0.010): 0.006*\"president\" + 0.005*\"1\" + 0.005*\"million\" + 0.004*\"percent\" + 0.004*\"bush\" + 0.004*\"two\" + 0.004*\"billion\" + 0.003*\"people\" + 0.003*\"000\" + 0.003*\"years\"\n",
      "INFO:gensim.models.ldamodel:topic #99 (0.010): 0.006*\"president\" + 0.006*\"bush\" + 0.004*\"people\" + 0.004*\"reagan\" + 0.003*\"two\" + 0.003*\"house\" + 0.003*\"time\" + 0.003*\"state\" + 0.003*\"united\" + 0.003*\"years\"\n",
      "INFO:gensim.models.ldamodel:topic #43 (0.010): 0.006*\"percent\" + 0.005*\"million\" + 0.004*\"new\" + 0.004*\"2\" + 0.003*\"president\" + 0.003*\"people\" + 0.003*\"1\" + 0.003*\"high\" + 0.003*\"states\" + 0.003*\"billion\"\n",
      "INFO:gensim.models.ldamodel:topic #23 (0.010): 0.004*\"years\" + 0.003*\"president\" + 0.003*\"report\" + 0.003*\"two\" + 0.003*\"department\" + 0.003*\"new\" + 0.003*\"people\" + 0.003*\"rights\" + 0.003*\"bush\" + 0.003*\"water\"\n",
      "INFO:gensim.models.ldamodel:topic diff=95.225090, rho=1.000000\n",
      "INFO:gensim.models.ldamodel:PROGRESS: pass 0, at document #4000/164597\n",
      "/home/tharangni/Documents/IR1/IR1/lib/python3.5/site-packages/gensim/models/ldamodel.py:802: RuntimeWarning: divide by zero encountered in log\n",
      "  diff = np.log(self.expElogbeta)\n",
      "INFO:gensim.models.ldamodel:merging changes from 2000 documents into a model of 164597 documents\n",
      "INFO:gensim.models.ldamodel:topic #90 (0.010): 0.007*\"president\" + 0.007*\"bush\" + 0.006*\"new\" + 0.006*\"house\" + 0.005*\"government\" + 0.005*\"china\" + 0.005*\"000\" + 0.004*\"made\" + 0.004*\"people\" + 0.004*\"state\"\n",
      "INFO:gensim.models.ldamodel:topic #89 (0.010): 0.019*\"police\" + 0.006*\"old\" + 0.004*\"people\" + 0.004*\"two\" + 0.004*\"officers\" + 0.004*\"killed\" + 0.004*\"three\" + 0.003*\"arrested\" + 0.003*\"told\" + 0.003*\"new\"\n",
      "INFO:gensim.models.ldamodel:topic #32 (0.010): 0.016*\"percent\" + 0.007*\"000\" + 0.006*\"government\" + 0.006*\"new\" + 0.004*\"pollution\" + 0.004*\"poll\" + 0.003*\"million\" + 0.003*\"federal\" + 0.003*\"years\" + 0.003*\"name\"\n",
      "INFO:gensim.models.ldamodel:topic #14 (0.010): 0.009*\"new\" + 0.006*\"two\" + 0.005*\"police\" + 0.004*\"people\" + 0.004*\"000\" + 0.003*\"government\" + 0.003*\"killed\" + 0.003*\"gun\" + 0.003*\"semiautomatic\" + 0.003*\"three\"\n",
      "INFO:gensim.models.ldamodel:topic #11 (0.010): 0.005*\"two\" + 0.004*\"new\" + 0.004*\"officials\" + 0.004*\"government\" + 0.003*\"police\" + 0.003*\"department\" + 0.003*\"time\" + 0.003*\"tower\" + 0.003*\"defense\" + 0.003*\"city\"\n",
      "INFO:gensim.models.ldamodel:topic diff=inf, rho=0.707107\n",
      "INFO:gensim.models.ldamodel:PROGRESS: pass 0, at document #6000/164597\n",
      "INFO:gensim.models.ldamodel:merging changes from 2000 documents into a model of 164597 documents\n",
      "INFO:gensim.models.ldamodel:topic #93 (0.010): 0.024*\"percent\" + 0.010*\"billion\" + 0.010*\"rate\" + 0.009*\"market\" + 0.008*\"yen\" + 0.008*\"dollar\" + 0.008*\"trade\" + 0.007*\"stock\" + 0.007*\"0\" + 0.007*\"rates\"\n",
      "INFO:gensim.models.ldamodel:topic #84 (0.010): 0.006*\"new\" + 0.006*\"house\" + 0.006*\"committee\" + 0.005*\"gambling\" + 0.005*\"adams\" + 0.005*\"two\" + 0.004*\"malta\" + 0.004*\"investigation\" + 0.004*\"dixon\" + 0.003*\"post\"\n",
      "INFO:gensim.models.ldamodel:topic #64 (0.010): 0.009*\"soviet\" + 0.007*\"two\" + 0.005*\"virus\" + 0.004*\"people\" + 0.004*\"navy\" + 0.004*\"soviets\" + 0.004*\"gerasimov\" + 0.004*\"aids\" + 0.004*\"younis\" + 0.004*\"british\"\n",
      "INFO:gensim.models.ldamodel:topic #23 (0.010): 0.015*\"water\" + 0.008*\"environmental\" + 0.007*\"years\" + 0.006*\"scientists\" + 0.006*\"ozone\" + 0.005*\"epa\" + 0.005*\"plants\" + 0.005*\"news\" + 0.004*\"air\" + 0.004*\"hamilton\"\n",
      "INFO:gensim.models.ldamodel:topic #56 (0.010): 0.018*\"plant\" + 0.010*\"nuclear\" + 0.007*\"nrc\" + 0.006*\"officials\" + 0.004*\"company\" + 0.004*\"imhausen\" + 0.004*\"india\" + 0.004*\"years\" + 0.004*\"new\" + 0.004*\"time\"\n",
      "INFO:gensim.models.ldamodel:topic diff=inf, rho=0.577350\n",
      "INFO:gensim.models.ldamodel:PROGRESS: pass 0, at document #8000/164597\n",
      "INFO:gensim.models.ldamodel:merging changes from 2000 documents into a model of 164597 documents\n",
      "INFO:gensim.models.ldamodel:topic #16 (0.010): 0.010*\"church\" + 0.008*\"000\" + 0.006*\"art\" + 0.005*\"nazi\" + 0.004*\"helms\" + 0.004*\"coins\" + 0.004*\"artists\" + 0.004*\"two\" + 0.004*\"von\" + 0.003*\"reed\"\n",
      "INFO:gensim.models.ldamodel:topic #58 (0.010): 0.018*\"million\" + 0.010*\"billion\" + 0.009*\"percent\" + 0.008*\"oil\" + 0.008*\"1\" + 0.007*\"1988\" + 0.006*\"1989\" + 0.006*\"prices\" + 0.006*\"products\" + 0.006*\"production\"\n",
      "INFO:gensim.models.ldamodel:topic #99 (0.010): 0.021*\"bush\" + 0.014*\"president\" + 0.009*\"reagan\" + 0.007*\"white\" + 0.006*\"house\" + 0.006*\"fitzwater\" + 0.006*\"romanian\" + 0.005*\"ceausescu\" + 0.005*\"nuclear\" + 0.005*\"power\"\n",
      "INFO:gensim.models.ldamodel:topic #77 (0.010): 0.034*\"bush\" + 0.008*\"soviet\" + 0.008*\"budget\" + 0.008*\"president\" + 0.008*\"house\" + 0.007*\"white\" + 0.006*\"fitzwater\" + 0.006*\"summit\" + 0.005*\"meeting\" + 0.005*\"administration\"\n",
      "INFO:gensim.models.ldamodel:topic #71 (0.010): 0.011*\"cable\" + 0.008*\"drug\" + 0.007*\"bakker\" + 0.007*\"federal\" + 0.005*\"ptl\" + 0.004*\"years\" + 0.004*\"judge\" + 0.004*\"fcc\" + 0.004*\"government\" + 0.004*\"officials\"\n",
      "INFO:gensim.models.ldamodel:topic diff=inf, rho=0.500000\n",
      "INFO:gensim.models.ldamodel:PROGRESS: pass 0, at document #10000/164597\n",
      "INFO:gensim.models.ldamodel:merging changes from 2000 documents into a model of 164597 documents\n",
      "INFO:gensim.models.ldamodel:topic #68 (0.010): 0.016*\"medical\" + 0.016*\"doctors\" + 0.015*\"drug\" + 0.014*\"patients\" + 0.014*\"blood\" + 0.012*\"drugs\" + 0.010*\"fda\" + 0.009*\"waste\" + 0.009*\"new\" + 0.008*\"marcos\"\n",
      "INFO:gensim.models.ldamodel:topic #9 (0.010): 0.011*\"space\" + 0.005*\"launch\" + 0.005*\"shuttle\" + 0.004*\"fish\" + 0.004*\"two\" + 0.004*\"new\" + 0.004*\"birds\" + 0.004*\"miles\" + 0.004*\"mission\" + 0.004*\"nasa\"\n",
      "INFO:gensim.models.ldamodel:topic #23 (0.010): 0.022*\"water\" + 0.011*\"epa\" + 0.010*\"environmental\" + 0.009*\"scientists\" + 0.008*\"chemicals\" + 0.007*\"plants\" + 0.006*\"years\" + 0.006*\"standards\" + 0.005*\"air\" + 0.005*\"chemical\"\n",
      "INFO:gensim.models.ldamodel:topic #76 (0.010): 0.007*\"people\" + 0.006*\"time\" + 0.005*\"years\" + 0.005*\"dont\" + 0.005*\"bush\" + 0.005*\"new\" + 0.004*\"think\" + 0.004*\"make\" + 0.004*\"going\" + 0.004*\"president\"\n",
      "INFO:gensim.models.ldamodel:topic #91 (0.010): 0.028*\"gorbachev\" + 0.023*\"soviet\" + 0.010*\"committee\" + 0.006*\"toys\" + 0.006*\"000\" + 0.006*\"peters\" + 0.006*\"egyptian\" + 0.006*\"wright\" + 0.005*\"gorbachevs\" + 0.005*\"baltic\"\n",
      "INFO:gensim.models.ldamodel:topic diff=inf, rho=0.447214\n",
      "INFO:gensim.models.ldamodel:PROGRESS: pass 0, at document #12000/164597\n",
      "INFO:gensim.models.ldamodel:merging changes from 2000 documents into a model of 164597 documents\n",
      "INFO:gensim.models.ldamodel:topic #73 (0.010): 0.022*\"nbc\" + 0.021*\"cbs\" + 0.021*\"abc\" + 0.014*\"homes\" + 0.013*\"million\" + 0.010*\"fox\" + 0.010*\"show\" + 0.009*\"11\" + 0.009*\"night\" + 0.009*\"10\"\n",
      "INFO:gensim.models.ldamodel:topic #2 (0.010): 0.023*\"ship\" + 0.017*\"museum\" + 0.015*\"art\" + 0.010*\"ships\" + 0.010*\"santa\" + 0.010*\"guard\" + 0.008*\"coast\" + 0.008*\"works\" + 0.008*\"van\" + 0.008*\"collection\"\n",
      "INFO:gensim.models.ldamodel:topic #67 (0.010): 0.034*\"stock\" + 0.025*\"market\" + 0.018*\"index\" + 0.015*\"exchange\" + 0.015*\"stocks\" + 0.014*\"2\" + 0.013*\"trading\" + 0.012*\"shares\" + 0.011*\"1\" + 0.011*\"jones\"\n",
      "INFO:gensim.models.ldamodel:topic #44 (0.010): 0.018*\"east\" + 0.016*\"poland\" + 0.014*\"europe\" + 0.013*\"communist\" + 0.012*\"economic\" + 0.010*\"hungary\" + 0.010*\"germany\" + 0.009*\"west\" + 0.008*\"eastern\" + 0.008*\"marcos\"\n",
      "INFO:gensim.models.ldamodel:topic #99 (0.010): 0.029*\"bush\" + 0.020*\"president\" + 0.013*\"reagan\" + 0.011*\"white\" + 0.008*\"house\" + 0.006*\"reporters\" + 0.006*\"fitzwater\" + 0.005*\"romanian\" + 0.005*\"nuclear\" + 0.005*\"presidential\"\n"
     ]
    },
    {
     "name": "stderr",
     "output_type": "stream",
     "text": [
      "INFO:gensim.models.ldamodel:topic diff=inf, rho=0.408248\n",
      "INFO:gensim.models.ldamodel:PROGRESS: pass 0, at document #14000/164597\n",
      "INFO:gensim.models.ldamodel:merging changes from 2000 documents into a model of 164597 documents\n",
      "INFO:gensim.models.ldamodel:topic #79 (0.010): 0.018*\"plane\" + 0.018*\"air\" + 0.016*\"flight\" + 0.014*\"airport\" + 0.011*\"aircraft\" + 0.010*\"quake\" + 0.010*\"airlines\" + 0.010*\"pilot\" + 0.009*\"boeing\" + 0.008*\"jet\"\n",
      "INFO:gensim.models.ldamodel:topic #48 (0.010): 0.074*\"school\" + 0.036*\"students\" + 0.027*\"schools\" + 0.024*\"education\" + 0.015*\"teachers\" + 0.012*\"high\" + 0.010*\"student\" + 0.010*\"university\" + 0.009*\"college\" + 0.008*\"parents\"\n",
      "INFO:gensim.models.ldamodel:topic #53 (0.010): 0.011*\"steel\" + 0.011*\"surgery\" + 0.007*\"transplant\" + 0.006*\"university\" + 0.006*\"liver\" + 0.006*\"cigarette\" + 0.005*\"transplants\" + 0.005*\"organs\" + 0.005*\"tobacco\" + 0.005*\"united\"\n",
      "INFO:gensim.models.ldamodel:topic #63 (0.010): 0.213*\"y\" + 0.088*\"n\" + 0.036*\"strike\" + 0.027*\"republicans\" + 0.024*\"democrats\" + 0.013*\"x\" + 0.011*\"strikers\" + 0.009*\"democrat\" + 0.009*\"smith\" + 0.008*\"workers\"\n",
      "INFO:gensim.models.ldamodel:topic #90 (0.010): 0.016*\"house\" + 0.014*\"bush\" + 0.014*\"president\" + 0.012*\"congress\" + 0.007*\"new\" + 0.006*\"senate\" + 0.006*\"budget\" + 0.006*\"bill\" + 0.005*\"administration\" + 0.004*\"members\"\n",
      "INFO:gensim.models.ldamodel:topic diff=inf, rho=0.377964\n",
      "INFO:gensim.models.ldamodel:PROGRESS: pass 0, at document #16000/164597\n",
      "INFO:gensim.models.ldamodel:merging changes from 2000 documents into a model of 164597 documents\n",
      "INFO:gensim.models.ldamodel:topic #90 (0.010): 0.016*\"house\" + 0.014*\"bush\" + 0.014*\"president\" + 0.014*\"congress\" + 0.007*\"budget\" + 0.007*\"new\" + 0.006*\"senate\" + 0.005*\"bill\" + 0.005*\"administration\" + 0.005*\"congressional\"\n",
      "INFO:gensim.models.ldamodel:topic #75 (0.010): 0.025*\"government\" + 0.012*\"party\" + 0.012*\"communist\" + 0.009*\"solidarity\" + 0.008*\"people\" + 0.008*\"police\" + 0.007*\"opposition\" + 0.006*\"news\" + 0.006*\"minister\" + 0.005*\"leader\"\n",
      "INFO:gensim.models.ldamodel:topic #9 (0.010): 0.016*\"space\" + 0.008*\"launch\" + 0.007*\"shuttle\" + 0.006*\"mission\" + 0.006*\"earth\" + 0.005*\"park\" + 0.005*\"fish\" + 0.005*\"miles\" + 0.005*\"nasa\" + 0.005*\"two\"\n",
      "INFO:gensim.models.ldamodel:topic #56 (0.010): 0.061*\"plant\" + 0.050*\"nuclear\" + 0.014*\"power\" + 0.011*\"weapons\" + 0.010*\"plants\" + 0.008*\"officials\" + 0.007*\"reactor\" + 0.007*\"nrc\" + 0.007*\"site\" + 0.007*\"libya\"\n",
      "INFO:gensim.models.ldamodel:topic #36 (0.010): 0.045*\"east\" + 0.041*\"west\" + 0.026*\"german\" + 0.025*\"berlin\" + 0.023*\"germany\" + 0.021*\"south\" + 0.015*\"africa\" + 0.012*\"un\" + 0.012*\"germans\" + 0.011*\"african\"\n",
      "INFO:gensim.models.ldamodel:topic diff=inf, rho=0.353553\n",
      "INFO:gensim.models.ldamodel:PROGRESS: pass 0, at document #18000/164597\n",
      "INFO:gensim.models.ldamodel:merging changes from 2000 documents into a model of 164597 documents\n",
      "INFO:gensim.models.ldamodel:topic #82 (0.010): 0.021*\"newspaper\" + 0.021*\"paper\" + 0.014*\"newspapers\" + 0.012*\"casino\" + 0.010*\"edition\" + 0.009*\"las\" + 0.009*\"000\" + 0.008*\"vegas\" + 0.008*\"nevada\" + 0.007*\"gaming\"\n",
      "INFO:gensim.models.ldamodel:topic #81 (0.010): 0.014*\"army\" + 0.011*\"israeli\" + 0.010*\"government\" + 0.010*\"troops\" + 0.010*\"israel\" + 0.009*\"soldiers\" + 0.009*\"military\" + 0.009*\"peace\" + 0.008*\"guerrillas\" + 0.008*\"arab\"\n",
      "INFO:gensim.models.ldamodel:topic #96 (0.010): 0.028*\"party\" + 0.012*\"political\" + 0.012*\"government\" + 0.008*\"parliament\" + 0.008*\"elections\" + 0.007*\"new\" + 0.007*\"leader\" + 0.007*\"president\" + 0.007*\"opposition\" + 0.006*\"minister\"\n",
      "INFO:gensim.models.ldamodel:topic #9 (0.010): 0.016*\"space\" + 0.007*\"launch\" + 0.006*\"mission\" + 0.006*\"moon\" + 0.006*\"earth\" + 0.006*\"shuttle\" + 0.006*\"miles\" + 0.005*\"park\" + 0.005*\"fish\" + 0.005*\"two\"\n",
      "INFO:gensim.models.ldamodel:topic #79 (0.010): 0.021*\"plane\" + 0.020*\"flight\" + 0.019*\"air\" + 0.015*\"airport\" + 0.012*\"aircraft\" + 0.011*\"pilot\" + 0.010*\"airlines\" + 0.010*\"planes\" + 0.009*\"crash\" + 0.009*\"safety\"\n",
      "INFO:gensim.models.ldamodel:topic diff=inf, rho=0.333333\n",
      "INFO:gensim.models.ldamodel:-13.689 per-word bound, 13207.2 perplexity estimate based on a held-out corpus of 2000 documents with 537339 words\n",
      "INFO:gensim.models.ldamodel:PROGRESS: pass 0, at document #20000/164597\n",
      "INFO:gensim.models.ldamodel:merging changes from 2000 documents into a model of 164597 documents\n",
      "INFO:gensim.models.ldamodel:topic #90 (0.010): 0.018*\"house\" + 0.016*\"congress\" + 0.014*\"president\" + 0.014*\"bush\" + 0.007*\"budget\" + 0.007*\"new\" + 0.006*\"bill\" + 0.006*\"senate\" + 0.006*\"administration\" + 0.005*\"congressional\"\n",
      "INFO:gensim.models.ldamodel:topic #41 (0.010): 0.068*\"drug\" + 0.023*\"cocaine\" + 0.013*\"drugs\" + 0.012*\"police\" + 0.011*\"colombia\" + 0.010*\"united\" + 0.010*\"states\" + 0.009*\"traffickers\" + 0.008*\"colombian\" + 0.006*\"government\"\n",
      "INFO:gensim.models.ldamodel:topic #39 (0.010): 0.037*\"book\" + 0.012*\"dog\" + 0.012*\"base\" + 0.008*\"town\" + 0.006*\"bases\" + 0.006*\"story\" + 0.006*\"norwegian\" + 0.005*\"turner\" + 0.004*\"old\" + 0.004*\"norway\"\n",
      "INFO:gensim.models.ldamodel:topic #82 (0.010): 0.024*\"newspaper\" + 0.023*\"paper\" + 0.014*\"newspapers\" + 0.012*\"casino\" + 0.010*\"edition\" + 0.010*\"las\" + 0.009*\"vegas\" + 0.009*\"nevada\" + 0.009*\"000\" + 0.007*\"hotel\"\n",
      "INFO:gensim.models.ldamodel:topic #53 (0.010): 0.018*\"steel\" + 0.010*\"liver\" + 0.009*\"transplant\" + 0.009*\"surgery\" + 0.008*\"cigarette\" + 0.007*\"university\" + 0.007*\"tobacco\" + 0.007*\"brazil\" + 0.007*\"organs\" + 0.006*\"organ\"\n",
      "INFO:gensim.models.ldamodel:topic diff=inf, rho=0.316228\n",
      "INFO:gensim.models.ldamodel:PROGRESS: pass 0, at document #22000/164597\n",
      "INFO:gensim.models.ldamodel:merging changes from 2000 documents into a model of 164597 documents\n",
      "INFO:gensim.models.ldamodel:topic #41 (0.010): 0.068*\"drug\" + 0.021*\"cocaine\" + 0.013*\"drugs\" + 0.012*\"police\" + 0.011*\"colombia\" + 0.009*\"states\" + 0.009*\"united\" + 0.008*\"colombian\" + 0.008*\"traffickers\" + 0.007*\"enforcement\"\n",
      "INFO:gensim.models.ldamodel:topic #19 (0.010): 0.053*\"oil\" + 0.017*\"spill\" + 0.015*\"exxon\" + 0.010*\"gas\" + 0.009*\"tanker\" + 0.009*\"coast\" + 0.009*\"valdez\" + 0.009*\"cleanup\" + 0.008*\"alaska\" + 0.008*\"gallons\"\n",
      "INFO:gensim.models.ldamodel:topic #87 (0.010): 0.022*\"death\" + 0.014*\"murder\" + 0.012*\"trial\" + 0.012*\"convicted\" + 0.011*\"prison\" + 0.010*\"judge\" + 0.009*\"court\" + 0.009*\"case\" + 0.008*\"sentence\" + 0.008*\"crime\"\n",
      "INFO:gensim.models.ldamodel:topic #85 (0.010): 0.022*\"coal\" + 0.019*\"miners\" + 0.015*\"virginia\" + 0.013*\"mine\" + 0.009*\"pittston\" + 0.009*\"relief\" + 0.008*\"campbell\" + 0.007*\"000\" + 0.006*\"sudan\" + 0.006*\"ling\"\n",
      "INFO:gensim.models.ldamodel:topic #65 (0.010): 0.027*\"british\" + 0.026*\"share\" + 0.017*\"shares\" + 0.015*\"billion\" + 0.014*\"pounds\" + 0.014*\"1\" + 0.011*\"percent\" + 0.011*\"2\" + 0.010*\"bid\" + 0.010*\"plc\"\n",
      "INFO:gensim.models.ldamodel:topic diff=inf, rho=0.301511\n",
      "INFO:gensim.models.ldamodel:PROGRESS: pass 0, at document #24000/164597\n",
      "INFO:gensim.models.ldamodel:merging changes from 2000 documents into a model of 164597 documents\n",
      "INFO:gensim.models.ldamodel:topic #32 (0.010): 0.033*\"percent\" + 0.011*\"survey\" + 0.009*\"americans\" + 0.007*\"poll\" + 0.006*\"new\" + 0.005*\"000\" + 0.004*\"american\" + 0.004*\"people\" + 0.004*\"found\" + 0.004*\"say\"\n",
      "INFO:gensim.models.ldamodel:topic #3 (0.010): 0.034*\"company\" + 0.022*\"workers\" + 0.018*\"union\" + 0.016*\"companies\" + 0.013*\"new\" + 0.012*\"employees\" + 0.011*\"contract\" + 0.010*\"corp\" + 0.010*\"co\" + 0.008*\"work\"\n",
      "INFO:gensim.models.ldamodel:topic #95 (0.010): 0.020*\"agreement\" + 0.019*\"european\" + 0.016*\"conference\" + 0.012*\"soviet\" + 0.012*\"britain\" + 0.009*\"talks\" + 0.009*\"france\" + 0.008*\"missiles\" + 0.007*\"union\" + 0.007*\"treaty\"\n",
      "INFO:gensim.models.ldamodel:topic #51 (0.010): 0.025*\"alar\" + 0.024*\"apples\" + 0.023*\"apple\" + 0.018*\"clark\" + 0.017*\"fruit\" + 0.014*\"jurors\" + 0.013*\"growers\" + 0.013*\"pizza\" + 0.012*\"evans\" + 0.010*\"honeywell\"\n",
      "INFO:gensim.models.ldamodel:topic #4 (0.010): 0.022*\"store\" + 0.022*\"stores\" + 0.014*\"food\" + 0.010*\"sears\" + 0.007*\"fruit\" + 0.007*\"simmons\" + 0.006*\"glass\" + 0.006*\"hartwig\" + 0.005*\"shopping\" + 0.005*\"lunar\"\n",
      "INFO:gensim.models.ldamodel:topic diff=inf, rho=0.288675\n",
      "INFO:gensim.models.ldamodel:PROGRESS: pass 0, at document #26000/164597\n",
      "INFO:gensim.models.ldamodel:merging changes from 2000 documents into a model of 164597 documents\n"
     ]
    },
    {
     "name": "stderr",
     "output_type": "stream",
     "text": [
      "INFO:gensim.models.ldamodel:topic #92 (0.010): 0.015*\"000\" + 0.011*\"forest\" + 0.009*\"acres\" + 0.008*\"rogers\" + 0.008*\"camp\" + 0.007*\"people\" + 0.007*\"land\" + 0.007*\"red\" + 0.007*\"cross\" + 0.007*\"air\"\n",
      "INFO:gensim.models.ldamodel:topic #84 (0.010): 0.015*\"editor\" + 0.014*\"post\" + 0.014*\"adams\" + 0.013*\"times\" + 0.011*\"news\" + 0.010*\"ireland\" + 0.010*\"award\" + 0.010*\"newspaper\" + 0.009*\"gambling\" + 0.009*\"ira\"\n",
      "INFO:gensim.models.ldamodel:topic #38 (0.010): 0.023*\"eastern\" + 0.015*\"company\" + 0.013*\"offer\" + 0.011*\"airlines\" + 0.011*\"stock\" + 0.010*\"million\" + 0.010*\"pilots\" + 0.010*\"airline\" + 0.010*\"new\" + 0.009*\"takeover\"\n",
      "INFO:gensim.models.ldamodel:topic #54 (0.010): 0.018*\"department\" + 0.014*\"federal\" + 0.011*\"service\" + 0.010*\"program\" + 0.010*\"agency\" + 0.010*\"secretary\" + 0.009*\"subcommittee\" + 0.009*\"public\" + 0.009*\"programs\" + 0.008*\"national\"\n",
      "INFO:gensim.models.ldamodel:topic #48 (0.010): 0.080*\"school\" + 0.047*\"students\" + 0.029*\"schools\" + 0.028*\"university\" + 0.026*\"education\" + 0.016*\"college\" + 0.015*\"teachers\" + 0.015*\"high\" + 0.014*\"student\" + 0.010*\"children\"\n",
      "INFO:gensim.models.ldamodel:topic diff=inf, rho=0.277350\n",
      "INFO:gensim.models.ldamodel:PROGRESS: pass 0, at document #28000/164597\n",
      "INFO:gensim.models.ldamodel:merging changes from 2000 documents into a model of 164597 documents\n",
      "INFO:gensim.models.ldamodel:topic #1 (0.010): 0.045*\"computer\" + 0.018*\"technology\" + 0.017*\"systems\" + 0.016*\"system\" + 0.016*\"computers\" + 0.012*\"market\" + 0.011*\"equipment\" + 0.009*\"industry\" + 0.008*\"machines\" + 0.008*\"data\"\n",
      "INFO:gensim.models.ldamodel:topic #26 (0.010): 0.063*\"million\" + 0.024*\"1\" + 0.014*\"warner\" + 0.014*\"2\" + 0.014*\"time\" + 0.011*\"5\" + 0.010*\"paramount\" + 0.008*\"3\" + 0.007*\"4\" + 0.007*\"7\"\n",
      "INFO:gensim.models.ldamodel:topic #47 (0.010): 0.042*\"quayle\" + 0.021*\"mandela\" + 0.017*\"duke\" + 0.016*\"vice\" + 0.011*\"fans\" + 0.009*\"nixon\" + 0.009*\"president\" + 0.008*\"morgan\" + 0.008*\"soccer\" + 0.007*\"quayles\"\n",
      "INFO:gensim.models.ldamodel:topic #20 (0.010): 0.030*\"miller\" + 0.027*\"beer\" + 0.025*\"carter\" + 0.023*\"giuliani\" + 0.022*\"alcohol\" + 0.011*\"busch\" + 0.011*\"drinking\" + 0.010*\"rudolph\" + 0.009*\"wang\" + 0.009*\"liquor\"\n",
      "INFO:gensim.models.ldamodel:topic #98 (0.010): 0.053*\"1\" + 0.043*\"dollar\" + 0.031*\"yen\" + 0.025*\"late\" + 0.025*\"gold\" + 0.018*\"london\" + 0.014*\"bid\" + 0.012*\"ounce\" + 0.011*\"dealers\" + 0.011*\"bank\"\n",
      "INFO:gensim.models.ldamodel:topic diff=inf, rho=0.267261\n",
      "INFO:gensim.models.ldamodel:PROGRESS: pass 0, at document #30000/164597\n",
      "INFO:gensim.models.ldamodel:merging changes from 2000 documents into a model of 164597 documents\n",
      "INFO:gensim.models.ldamodel:topic #77 (0.010): 0.066*\"bush\" + 0.019*\"president\" + 0.016*\"fitzwater\" + 0.016*\"budget\" + 0.013*\"white\" + 0.012*\"administration\" + 0.012*\"house\" + 0.012*\"bushs\" + 0.010*\"spending\" + 0.010*\"cuts\"\n",
      "INFO:gensim.models.ldamodel:topic #0 (0.010): 0.052*\"abortion\" + 0.023*\"gandhi\" + 0.017*\"singh\" + 0.014*\"abortions\" + 0.011*\"wade\" + 0.011*\"roe\" + 0.010*\"choice\" + 0.010*\"pro\" + 0.008*\"repeal\" + 0.007*\"anti\"\n",
      "INFO:gensim.models.ldamodel:topic #43 (0.010): 0.025*\"kennedy\" + 0.017*\"population\" + 0.014*\"percent\" + 0.013*\"bureau\" + 0.011*\"census\" + 0.009*\"study\" + 0.007*\"american\" + 0.007*\"technology\" + 0.006*\"high\" + 0.006*\"new\"\n",
      "INFO:gensim.models.ldamodel:topic #42 (0.010): 0.021*\"credit\" + 0.015*\"mortgage\" + 0.013*\"home\" + 0.010*\"loans\" + 0.008*\"fixed\" + 0.008*\"mcorp\" + 0.008*\"compensation\" + 0.007*\"homes\" + 0.007*\"jacobs\" + 0.006*\"slower\"\n",
      "INFO:gensim.models.ldamodel:topic #82 (0.010): 0.040*\"newspaper\" + 0.030*\"paper\" + 0.026*\"newspapers\" + 0.014*\"daily\" + 0.011*\"casino\" + 0.011*\"las\" + 0.011*\"vegas\" + 0.009*\"edition\" + 0.008*\"news\" + 0.008*\"hotel\"\n",
      "INFO:gensim.models.ldamodel:topic diff=inf, rho=0.258199\n",
      "INFO:gensim.models.ldamodel:PROGRESS: pass 0, at document #32000/164597\n",
      "INFO:gensim.models.ldamodel:merging changes from 2000 documents into a model of 164597 documents\n",
      "INFO:gensim.models.ldamodel:topic #25 (0.010): 0.014*\"securities\" + 0.014*\"company\" + 0.010*\"firm\" + 0.010*\"chairman\" + 0.010*\"business\" + 0.009*\"million\" + 0.009*\"co\" + 0.008*\"investment\" + 0.008*\"drexel\" + 0.008*\"stock\"\n",
      "INFO:gensim.models.ldamodel:topic #0 (0.010): 0.066*\"abortion\" + 0.019*\"abortions\" + 0.018*\"gandhi\" + 0.015*\"singh\" + 0.013*\"roe\" + 0.012*\"wade\" + 0.012*\"choice\" + 0.012*\"pro\" + 0.008*\"anti\" + 0.008*\"missouri\"\n",
      "INFO:gensim.models.ldamodel:topic #2 (0.010): 0.035*\"ship\" + 0.023*\"coast\" + 0.019*\"museum\" + 0.019*\"guard\" + 0.017*\"sea\" + 0.015*\"ships\" + 0.013*\"vessel\" + 0.013*\"boat\" + 0.011*\"van\" + 0.011*\"port\"\n",
      "INFO:gensim.models.ldamodel:topic #96 (0.010): 0.039*\"party\" + 0.014*\"government\" + 0.014*\"political\" + 0.010*\"parliament\" + 0.009*\"power\" + 0.009*\"minister\" + 0.009*\"new\" + 0.009*\"elections\" + 0.008*\"leader\" + 0.008*\"opposition\"\n",
      "INFO:gensim.models.ldamodel:topic #36 (0.010): 0.063*\"west\" + 0.058*\"east\" + 0.041*\"german\" + 0.035*\"germany\" + 0.022*\"south\" + 0.018*\"berlin\" + 0.018*\"germans\" + 0.015*\"africa\" + 0.013*\"un\" + 0.012*\"african\"\n",
      "INFO:gensim.models.ldamodel:topic diff=inf, rho=0.250000\n",
      "INFO:gensim.models.ldamodel:PROGRESS: pass 0, at document #34000/164597\n",
      "INFO:gensim.models.ldamodel:merging changes from 2000 documents into a model of 164597 documents\n",
      "INFO:gensim.models.ldamodel:topic #38 (0.010): 0.023*\"eastern\" + 0.015*\"company\" + 0.013*\"airlines\" + 0.012*\"offer\" + 0.011*\"pilots\" + 0.010*\"stock\" + 0.010*\"airline\" + 0.010*\"bankruptcy\" + 0.010*\"million\" + 0.009*\"new\"\n",
      "INFO:gensim.models.ldamodel:topic #13 (0.010): 0.022*\"people\" + 0.013*\"killed\" + 0.013*\"two\" + 0.011*\"bus\" + 0.011*\"accident\" + 0.010*\"san\" + 0.010*\"miles\" + 0.010*\"train\" + 0.009*\"injured\" + 0.008*\"cars\"\n",
      "INFO:gensim.models.ldamodel:topic #58 (0.010): 0.025*\"million\" + 0.017*\"production\" + 0.015*\"farmers\" + 0.014*\"farm\" + 0.012*\"prices\" + 0.011*\"agriculture\" + 0.009*\"price\" + 0.009*\"tons\" + 0.009*\"percent\" + 0.008*\"report\"\n",
      "INFO:gensim.models.ldamodel:topic #88 (0.010): 0.053*\"north\" + 0.052*\"south\" + 0.047*\"korea\" + 0.032*\"korean\" + 0.014*\"seoul\" + 0.013*\"roh\" + 0.011*\"kim\" + 0.010*\"dali\" + 0.009*\"radical\" + 0.007*\"moon\"\n",
      "INFO:gensim.models.ldamodel:topic #26 (0.010): 0.062*\"million\" + 0.023*\"1\" + 0.017*\"warner\" + 0.016*\"time\" + 0.013*\"2\" + 0.011*\"5\" + 0.009*\"3\" + 0.009*\"paramount\" + 0.008*\"merger\" + 0.007*\"7\"\n",
      "INFO:gensim.models.ldamodel:topic diff=inf, rho=0.242536\n",
      "INFO:gensim.models.ldamodel:PROGRESS: pass 0, at document #36000/164597\n",
      "INFO:gensim.models.ldamodel:merging changes from 2000 documents into a model of 164597 documents\n",
      "INFO:gensim.models.ldamodel:topic #25 (0.010): 0.015*\"securities\" + 0.014*\"company\" + 0.011*\"firm\" + 0.010*\"business\" + 0.010*\"million\" + 0.010*\"chairman\" + 0.009*\"stock\" + 0.009*\"investment\" + 0.009*\"co\" + 0.009*\"companies\"\n",
      "INFO:gensim.models.ldamodel:topic #38 (0.010): 0.022*\"eastern\" + 0.015*\"company\" + 0.013*\"airlines\" + 0.012*\"offer\" + 0.010*\"pilots\" + 0.010*\"new\" + 0.010*\"million\" + 0.010*\"stock\" + 0.010*\"bankruptcy\" + 0.009*\"airline\"\n",
      "INFO:gensim.models.ldamodel:topic #35 (0.010): 0.023*\"charges\" + 0.015*\"trial\" + 0.013*\"attorney\" + 0.013*\"former\" + 0.012*\"case\" + 0.012*\"jury\" + 0.011*\"judge\" + 0.011*\"charged\" + 0.010*\"guilty\" + 0.010*\"years\"\n",
      "INFO:gensim.models.ldamodel:topic #96 (0.010): 0.039*\"party\" + 0.015*\"government\" + 0.014*\"political\" + 0.011*\"parliament\" + 0.010*\"minister\" + 0.009*\"new\" + 0.009*\"elections\" + 0.009*\"power\" + 0.009*\"opposition\" + 0.008*\"communist\"\n",
      "INFO:gensim.models.ldamodel:topic #42 (0.010): 0.023*\"credit\" + 0.019*\"mortgage\" + 0.014*\"home\" + 0.013*\"estate\" + 0.012*\"loans\" + 0.009*\"real\" + 0.008*\"fixed\" + 0.007*\"compensation\" + 0.007*\"portfolio\" + 0.007*\"banks\"\n",
      "INFO:gensim.models.ldamodel:topic diff=inf, rho=0.235702\n",
      "INFO:gensim.models.ldamodel:PROGRESS: pass 0, at document #38000/164597\n",
      "INFO:gensim.models.ldamodel:merging changes from 2000 documents into a model of 164597 documents\n",
      "INFO:gensim.models.ldamodel:topic #9 (0.010): 0.020*\"space\" + 0.009*\"launch\" + 0.008*\"shuttle\" + 0.007*\"earth\" + 0.007*\"mission\" + 0.006*\"miles\" + 0.006*\"feet\" + 0.006*\"two\" + 0.006*\"park\" + 0.005*\"satellite\"\n",
      "INFO:gensim.models.ldamodel:topic #87 (0.010): 0.027*\"death\" + 0.021*\"murder\" + 0.015*\"trial\" + 0.014*\"convicted\" + 0.014*\"prison\" + 0.010*\"court\" + 0.009*\"judge\" + 0.009*\"sentence\" + 0.009*\"case\" + 0.008*\"years\"\n"
     ]
    },
    {
     "name": "stderr",
     "output_type": "stream",
     "text": [
      "INFO:gensim.models.ldamodel:topic #95 (0.010): 0.027*\"agreement\" + 0.023*\"european\" + 0.023*\"french\" + 0.017*\"france\" + 0.015*\"conference\" + 0.013*\"britain\" + 0.011*\"treaty\" + 0.011*\"talks\" + 0.010*\"missiles\" + 0.010*\"soviet\"\n",
      "INFO:gensim.models.ldamodel:topic #69 (0.010): 0.023*\"billion\" + 0.019*\"bank\" + 0.015*\"money\" + 0.012*\"bill\" + 0.012*\"plan\" + 0.012*\"federal\" + 0.012*\"million\" + 0.011*\"banks\" + 0.009*\"savings\" + 0.008*\"capital\"\n",
      "INFO:gensim.models.ldamodel:topic #14 (0.010): 0.033*\"gun\" + 0.030*\"weapons\" + 0.021*\"guns\" + 0.016*\"assault\" + 0.013*\"shining\" + 0.012*\"rifle\" + 0.011*\"rifles\" + 0.011*\"path\" + 0.011*\"lima\" + 0.009*\"automatic\"\n",
      "INFO:gensim.models.ldamodel:topic diff=inf, rho=0.229416\n",
      "INFO:gensim.models.ldamodel:-13.445 per-word bound, 11151.2 perplexity estimate based on a held-out corpus of 2000 documents with 528584 words\n",
      "INFO:gensim.models.ldamodel:PROGRESS: pass 0, at document #40000/164597\n",
      "INFO:gensim.models.ldamodel:merging changes from 2000 documents into a model of 164597 documents\n",
      "INFO:gensim.models.ldamodel:topic #17 (0.010): 0.027*\"hugo\" + 0.015*\"marriage\" + 0.014*\"couples\" + 0.013*\"couple\" + 0.013*\"sex\" + 0.013*\"cooper\" + 0.013*\"divorce\" + 0.011*\"prize\" + 0.011*\"married\" + 0.010*\"male\"\n",
      "INFO:gensim.models.ldamodel:topic #11 (0.010): 0.013*\"investigation\" + 0.011*\"north\" + 0.010*\"security\" + 0.009*\"information\" + 0.008*\"report\" + 0.007*\"told\" + 0.007*\"fbi\" + 0.007*\"officials\" + 0.007*\"documents\" + 0.007*\"department\"\n",
      "INFO:gensim.models.ldamodel:topic #98 (0.010): 0.053*\"1\" + 0.044*\"dollar\" + 0.033*\"yen\" + 0.025*\"late\" + 0.022*\"gold\" + 0.016*\"london\" + 0.014*\"bid\" + 0.013*\"ounce\" + 0.012*\"new\" + 0.012*\"dealers\"\n",
      "INFO:gensim.models.ldamodel:topic #66 (0.010): 0.055*\"percent\" + 0.036*\"million\" + 0.031*\"1\" + 0.023*\"billion\" + 0.022*\"2\" + 0.020*\"3\" + 0.017*\"5\" + 0.017*\"sales\" + 0.016*\"4\" + 0.014*\"6\"\n",
      "INFO:gensim.models.ldamodel:topic #2 (0.010): 0.032*\"ship\" + 0.028*\"coast\" + 0.025*\"guard\" + 0.017*\"boat\" + 0.017*\"sea\" + 0.016*\"ships\" + 0.012*\"museum\" + 0.012*\"island\" + 0.011*\"van\" + 0.011*\"vessel\"\n",
      "INFO:gensim.models.ldamodel:topic diff=inf, rho=0.223607\n",
      "INFO:gensim.models.ldamodel:PROGRESS: pass 0, at document #42000/164597\n",
      "INFO:gensim.models.ldamodel:merging changes from 2000 documents into a model of 164597 documents\n",
      "INFO:gensim.models.ldamodel:topic #26 (0.010): 0.066*\"million\" + 0.026*\"1\" + 0.018*\"time\" + 0.016*\"warner\" + 0.013*\"2\" + 0.011*\"5\" + 0.010*\"holly\" + 0.010*\"3\" + 0.009*\"paramount\" + 0.008*\"entertainment\"\n",
      "INFO:gensim.models.ldamodel:topic #73 (0.010): 0.029*\"cbs\" + 0.027*\"nbc\" + 0.024*\"abc\" + 0.015*\"5\" + 0.015*\"10\" + 0.015*\"million\" + 0.014*\"11\" + 0.013*\"2\" + 0.013*\"7\" + 0.013*\"6\"\n",
      "INFO:gensim.models.ldamodel:topic #43 (0.010): 0.023*\"kennedy\" + 0.018*\"population\" + 0.014*\"bureau\" + 0.014*\"minus\" + 0.013*\"percent\" + 0.011*\"census\" + 0.011*\"hispanic\" + 0.010*\"study\" + 0.009*\"hispanics\" + 0.008*\"mosbacher\"\n",
      "INFO:gensim.models.ldamodel:topic #5 (0.010): 0.017*\"canadian\" + 0.016*\"immigration\" + 0.016*\"canada\" + 0.012*\"hotel\" + 0.012*\"ins\" + 0.012*\"texas\" + 0.012*\"thatcher\" + 0.011*\"asylum\" + 0.011*\"new\" + 0.008*\"hotels\"\n",
      "INFO:gensim.models.ldamodel:topic #48 (0.010): 0.078*\"school\" + 0.049*\"students\" + 0.031*\"university\" + 0.030*\"education\" + 0.029*\"schools\" + 0.020*\"college\" + 0.017*\"student\" + 0.016*\"high\" + 0.015*\"teachers\" + 0.011*\"children\"\n",
      "INFO:gensim.models.ldamodel:topic diff=inf, rho=0.218218\n",
      "INFO:gensim.models.ldamodel:PROGRESS: pass 0, at document #44000/164597\n",
      "INFO:gensim.models.ldamodel:merging changes from 2000 documents into a model of 164597 documents\n",
      "INFO:gensim.models.ldamodel:topic #80 (0.010): 0.028*\"united\" + 0.027*\"states\" + 0.013*\"foreign\" + 0.011*\"countries\" + 0.009*\"trade\" + 0.008*\"baker\" + 0.008*\"world\" + 0.008*\"nations\" + 0.008*\"talks\" + 0.008*\"american\"\n",
      "INFO:gensim.models.ldamodel:topic #59 (0.010): 0.058*\"vietnam\" + 0.031*\"vietnamese\" + 0.023*\"rouge\" + 0.020*\"cambodia\" + 0.020*\"khmer\" + 0.018*\"refugees\" + 0.014*\"war\" + 0.012*\"cambodian\" + 0.012*\"government\" + 0.011*\"thailand\"\n",
      "INFO:gensim.models.ldamodel:topic #58 (0.010): 0.022*\"million\" + 0.017*\"production\" + 0.016*\"farmers\" + 0.016*\"farm\" + 0.014*\"prices\" + 0.011*\"agriculture\" + 0.010*\"tons\" + 0.009*\"price\" + 0.009*\"report\" + 0.008*\"percent\"\n",
      "INFO:gensim.models.ldamodel:topic #87 (0.010): 0.029*\"death\" + 0.020*\"murder\" + 0.014*\"prison\" + 0.014*\"convicted\" + 0.014*\"trial\" + 0.010*\"crime\" + 0.010*\"judge\" + 0.009*\"court\" + 0.009*\"sentence\" + 0.009*\"case\"\n",
      "INFO:gensim.models.ldamodel:topic #93 (0.010): 0.041*\"percent\" + 0.020*\"rate\" + 0.014*\"rates\" + 0.014*\"economic\" + 0.013*\"inflation\" + 0.012*\"economy\" + 0.011*\"prices\" + 0.010*\"growth\" + 0.010*\"interest\" + 0.008*\"market\"\n",
      "INFO:gensim.models.ldamodel:topic diff=inf, rho=0.213201\n",
      "INFO:gensim.models.ldamodel:PROGRESS: pass 0, at document #46000/164597\n",
      "INFO:gensim.models.ldamodel:merging changes from 2000 documents into a model of 164597 documents\n",
      "INFO:gensim.models.ldamodel:topic #48 (0.010): 0.079*\"school\" + 0.049*\"students\" + 0.033*\"university\" + 0.031*\"schools\" + 0.030*\"education\" + 0.019*\"college\" + 0.017*\"high\" + 0.015*\"student\" + 0.014*\"teachers\" + 0.012*\"children\"\n",
      "INFO:gensim.models.ldamodel:topic #68 (0.010): 0.028*\"medical\" + 0.025*\"drug\" + 0.024*\"doctors\" + 0.020*\"patients\" + 0.020*\"blood\" + 0.019*\"tests\" + 0.017*\"hospital\" + 0.016*\"testing\" + 0.016*\"dr\" + 0.015*\"treatment\"\n",
      "INFO:gensim.models.ldamodel:topic #56 (0.010): 0.065*\"plant\" + 0.052*\"nuclear\" + 0.023*\"weapons\" + 0.021*\"power\" + 0.015*\"plants\" + 0.015*\"energy\" + 0.014*\"chemical\" + 0.012*\"libya\" + 0.011*\"libyan\" + 0.010*\"safety\"\n",
      "INFO:gensim.models.ldamodel:topic #58 (0.010): 0.022*\"million\" + 0.017*\"production\" + 0.016*\"farmers\" + 0.015*\"farm\" + 0.014*\"prices\" + 0.012*\"agriculture\" + 0.010*\"tons\" + 0.009*\"price\" + 0.009*\"report\" + 0.008*\"percent\"\n",
      "INFO:gensim.models.ldamodel:topic #7 (0.010): 0.011*\"show\" + 0.009*\"music\" + 0.009*\"film\" + 0.008*\"movie\" + 0.007*\"new\" + 0.006*\"miss\" + 0.006*\"television\" + 0.006*\"best\" + 0.005*\"actor\" + 0.005*\"series\"\n",
      "INFO:gensim.models.ldamodel:topic diff=inf, rho=0.208514\n",
      "INFO:gensim.models.ldamodel:PROGRESS: pass 0, at document #48000/164597\n",
      "INFO:gensim.models.ldamodel:merging changes from 2000 documents into a model of 164597 documents\n",
      "INFO:gensim.models.ldamodel:topic #60 (0.010): 0.059*\"housing\" + 0.034*\"hud\" + 0.030*\"project\" + 0.016*\"kemp\" + 0.015*\"projects\" + 0.015*\"development\" + 0.014*\"urban\" + 0.014*\"pierce\" + 0.012*\"former\" + 0.012*\"iowa\"\n",
      "INFO:gensim.models.ldamodel:topic #13 (0.010): 0.022*\"people\" + 0.013*\"killed\" + 0.013*\"two\" + 0.012*\"miles\" + 0.011*\"train\" + 0.011*\"accident\" + 0.011*\"san\" + 0.010*\"injured\" + 0.010*\"bus\" + 0.008*\"cars\"\n",
      "INFO:gensim.models.ldamodel:topic #76 (0.010): 0.014*\"people\" + 0.011*\"dont\" + 0.011*\"think\" + 0.009*\"going\" + 0.008*\"time\" + 0.008*\"says\" + 0.007*\"say\" + 0.006*\"years\" + 0.006*\"make\" + 0.006*\"thats\"\n",
      "INFO:gensim.models.ldamodel:topic #11 (0.010): 0.013*\"investigation\" + 0.010*\"north\" + 0.010*\"security\" + 0.009*\"information\" + 0.008*\"report\" + 0.008*\"fbi\" + 0.008*\"told\" + 0.007*\"did\" + 0.007*\"officials\" + 0.007*\"department\"\n",
      "INFO:gensim.models.ldamodel:topic #5 (0.010): 0.019*\"canadian\" + 0.017*\"immigration\" + 0.016*\"canada\" + 0.014*\"asylum\" + 0.013*\"ins\" + 0.011*\"hotel\" + 0.011*\"thatcher\" + 0.010*\"texas\" + 0.010*\"new\" + 0.010*\"hotels\"\n",
      "INFO:gensim.models.ldamodel:topic diff=inf, rho=0.204124\n",
      "INFO:gensim.models.ldamodel:PROGRESS: pass 0, at document #50000/164597\n",
      "INFO:gensim.models.ldamodel:merging changes from 2000 documents into a model of 164597 documents\n",
      "INFO:gensim.models.ldamodel:topic #61 (0.010): 0.014*\"new\" + 0.012*\"pan\" + 0.007*\"memorial\" + 0.007*\"harris\" + 0.007*\"australia\" + 0.006*\"australian\" + 0.005*\"subway\" + 0.005*\"freeway\" + 0.005*\"transit\" + 0.005*\"monument\"\n",
      "INFO:gensim.models.ldamodel:topic #60 (0.010): 0.061*\"housing\" + 0.038*\"hud\" + 0.031*\"project\" + 0.016*\"projects\" + 0.016*\"development\" + 0.015*\"urban\" + 0.014*\"kemp\" + 0.014*\"pierce\" + 0.012*\"former\" + 0.011*\"secretary\"\n",
      "INFO:gensim.models.ldamodel:topic #3 (0.010): 0.037*\"company\" + 0.028*\"workers\" + 0.020*\"union\" + 0.018*\"companies\" + 0.016*\"employees\" + 0.014*\"new\" + 0.012*\"co\" + 0.010*\"contract\" + 0.010*\"corp\" + 0.009*\"labor\"\n",
      "INFO:gensim.models.ldamodel:topic #88 (0.010): 0.069*\"south\" + 0.054*\"north\" + 0.047*\"korea\" + 0.041*\"korean\" + 0.019*\"seoul\" + 0.014*\"roh\" + 0.012*\"kim\" + 0.010*\"radical\" + 0.008*\"war\" + 0.007*\"government\"\n"
     ]
    },
    {
     "name": "stderr",
     "output_type": "stream",
     "text": [
      "INFO:gensim.models.ldamodel:topic #84 (0.010): 0.020*\"times\" + 0.017*\"editor\" + 0.017*\"news\" + 0.016*\"newspaper\" + 0.014*\"post\" + 0.014*\"ireland\" + 0.013*\"irish\" + 0.013*\"adams\" + 0.013*\"ad\" + 0.012*\"award\"\n",
      "INFO:gensim.models.ldamodel:topic diff=inf, rho=0.200000\n",
      "INFO:gensim.models.ldamodel:PROGRESS: pass 0, at document #52000/164597\n",
      "INFO:gensim.models.ldamodel:merging changes from 2000 documents into a model of 164597 documents\n",
      "INFO:gensim.models.ldamodel:topic #64 (0.010): 0.037*\"bomb\" + 0.026*\"navy\" + 0.021*\"explosion\" + 0.016*\"british\" + 0.013*\"blast\" + 0.013*\"bombing\" + 0.011*\"attack\" + 0.011*\"submarine\" + 0.010*\"exploded\" + 0.010*\"two\"\n",
      "INFO:gensim.models.ldamodel:topic #63 (0.010): 0.165*\"y\" + 0.144*\"n\" + 0.083*\"strike\" + 0.037*\"smith\" + 0.032*\"republicans\" + 0.031*\"democrats\" + 0.017*\"strikers\" + 0.017*\"x\" + 0.013*\"hawkins\" + 0.012*\"lewis\"\n",
      "INFO:gensim.models.ldamodel:topic #25 (0.010): 0.015*\"company\" + 0.013*\"securities\" + 0.013*\"business\" + 0.013*\"firm\" + 0.011*\"companies\" + 0.010*\"co\" + 0.010*\"investment\" + 0.010*\"stock\" + 0.010*\"million\" + 0.009*\"chairman\"\n",
      "INFO:gensim.models.ldamodel:topic #20 (0.010): 0.049*\"miller\" + 0.039*\"alcohol\" + 0.032*\"carter\" + 0.030*\"drinking\" + 0.024*\"beer\" + 0.022*\"giuliani\" + 0.020*\"gregg\" + 0.012*\"liquor\" + 0.012*\"drink\" + 0.011*\"alcoholic\"\n",
      "INFO:gensim.models.ldamodel:topic #95 (0.010): 0.027*\"european\" + 0.026*\"agreement\" + 0.022*\"french\" + 0.018*\"france\" + 0.014*\"britain\" + 0.013*\"conference\" + 0.012*\"europe\" + 0.011*\"talks\" + 0.011*\"treaty\" + 0.009*\"missiles\"\n",
      "INFO:gensim.models.ldamodel:topic diff=inf, rho=0.196116\n",
      "INFO:gensim.models.ldamodel:PROGRESS: pass 0, at document #54000/164597\n",
      "INFO:gensim.models.ldamodel:merging changes from 2000 documents into a model of 164597 documents\n",
      "INFO:gensim.models.ldamodel:topic #19 (0.010): 0.070*\"oil\" + 0.019*\"exxon\" + 0.019*\"spill\" + 0.013*\"cleanup\" + 0.012*\"gas\" + 0.012*\"tanker\" + 0.011*\"alaska\" + 0.010*\"valdez\" + 0.010*\"gallons\" + 0.009*\"fuel\"\n",
      "INFO:gensim.models.ldamodel:topic #8 (0.010): 0.044*\"brown\" + 0.033*\"davis\" + 0.024*\"columbia\" + 0.019*\"animal\" + 0.017*\"animals\" + 0.015*\"mca\" + 0.014*\"dogs\" + 0.011*\"platinum\" + 0.010*\"warner\" + 0.010*\"atlantic\"\n",
      "INFO:gensim.models.ldamodel:topic #64 (0.010): 0.038*\"bomb\" + 0.026*\"navy\" + 0.021*\"explosion\" + 0.015*\"british\" + 0.014*\"bombing\" + 0.013*\"blast\" + 0.011*\"exploded\" + 0.011*\"attack\" + 0.010*\"two\" + 0.009*\"bombs\"\n",
      "INFO:gensim.models.ldamodel:topic #63 (0.010): 0.152*\"y\" + 0.135*\"n\" + 0.092*\"strike\" + 0.041*\"smith\" + 0.029*\"republicans\" + 0.029*\"democrats\" + 0.017*\"strikers\" + 0.016*\"x\" + 0.013*\"lewis\" + 0.012*\"hawkins\"\n",
      "INFO:gensim.models.ldamodel:topic #79 (0.010): 0.030*\"plane\" + 0.029*\"flight\" + 0.025*\"air\" + 0.019*\"airport\" + 0.016*\"aircraft\" + 0.016*\"pilot\" + 0.013*\"crash\" + 0.012*\"planes\" + 0.012*\"passengers\" + 0.012*\"airlines\"\n",
      "INFO:gensim.models.ldamodel:topic diff=inf, rho=0.192450\n",
      "INFO:gensim.models.ldamodel:PROGRESS: pass 0, at document #56000/164597\n",
      "INFO:gensim.models.ldamodel:merging changes from 2000 documents into a model of 164597 documents\n",
      "INFO:gensim.models.ldamodel:topic #59 (0.010): 0.051*\"vietnam\" + 0.033*\"vietnamese\" + 0.024*\"refugees\" + 0.023*\"rouge\" + 0.021*\"khmer\" + 0.019*\"cambodia\" + 0.013*\"war\" + 0.013*\"government\" + 0.012*\"cambodian\" + 0.012*\"thailand\"\n",
      "INFO:gensim.models.ldamodel:topic #98 (0.010): 0.050*\"1\" + 0.045*\"dollar\" + 0.033*\"yen\" + 0.025*\"late\" + 0.024*\"gold\" + 0.014*\"london\" + 0.014*\"bid\" + 0.013*\"ounce\" + 0.012*\"dollars\" + 0.012*\"new\"\n",
      "INFO:gensim.models.ldamodel:topic #92 (0.010): 0.016*\"000\" + 0.016*\"land\" + 0.012*\"red\" + 0.010*\"forest\" + 0.010*\"cross\" + 0.009*\"people\" + 0.008*\"miles\" + 0.007*\"camp\" + 0.007*\"tourists\" + 0.007*\"relief\"\n",
      "INFO:gensim.models.ldamodel:topic #76 (0.010): 0.014*\"people\" + 0.011*\"dont\" + 0.011*\"think\" + 0.009*\"going\" + 0.008*\"time\" + 0.008*\"say\" + 0.008*\"says\" + 0.007*\"years\" + 0.006*\"make\" + 0.005*\"work\"\n",
      "INFO:gensim.models.ldamodel:topic #29 (0.010): 0.038*\"aids\" + 0.032*\"women\" + 0.025*\"health\" + 0.015*\"cases\" + 0.014*\"disease\" + 0.012*\"virus\" + 0.010*\"sullivan\" + 0.010*\"people\" + 0.006*\"national\" + 0.006*\"birth\"\n",
      "INFO:gensim.models.ldamodel:topic diff=inf, rho=0.188982\n",
      "INFO:gensim.models.ldamodel:PROGRESS: pass 0, at document #58000/164597\n",
      "INFO:gensim.models.ldamodel:merging changes from 2000 documents into a model of 164597 documents\n",
      "INFO:gensim.models.ldamodel:topic #76 (0.010): 0.014*\"people\" + 0.011*\"dont\" + 0.011*\"think\" + 0.009*\"going\" + 0.008*\"time\" + 0.008*\"says\" + 0.008*\"say\" + 0.007*\"years\" + 0.006*\"make\" + 0.005*\"thats\"\n",
      "INFO:gensim.models.ldamodel:topic #11 (0.010): 0.013*\"investigation\" + 0.012*\"north\" + 0.010*\"security\" + 0.010*\"information\" + 0.008*\"fbi\" + 0.008*\"report\" + 0.008*\"told\" + 0.007*\"officials\" + 0.007*\"documents\" + 0.007*\"did\"\n",
      "INFO:gensim.models.ldamodel:topic #13 (0.010): 0.020*\"people\" + 0.015*\"san\" + 0.012*\"killed\" + 0.012*\"two\" + 0.012*\"miles\" + 0.010*\"bus\" + 0.010*\"injured\" + 0.010*\"accident\" + 0.010*\"train\" + 0.008*\"bridge\"\n",
      "INFO:gensim.models.ldamodel:topic #30 (0.010): 0.044*\"indian\" + 0.025*\"india\" + 0.020*\"people\" + 0.019*\"government\" + 0.017*\"ethnic\" + 0.017*\"killed\" + 0.017*\"sinhalese\" + 0.013*\"tamil\" + 0.012*\"sri\" + 0.010*\"indians\"\n",
      "INFO:gensim.models.ldamodel:topic #96 (0.010): 0.044*\"party\" + 0.017*\"government\" + 0.015*\"political\" + 0.012*\"new\" + 0.010*\"parliament\" + 0.010*\"minister\" + 0.010*\"communist\" + 0.010*\"opposition\" + 0.010*\"power\" + 0.009*\"elections\"\n",
      "INFO:gensim.models.ldamodel:topic diff=inf, rho=0.185695\n",
      "INFO:gensim.models.ldamodel:-12.940 per-word bound, 7859.1 perplexity estimate based on a held-out corpus of 2000 documents with 510549 words\n",
      "INFO:gensim.models.ldamodel:PROGRESS: pass 0, at document #60000/164597\n",
      "INFO:gensim.models.ldamodel:merging changes from 2000 documents into a model of 164597 documents\n",
      "INFO:gensim.models.ldamodel:topic #37 (0.010): 0.023*\"fire\" + 0.016*\"people\" + 0.011*\"damage\" + 0.009*\"area\" + 0.009*\"earthquake\" + 0.009*\"quake\" + 0.008*\"officials\" + 0.008*\"miles\" + 0.008*\"residents\" + 0.008*\"building\"\n",
      "INFO:gensim.models.ldamodel:topic #76 (0.010): 0.014*\"people\" + 0.012*\"dont\" + 0.011*\"think\" + 0.009*\"going\" + 0.008*\"time\" + 0.008*\"says\" + 0.008*\"say\" + 0.007*\"years\" + 0.006*\"make\" + 0.005*\"know\"\n",
      "INFO:gensim.models.ldamodel:topic #85 (0.010): 0.034*\"coal\" + 0.025*\"miners\" + 0.022*\"virginia\" + 0.020*\"mine\" + 0.012*\"pittston\" + 0.009*\"mines\" + 0.008*\"whitney\" + 0.008*\"west\" + 0.008*\"umw\" + 0.008*\"campbell\"\n",
      "INFO:gensim.models.ldamodel:topic #14 (0.010): 0.041*\"gun\" + 0.037*\"weapons\" + 0.025*\"guns\" + 0.021*\"assault\" + 0.016*\"path\" + 0.013*\"rifles\" + 0.012*\"rifle\" + 0.012*\"ban\" + 0.010*\"shining\" + 0.010*\"lima\"\n",
      "INFO:gensim.models.ldamodel:topic #16 (0.010): 0.047*\"art\" + 0.029*\"museum\" + 0.015*\"moore\" + 0.014*\"artists\" + 0.013*\"american\" + 0.013*\"works\" + 0.012*\"flag\" + 0.011*\"arts\" + 0.010*\"exhibit\" + 0.010*\"show\"\n",
      "INFO:gensim.models.ldamodel:topic diff=inf, rho=0.182574\n",
      "INFO:gensim.models.ldamodel:PROGRESS: pass 0, at document #62000/164597\n",
      "INFO:gensim.models.ldamodel:merging changes from 2000 documents into a model of 164597 documents\n",
      "INFO:gensim.models.ldamodel:topic #55 (0.010): 0.040*\"panama\" + 0.036*\"noriega\" + 0.021*\"military\" + 0.021*\"de\" + 0.019*\"panamanian\" + 0.017*\"government\" + 0.013*\"forces\" + 0.013*\"gen\" + 0.013*\"states\" + 0.013*\"coup\"\n",
      "INFO:gensim.models.ldamodel:topic #30 (0.010): 0.044*\"indian\" + 0.026*\"india\" + 0.022*\"people\" + 0.020*\"government\" + 0.018*\"killed\" + 0.017*\"ethnic\" + 0.017*\"sinhalese\" + 0.014*\"sri\" + 0.013*\"tamil\" + 0.010*\"indians\"\n",
      "INFO:gensim.models.ldamodel:topic #76 (0.010): 0.014*\"people\" + 0.012*\"dont\" + 0.011*\"think\" + 0.009*\"going\" + 0.008*\"time\" + 0.008*\"says\" + 0.008*\"say\" + 0.007*\"years\" + 0.006*\"make\" + 0.005*\"good\"\n",
      "INFO:gensim.models.ldamodel:topic #21 (0.010): 0.027*\"boeing\" + 0.019*\"orchestra\" + 0.017*\"symphony\" + 0.015*\"seattle\" + 0.011*\"hanson\" + 0.011*\"haiti\" + 0.011*\"jean\" + 0.011*\"parkin\" + 0.010*\"hourly\" + 0.009*\"conducting\"\n",
      "INFO:gensim.models.ldamodel:topic #53 (0.010): 0.037*\"steel\" + 0.015*\"tobacco\" + 0.012*\"brazil\" + 0.011*\"transplant\" + 0.010*\"pittsburgh\" + 0.010*\"liver\" + 0.009*\"cigarette\" + 0.008*\"organs\" + 0.008*\"chess\" + 0.008*\"operation\"\n",
      "INFO:gensim.models.ldamodel:topic diff=inf, rho=0.179605\n",
      "INFO:gensim.models.ldamodel:PROGRESS: pass 0, at document #64000/164597\n"
     ]
    },
    {
     "name": "stderr",
     "output_type": "stream",
     "text": [
      "INFO:gensim.models.ldamodel:merging changes from 2000 documents into a model of 164597 documents\n",
      "INFO:gensim.models.ldamodel:topic #79 (0.010): 0.030*\"plane\" + 0.027*\"flight\" + 0.025*\"air\" + 0.019*\"airport\" + 0.017*\"aircraft\" + 0.015*\"pilot\" + 0.013*\"planes\" + 0.012*\"airlines\" + 0.011*\"crash\" + 0.011*\"jet\"\n",
      "INFO:gensim.models.ldamodel:topic #28 (0.010): 0.022*\"satanic\" + 0.022*\"book\" + 0.021*\"verses\" + 0.018*\"novel\" + 0.017*\"death\" + 0.017*\"khomeini\" + 0.015*\"threats\" + 0.013*\"britain\" + 0.013*\"moslems\" + 0.012*\"british\"\n",
      "INFO:gensim.models.ldamodel:topic #23 (0.010): 0.024*\"environmental\" + 0.022*\"water\" + 0.016*\"waste\" + 0.014*\"epa\" + 0.014*\"air\" + 0.012*\"pollution\" + 0.011*\"scientists\" + 0.009*\"chemicals\" + 0.008*\"chemical\" + 0.008*\"toxic\"\n",
      "INFO:gensim.models.ldamodel:topic #43 (0.010): 0.026*\"kennedy\" + 0.023*\"population\" + 0.016*\"bureau\" + 0.015*\"hispanic\" + 0.013*\"pepper\" + 0.012*\"florida\" + 0.011*\"funds\" + 0.011*\"institute\" + 0.011*\"census\" + 0.009*\"mosbacher\"\n",
      "INFO:gensim.models.ldamodel:topic #67 (0.010): 0.041*\"stock\" + 0.029*\"market\" + 0.021*\"index\" + 0.018*\"exchange\" + 0.017*\"stocks\" + 0.015*\"2\" + 0.015*\"trading\" + 0.014*\"points\" + 0.013*\"jones\" + 0.012*\"issues\"\n",
      "INFO:gensim.models.ldamodel:topic diff=inf, rho=0.176777\n",
      "INFO:gensim.models.ldamodel:PROGRESS: pass 0, at document #66000/164597\n",
      "INFO:gensim.models.ldamodel:merging changes from 2000 documents into a model of 164597 documents\n",
      "INFO:gensim.models.ldamodel:topic #42 (0.010): 0.037*\"credit\" + 0.024*\"home\" + 0.022*\"estate\" + 0.020*\"mortgage\" + 0.018*\"real\" + 0.016*\"loans\" + 0.013*\"homes\" + 0.011*\"banks\" + 0.010*\"compensation\" + 0.009*\"mortgages\"\n",
      "INFO:gensim.models.ldamodel:topic #71 (0.010): 0.027*\"mexico\" + 0.025*\"cable\" + 0.025*\"television\" + 0.020*\"tv\" + 0.018*\"stations\" + 0.018*\"mexican\" + 0.017*\"bakker\" + 0.016*\"cuban\" + 0.016*\"radio\" + 0.013*\"station\"\n",
      "INFO:gensim.models.ldamodel:topic #23 (0.010): 0.025*\"environmental\" + 0.022*\"water\" + 0.015*\"air\" + 0.015*\"waste\" + 0.013*\"epa\" + 0.011*\"scientists\" + 0.011*\"pollution\" + 0.009*\"energy\" + 0.009*\"chemicals\" + 0.008*\"clean\"\n",
      "INFO:gensim.models.ldamodel:topic #40 (0.010): 0.043*\"tax\" + 0.025*\"house\" + 0.023*\"pay\" + 0.023*\"wright\" + 0.018*\"ethics\" + 0.017*\"taxes\" + 0.014*\"income\" + 0.013*\"committee\" + 0.013*\"raise\" + 0.010*\"rules\"\n",
      "INFO:gensim.models.ldamodel:topic #17 (0.010): 0.023*\"hugo\" + 0.022*\"marriage\" + 0.022*\"tickets\" + 0.017*\"sex\" + 0.017*\"couples\" + 0.016*\"divorce\" + 0.016*\"ticket\" + 0.015*\"married\" + 0.014*\"lottery\" + 0.013*\"cooper\"\n",
      "INFO:gensim.models.ldamodel:topic diff=inf, rho=0.174078\n",
      "INFO:gensim.models.ldamodel:PROGRESS: pass 0, at document #68000/164597\n",
      "INFO:gensim.models.ldamodel:merging changes from 2000 documents into a model of 164597 documents\n",
      "INFO:gensim.models.ldamodel:topic #31 (0.010): 0.010*\"old\" + 0.009*\"says\" + 0.008*\"years\" + 0.008*\"people\" + 0.006*\"time\" + 0.006*\"life\" + 0.006*\"back\" + 0.005*\"home\" + 0.005*\"im\" + 0.005*\"didnt\"\n",
      "INFO:gensim.models.ldamodel:topic #60 (0.010): 0.060*\"housing\" + 0.038*\"hud\" + 0.027*\"project\" + 0.019*\"projects\" + 0.015*\"development\" + 0.015*\"urban\" + 0.013*\"kemp\" + 0.013*\"pierce\" + 0.012*\"former\" + 0.010*\"iowa\"\n",
      "INFO:gensim.models.ldamodel:topic #49 (0.010): 0.024*\"years\" + 0.020*\"war\" + 0.020*\"died\" + 0.016*\"world\" + 0.012*\"ii\" + 0.011*\"ago\" + 0.011*\"history\" + 0.008*\"today\" + 0.008*\"born\" + 0.007*\"age\"\n",
      "INFO:gensim.models.ldamodel:topic #50 (0.010): 0.248*\"000\" + 0.033*\"500\" + 0.028*\"100\" + 0.022*\"1\" + 0.017*\"200\" + 0.014*\"300\" + 0.012*\"50\" + 0.012*\"400\" + 0.011*\"estimated\" + 0.010*\"250\"\n",
      "INFO:gensim.models.ldamodel:topic #91 (0.010): 0.030*\"league\" + 0.030*\"egyptian\" + 0.027*\"egypt\" + 0.027*\"baseball\" + 0.020*\"mubarak\" + 0.019*\"rose\" + 0.017*\"hitler\" + 0.016*\"eagle\" + 0.014*\"coke\" + 0.012*\"downey\"\n",
      "INFO:gensim.models.ldamodel:topic diff=inf, rho=0.171499\n",
      "INFO:gensim.models.ldamodel:PROGRESS: pass 0, at document #70000/164597\n",
      "INFO:gensim.models.ldamodel:merging changes from 2000 documents into a model of 164597 documents\n",
      "INFO:gensim.models.ldamodel:topic #95 (0.010): 0.025*\"french\" + 0.025*\"european\" + 0.024*\"agreement\" + 0.017*\"france\" + 0.016*\"europe\" + 0.015*\"nuclear\" + 0.014*\"nato\" + 0.014*\"range\" + 0.013*\"missiles\" + 0.012*\"treaty\"\n",
      "INFO:gensim.models.ldamodel:topic #39 (0.010): 0.073*\"book\" + 0.022*\"books\" + 0.021*\"dog\" + 0.012*\"turner\" + 0.010*\"copies\" + 0.010*\"kelly\" + 0.009*\"thompson\" + 0.009*\"norwegian\" + 0.007*\"published\" + 0.007*\"cole\"\n",
      "INFO:gensim.models.ldamodel:topic #87 (0.010): 0.029*\"death\" + 0.021*\"murder\" + 0.016*\"prison\" + 0.016*\"convicted\" + 0.012*\"trial\" + 0.011*\"sentence\" + 0.010*\"crime\" + 0.010*\"years\" + 0.010*\"life\" + 0.009*\"sentenced\"\n",
      "INFO:gensim.models.ldamodel:topic #65 (0.010): 0.043*\"british\" + 0.037*\"share\" + 0.031*\"shares\" + 0.027*\"london\" + 0.017*\"merger\" + 0.015*\"times\" + 0.014*\"financial\" + 0.013*\"takeover\" + 0.012*\"plc\" + 0.012*\"bid\"\n",
      "INFO:gensim.models.ldamodel:topic #70 (0.010): 0.063*\"japanese\" + 0.054*\"japan\" + 0.027*\"prime\" + 0.025*\"news\" + 0.018*\"japans\" + 0.017*\"network\" + 0.016*\"minister\" + 0.015*\"tokyo\" + 0.014*\"television\" + 0.012*\"recruit\"\n",
      "INFO:gensim.models.ldamodel:topic diff=inf, rho=0.169031\n",
      "INFO:gensim.models.ldamodel:PROGRESS: pass 0, at document #72000/164597\n",
      "INFO:gensim.models.ldamodel:merging changes from 2000 documents into a model of 164597 documents\n",
      "INFO:gensim.models.ldamodel:topic #59 (0.010): 0.048*\"vietnam\" + 0.033*\"vietnamese\" + 0.023*\"rouge\" + 0.023*\"cambodia\" + 0.020*\"khmer\" + 0.017*\"refugees\" + 0.016*\"war\" + 0.014*\"cambodian\" + 0.014*\"government\" + 0.013*\"thailand\"\n",
      "INFO:gensim.models.ldamodel:topic #29 (0.010): 0.040*\"aids\" + 0.034*\"women\" + 0.025*\"health\" + 0.016*\"disease\" + 0.016*\"cases\" + 0.013*\"virus\" + 0.011*\"people\" + 0.007*\"age\" + 0.007*\"sullivan\" + 0.007*\"infected\"\n",
      "INFO:gensim.models.ldamodel:topic #21 (0.010): 0.033*\"boeing\" + 0.020*\"seattle\" + 0.016*\"orchestra\" + 0.015*\"symphony\" + 0.014*\"daniels\" + 0.011*\"shaw\" + 0.011*\"haiti\" + 0.010*\"kissinger\" + 0.010*\"hanson\" + 0.010*\"jean\"\n",
      "INFO:gensim.models.ldamodel:topic #43 (0.010): 0.029*\"kennedy\" + 0.021*\"population\" + 0.018*\"hispanic\" + 0.015*\"bureau\" + 0.015*\"florida\" + 0.014*\"pepper\" + 0.012*\"roberts\" + 0.011*\"hispanics\" + 0.011*\"mosbacher\" + 0.011*\"miami\"\n",
      "INFO:gensim.models.ldamodel:topic #66 (0.010): 0.053*\"percent\" + 0.041*\"million\" + 0.035*\"1\" + 0.025*\"2\" + 0.025*\"billion\" + 0.022*\"3\" + 0.019*\"5\" + 0.018*\"4\" + 0.018*\"sales\" + 0.014*\"6\"\n",
      "INFO:gensim.models.ldamodel:topic diff=inf, rho=0.166667\n",
      "INFO:gensim.models.ldamodel:PROGRESS: pass 0, at document #74000/164597\n",
      "INFO:gensim.models.ldamodel:merging changes from 2000 documents into a model of 164597 documents\n",
      "INFO:gensim.models.ldamodel:topic #2 (0.010): 0.033*\"ship\" + 0.031*\"coast\" + 0.027*\"guard\" + 0.022*\"sea\" + 0.020*\"boat\" + 0.020*\"ships\" + 0.015*\"island\" + 0.013*\"fishing\" + 0.013*\"navy\" + 0.012*\"port\"\n",
      "INFO:gensim.models.ldamodel:topic #1 (0.010): 0.037*\"computer\" + 0.021*\"system\" + 0.018*\"technology\" + 0.015*\"systems\" + 0.013*\"equipment\" + 0.013*\"market\" + 0.013*\"industry\" + 0.013*\"computers\" + 0.012*\"new\" + 0.011*\"products\"\n",
      "INFO:gensim.models.ldamodel:topic #7 (0.010): 0.011*\"show\" + 0.010*\"music\" + 0.010*\"film\" + 0.008*\"movie\" + 0.007*\"new\" + 0.007*\"miss\" + 0.006*\"television\" + 0.006*\"star\" + 0.006*\"series\" + 0.005*\"best\"\n",
      "INFO:gensim.models.ldamodel:topic #70 (0.010): 0.060*\"japanese\" + 0.053*\"japan\" + 0.027*\"news\" + 0.025*\"prime\" + 0.018*\"japans\" + 0.017*\"network\" + 0.015*\"minister\" + 0.014*\"tokyo\" + 0.014*\"television\" + 0.012*\"cbs\"\n",
      "INFO:gensim.models.ldamodel:topic #39 (0.010): 0.074*\"book\" + 0.026*\"books\" + 0.024*\"dog\" + 0.013*\"turner\" + 0.011*\"copies\" + 0.009*\"thompson\" + 0.009*\"kelly\" + 0.008*\"norwegian\" + 0.007*\"published\" + 0.007*\"pages\"\n",
      "INFO:gensim.models.ldamodel:topic diff=inf, rho=0.164399\n",
      "INFO:gensim.models.ldamodel:PROGRESS: pass 0, at document #76000/164597\n",
      "INFO:gensim.models.ldamodel:merging changes from 2000 documents into a model of 164597 documents\n",
      "INFO:gensim.models.ldamodel:topic #0 (0.010): 0.089*\"abortion\" + 0.027*\"abortions\" + 0.020*\"women\" + 0.017*\"anti\" + 0.016*\"pro\" + 0.015*\"life\" + 0.015*\"choice\" + 0.014*\"rights\" + 0.011*\"issue\" + 0.010*\"womens\"\n",
      "INFO:gensim.models.ldamodel:topic #1 (0.010): 0.037*\"computer\" + 0.021*\"system\" + 0.017*\"technology\" + 0.015*\"systems\" + 0.014*\"industry\" + 0.013*\"market\" + 0.013*\"equipment\" + 0.012*\"computers\" + 0.012*\"new\" + 0.011*\"products\"\n"
     ]
    },
    {
     "name": "stderr",
     "output_type": "stream",
     "text": [
      "INFO:gensim.models.ldamodel:topic #32 (0.010): 0.070*\"percent\" + 0.017*\"survey\" + 0.010*\"americans\" + 0.009*\"poll\" + 0.009*\"found\" + 0.007*\"10\" + 0.006*\"american\" + 0.006*\"new\" + 0.005*\"states\" + 0.005*\"years\"\n",
      "INFO:gensim.models.ldamodel:topic #57 (0.010): 0.049*\"s\" + 0.030*\"savings\" + 0.029*\"loan\" + 0.028*\"l\" + 0.024*\"federal\" + 0.018*\"bank\" + 0.018*\"lincoln\" + 0.018*\"regulators\" + 0.016*\"banking\" + 0.015*\"board\"\n",
      "INFO:gensim.models.ldamodel:topic #59 (0.010): 0.049*\"vietnam\" + 0.030*\"vietnamese\" + 0.026*\"rouge\" + 0.023*\"khmer\" + 0.022*\"cambodia\" + 0.020*\"refugees\" + 0.016*\"war\" + 0.014*\"cambodian\" + 0.014*\"veterans\" + 0.014*\"government\"\n",
      "INFO:gensim.models.ldamodel:topic diff=inf, rho=0.162221\n",
      "INFO:gensim.models.ldamodel:PROGRESS: pass 0, at document #78000/164597\n",
      "INFO:gensim.models.ldamodel:merging changes from 2000 documents into a model of 164597 documents\n",
      "INFO:gensim.models.ldamodel:topic #14 (0.010): 0.044*\"gun\" + 0.037*\"weapons\" + 0.029*\"guns\" + 0.023*\"assault\" + 0.015*\"ban\" + 0.014*\"rifle\" + 0.014*\"rifles\" + 0.012*\"path\" + 0.011*\"shining\" + 0.011*\"automatic\"\n",
      "INFO:gensim.models.ldamodel:topic #45 (0.010): 0.045*\"cents\" + 0.031*\"futures\" + 0.027*\"cent\" + 0.025*\"higher\" + 0.022*\"lower\" + 0.020*\"prices\" + 0.015*\"1\" + 0.013*\"bushel\" + 0.012*\"chicago\" + 0.011*\"pound\"\n",
      "INFO:gensim.models.ldamodel:topic #40 (0.010): 0.048*\"tax\" + 0.025*\"pay\" + 0.024*\"house\" + 0.020*\"wright\" + 0.019*\"taxes\" + 0.017*\"income\" + 0.016*\"ethics\" + 0.014*\"raise\" + 0.011*\"committee\" + 0.009*\"members\"\n",
      "INFO:gensim.models.ldamodel:topic #61 (0.010): 0.017*\"new\" + 0.013*\"pan\" + 0.008*\"memorial\" + 0.008*\"australia\" + 0.007*\"transit\" + 0.007*\"103\" + 0.006*\"asbestos\" + 0.006*\"australian\" + 0.006*\"subway\" + 0.006*\"freeway\"\n",
      "INFO:gensim.models.ldamodel:topic #77 (0.010): 0.065*\"bush\" + 0.035*\"budget\" + 0.023*\"administration\" + 0.020*\"president\" + 0.016*\"spending\" + 0.015*\"fitzwater\" + 0.015*\"cuts\" + 0.014*\"bushs\" + 0.013*\"white\" + 0.009*\"house\"\n",
      "INFO:gensim.models.ldamodel:topic diff=inf, rho=0.160128\n",
      "INFO:gensim.models.ldamodel:-13.601 per-word bound, 12427.6 perplexity estimate based on a held-out corpus of 2000 documents with 535175 words\n",
      "INFO:gensim.models.ldamodel:PROGRESS: pass 0, at document #80000/164597\n",
      "INFO:gensim.models.ldamodel:merging changes from 2000 documents into a model of 164597 documents\n",
      "INFO:gensim.models.ldamodel:topic #7 (0.010): 0.012*\"show\" + 0.010*\"music\" + 0.010*\"film\" + 0.008*\"movie\" + 0.008*\"new\" + 0.007*\"miss\" + 0.006*\"series\" + 0.005*\"television\" + 0.005*\"star\" + 0.005*\"best\"\n",
      "INFO:gensim.models.ldamodel:topic #73 (0.010): 0.024*\"cbs\" + 0.021*\"nbc\" + 0.021*\"abc\" + 0.017*\"7\" + 0.017*\"8\" + 0.016*\"5\" + 0.016*\"3\" + 0.016*\"13\" + 0.016*\"9\" + 0.016*\"4\"\n",
      "INFO:gensim.models.ldamodel:topic #63 (0.010): 0.157*\"y\" + 0.116*\"n\" + 0.095*\"strike\" + 0.054*\"smith\" + 0.027*\"x\" + 0.024*\"republicans\" + 0.023*\"democrats\" + 0.020*\"strikers\" + 0.014*\"walkout\" + 0.012*\"lewis\"\n",
      "INFO:gensim.models.ldamodel:topic #64 (0.010): 0.041*\"bomb\" + 0.024*\"navy\" + 0.023*\"explosion\" + 0.015*\"bombing\" + 0.014*\"blast\" + 0.013*\"british\" + 0.013*\"exploded\" + 0.012*\"bombs\" + 0.012*\"attack\" + 0.010*\"two\"\n",
      "INFO:gensim.models.ldamodel:topic #29 (0.010): 0.042*\"aids\" + 0.035*\"women\" + 0.025*\"health\" + 0.017*\"cases\" + 0.017*\"disease\" + 0.012*\"people\" + 0.011*\"virus\" + 0.008*\"age\" + 0.007*\"sullivan\" + 0.006*\"national\"\n",
      "INFO:gensim.models.ldamodel:topic diff=inf, rho=0.158114\n",
      "INFO:gensim.models.ldamodel:PROGRESS: pass 0, at document #82000/164597\n",
      "INFO:gensim.models.ldamodel:merging changes from 2000 documents into a model of 164597 documents\n",
      "INFO:gensim.models.ldamodel:topic #28 (0.010): 0.020*\"book\" + 0.017*\"khomeini\" + 0.016*\"satanic\" + 0.016*\"verses\" + 0.016*\"novel\" + 0.015*\"moslems\" + 0.015*\"death\" + 0.014*\"britain\" + 0.014*\"threats\" + 0.013*\"library\"\n",
      "INFO:gensim.models.ldamodel:topic #77 (0.010): 0.062*\"bush\" + 0.038*\"budget\" + 0.025*\"administration\" + 0.019*\"president\" + 0.018*\"spending\" + 0.016*\"cuts\" + 0.016*\"fitzwater\" + 0.014*\"bushs\" + 0.014*\"white\" + 0.010*\"house\"\n",
      "INFO:gensim.models.ldamodel:topic #90 (0.010): 0.026*\"house\" + 0.025*\"congress\" + 0.015*\"bill\" + 0.010*\"president\" + 0.010*\"bush\" + 0.010*\"legislation\" + 0.009*\"rep\" + 0.008*\"senate\" + 0.007*\"congressional\" + 0.006*\"members\"\n",
      "INFO:gensim.models.ldamodel:topic #56 (0.010): 0.056*\"plant\" + 0.050*\"nuclear\" + 0.031*\"weapons\" + 0.025*\"chemical\" + 0.024*\"power\" + 0.017*\"energy\" + 0.016*\"libya\" + 0.015*\"plants\" + 0.013*\"libyan\" + 0.010*\"production\"\n",
      "INFO:gensim.models.ldamodel:topic #4 (0.010): 0.030*\"stores\" + 0.026*\"store\" + 0.024*\"food\" + 0.011*\"sears\" + 0.010*\"shopping\" + 0.010*\"items\" + 0.009*\"restaurant\" + 0.009*\"chain\" + 0.008*\"plastic\" + 0.008*\"restaurants\"\n",
      "INFO:gensim.models.ldamodel:topic diff=inf, rho=0.156174\n",
      "INFO:gensim.models.ldamodel:PROGRESS: pass 0, at document #84000/164597\n",
      "INFO:gensim.models.ldamodel:merging changes from 2000 documents into a model of 164597 documents\n",
      "INFO:gensim.models.ldamodel:topic #69 (0.010): 0.029*\"billion\" + 0.020*\"money\" + 0.018*\"million\" + 0.014*\"plan\" + 0.014*\"bank\" + 0.012*\"debt\" + 0.011*\"federal\" + 0.011*\"banks\" + 0.010*\"insurance\" + 0.010*\"government\"\n",
      "INFO:gensim.models.ldamodel:topic #63 (0.010): 0.199*\"y\" + 0.160*\"n\" + 0.076*\"strike\" + 0.041*\"smith\" + 0.031*\"republicans\" + 0.030*\"democrats\" + 0.023*\"x\" + 0.014*\"strikers\" + 0.011*\"democrat\" + 0.010*\"lewis\"\n",
      "INFO:gensim.models.ldamodel:topic #9 (0.010): 0.023*\"space\" + 0.010*\"launch\" + 0.009*\"shuttle\" + 0.008*\"mission\" + 0.007*\"earth\" + 0.007*\"two\" + 0.007*\"miles\" + 0.006*\"feet\" + 0.005*\"satellite\" + 0.005*\"nasa\"\n",
      "INFO:gensim.models.ldamodel:topic #43 (0.010): 0.030*\"kennedy\" + 0.021*\"florida\" + 0.020*\"population\" + 0.016*\"bureau\" + 0.016*\"hispanic\" + 0.015*\"roberts\" + 0.013*\"funds\" + 0.013*\"census\" + 0.012*\"money\" + 0.012*\"ross\"\n",
      "INFO:gensim.models.ldamodel:topic #7 (0.010): 0.012*\"show\" + 0.010*\"music\" + 0.010*\"film\" + 0.009*\"movie\" + 0.008*\"new\" + 0.007*\"miss\" + 0.006*\"television\" + 0.005*\"star\" + 0.005*\"series\" + 0.005*\"actor\"\n",
      "INFO:gensim.models.ldamodel:topic diff=inf, rho=0.154303\n",
      "INFO:gensim.models.ldamodel:PROGRESS: pass 0, at document #86000/164597\n",
      "INFO:gensim.models.ldamodel:merging changes from 2000 documents into a model of 164597 documents\n",
      "INFO:gensim.models.ldamodel:topic #27 (0.010): 0.037*\"care\" + 0.031*\"children\" + 0.021*\"health\" + 0.021*\"child\" + 0.015*\"hospital\" + 0.012*\"medical\" + 0.012*\"center\" + 0.012*\"hospitals\" + 0.012*\"families\" + 0.011*\"homeless\"\n",
      "INFO:gensim.models.ldamodel:topic #88 (0.010): 0.071*\"south\" + 0.053*\"north\" + 0.053*\"korea\" + 0.039*\"korean\" + 0.018*\"seoul\" + 0.015*\"roh\" + 0.011*\"radical\" + 0.011*\"kim\" + 0.010*\"government\" + 0.009*\"students\"\n",
      "INFO:gensim.models.ldamodel:topic #29 (0.010): 0.038*\"aids\" + 0.038*\"women\" + 0.027*\"health\" + 0.018*\"disease\" + 0.017*\"cases\" + 0.012*\"virus\" + 0.011*\"people\" + 0.007*\"men\" + 0.007*\"age\" + 0.007*\"infected\"\n",
      "INFO:gensim.models.ldamodel:topic #52 (0.010): 0.055*\"game\" + 0.054*\"christmas\" + 0.029*\"holiday\" + 0.025*\"card\" + 0.023*\"cards\" + 0.018*\"tree\" + 0.016*\"games\" + 0.013*\"santa\" + 0.011*\"-7\" + 0.010*\"season\"\n",
      "INFO:gensim.models.ldamodel:topic #32 (0.010): 0.079*\"percent\" + 0.018*\"survey\" + 0.010*\"poll\" + 0.009*\"americans\" + 0.008*\"found\" + 0.007*\"10\" + 0.006*\"states\" + 0.005*\"years\" + 0.005*\"new\" + 0.005*\"american\"\n",
      "INFO:gensim.models.ldamodel:topic diff=inf, rho=0.152499\n",
      "INFO:gensim.models.ldamodel:PROGRESS: pass 0, at document #88000/164597\n",
      "INFO:gensim.models.ldamodel:merging changes from 2000 documents into a model of 164597 documents\n",
      "INFO:gensim.models.ldamodel:topic #10 (0.010): 0.013*\"musical\" + 0.013*\"new\" + 0.012*\"number\" + 0.012*\"opera\" + 0.012*\"available\" + 0.007*\"broadway\" + 0.007*\"ticketron\" + 0.007*\"york\" + 0.007*\"239\" + 0.006*\"play\"\n",
      "INFO:gensim.models.ldamodel:topic #97 (0.010): 0.028*\"aid\" + 0.025*\"el\" + 0.024*\"nicaragua\" + 0.023*\"contras\" + 0.021*\"rebels\" + 0.020*\"salvador\" + 0.018*\"nicaraguan\" + 0.017*\"contra\" + 0.015*\"central\" + 0.015*\"ortega\"\n",
      "INFO:gensim.models.ldamodel:topic #4 (0.010): 0.029*\"stores\" + 0.028*\"store\" + 0.023*\"food\" + 0.011*\"restaurant\" + 0.010*\"items\" + 0.009*\"shopping\" + 0.009*\"sears\" + 0.009*\"chain\" + 0.008*\"plastic\" + 0.008*\"shop\"\n",
      "INFO:gensim.models.ldamodel:topic #42 (0.010): 0.043*\"credit\" + 0.031*\"home\" + 0.030*\"estate\" + 0.026*\"real\" + 0.022*\"mortgage\" + 0.018*\"banks\" + 0.016*\"loans\" + 0.014*\"homes\" + 0.009*\"carbide\" + 0.009*\"mortgages\"\n"
     ]
    },
    {
     "name": "stderr",
     "output_type": "stream",
     "text": [
      "INFO:gensim.models.ldamodel:topic #5 (0.010): 0.029*\"hotel\" + 0.026*\"canadian\" + 0.024*\"canada\" + 0.019*\"immigration\" + 0.017*\"ins\" + 0.012*\"greek\" + 0.012*\"asylum\" + 0.011*\"thatcher\" + 0.010*\"hotels\" + 0.010*\"hughes\"\n",
      "INFO:gensim.models.ldamodel:topic diff=inf, rho=0.150756\n",
      "INFO:gensim.models.ldamodel:PROGRESS: pass 0, at document #90000/164597\n",
      "INFO:gensim.models.ldamodel:merging changes from 2000 documents into a model of 164597 documents\n",
      "INFO:gensim.models.ldamodel:topic #30 (0.010): 0.038*\"indian\" + 0.029*\"india\" + 0.023*\"people\" + 0.019*\"government\" + 0.017*\"killed\" + 0.017*\"ethnic\" + 0.014*\"indians\" + 0.013*\"sinhalese\" + 0.012*\"tamil\" + 0.011*\"sri\"\n",
      "INFO:gensim.models.ldamodel:topic #40 (0.010): 0.058*\"tax\" + 0.023*\"pay\" + 0.023*\"house\" + 0.022*\"taxes\" + 0.018*\"wright\" + 0.018*\"income\" + 0.015*\"ethics\" + 0.013*\"raise\" + 0.010*\"committee\" + 0.008*\"members\"\n",
      "INFO:gensim.models.ldamodel:topic #84 (0.010): 0.022*\"news\" + 0.022*\"times\" + 0.018*\"editor\" + 0.015*\"ad\" + 0.014*\"newspaper\" + 0.014*\"ireland\" + 0.013*\"press\" + 0.013*\"york\" + 0.012*\"post\" + 0.012*\"new\"\n",
      "INFO:gensim.models.ldamodel:topic #51 (0.010): 0.044*\"clark\" + 0.035*\"fruit\" + 0.032*\"apple\" + 0.028*\"evans\" + 0.024*\"apples\" + 0.017*\"alar\" + 0.014*\"pizza\" + 0.012*\"growers\" + 0.012*\"ramirez\" + 0.012*\"palmer\"\n",
      "INFO:gensim.models.ldamodel:topic #52 (0.010): 0.070*\"christmas\" + 0.053*\"game\" + 0.032*\"holiday\" + 0.028*\"card\" + 0.027*\"cards\" + 0.018*\"santa\" + 0.017*\"tree\" + 0.016*\"games\" + 0.013*\"season\" + 0.011*\"wednesday\"\n",
      "INFO:gensim.models.ldamodel:topic diff=inf, rho=0.149071\n",
      "INFO:gensim.models.ldamodel:PROGRESS: pass 0, at document #92000/164597\n",
      "INFO:gensim.models.ldamodel:merging changes from 2000 documents into a model of 164597 documents\n",
      "INFO:gensim.models.ldamodel:topic #7 (0.010): 0.013*\"show\" + 0.010*\"film\" + 0.009*\"movie\" + 0.009*\"music\" + 0.008*\"new\" + 0.007*\"miss\" + 0.006*\"television\" + 0.005*\"star\" + 0.005*\"best\" + 0.005*\"series\"\n",
      "INFO:gensim.models.ldamodel:topic #31 (0.010): 0.010*\"old\" + 0.008*\"says\" + 0.008*\"years\" + 0.008*\"people\" + 0.006*\"time\" + 0.006*\"life\" + 0.006*\"back\" + 0.006*\"home\" + 0.006*\"family\" + 0.005*\"im\"\n",
      "INFO:gensim.models.ldamodel:topic #60 (0.010): 0.053*\"housing\" + 0.036*\"project\" + 0.028*\"hud\" + 0.022*\"kemp\" + 0.018*\"projects\" + 0.017*\"construction\" + 0.017*\"development\" + 0.015*\"urban\" + 0.014*\"pierce\" + 0.011*\"former\"\n",
      "INFO:gensim.models.ldamodel:topic #24 (0.010): 0.036*\"embassy\" + 0.015*\"ambassador\" + 0.013*\"foreign\" + 0.010*\"official\" + 0.010*\"state\" + 0.010*\"leave\" + 0.009*\"travel\" + 0.009*\"country\" + 0.009*\"diplomats\" + 0.008*\"jews\"\n",
      "INFO:gensim.models.ldamodel:topic #10 (0.010): 0.014*\"musical\" + 0.013*\"new\" + 0.012*\"number\" + 0.012*\"available\" + 0.012*\"opera\" + 0.007*\"broadway\" + 0.007*\"ticketron\" + 0.007*\"play\" + 0.006*\"york\" + 0.006*\"239\"\n",
      "INFO:gensim.models.ldamodel:topic diff=inf, rho=0.147442\n",
      "INFO:gensim.models.ldamodel:PROGRESS: pass 0, at document #94000/164597\n",
      "INFO:gensim.models.ldamodel:merging changes from 2000 documents into a model of 164597 documents\n",
      "INFO:gensim.models.ldamodel:topic #18 (0.010): 0.072*\"church\" + 0.031*\"catholic\" + 0.024*\"religious\" + 0.018*\"roman\" + 0.016*\"jewish\" + 0.015*\"rev\" + 0.014*\"robertson\" + 0.014*\"pope\" + 0.014*\"god\" + 0.012*\"christian\"\n",
      "INFO:gensim.models.ldamodel:topic #90 (0.010): 0.025*\"house\" + 0.023*\"congress\" + 0.021*\"bill\" + 0.011*\"legislation\" + 0.010*\"president\" + 0.009*\"senate\" + 0.008*\"rep\" + 0.007*\"committee\" + 0.007*\"bush\" + 0.007*\"issue\"\n",
      "INFO:gensim.models.ldamodel:topic #65 (0.010): 0.051*\"british\" + 0.039*\"share\" + 0.034*\"shares\" + 0.030*\"london\" + 0.021*\"merger\" + 0.018*\"pounds\" + 0.016*\"takeover\" + 0.015*\"times\" + 0.013*\"financial\" + 0.013*\"bid\"\n",
      "INFO:gensim.models.ldamodel:topic #58 (0.010): 0.023*\"million\" + 0.020*\"farmers\" + 0.018*\"production\" + 0.018*\"farm\" + 0.016*\"drought\" + 0.013*\"prices\" + 0.013*\"agriculture\" + 0.012*\"tons\" + 0.011*\"wheat\" + 0.010*\"price\"\n",
      "INFO:gensim.models.ldamodel:topic #57 (0.010): 0.049*\"s\" + 0.038*\"bank\" + 0.031*\"loan\" + 0.031*\"savings\" + 0.026*\"federal\" + 0.023*\"l\" + 0.020*\"institutions\" + 0.020*\"board\" + 0.017*\"ls\" + 0.016*\"banking\"\n",
      "INFO:gensim.models.ldamodel:topic diff=inf, rho=0.145865\n",
      "INFO:gensim.models.ldamodel:PROGRESS: pass 0, at document #96000/164597\n",
      "INFO:gensim.models.ldamodel:merging changes from 2000 documents into a model of 164597 documents\n",
      "INFO:gensim.models.ldamodel:topic #58 (0.010): 0.022*\"million\" + 0.020*\"farmers\" + 0.018*\"farm\" + 0.018*\"production\" + 0.017*\"drought\" + 0.014*\"agriculture\" + 0.013*\"prices\" + 0.011*\"tons\" + 0.010*\"wheat\" + 0.010*\"price\"\n",
      "INFO:gensim.models.ldamodel:topic #1 (0.010): 0.034*\"computer\" + 0.020*\"system\" + 0.018*\"technology\" + 0.016*\"industry\" + 0.014*\"systems\" + 0.013*\"equipment\" + 0.013*\"computers\" + 0.013*\"new\" + 0.012*\"products\" + 0.011*\"companies\"\n",
      "INFO:gensim.models.ldamodel:topic #53 (0.010): 0.041*\"steel\" + 0.025*\"tobacco\" + 0.018*\"cigarette\" + 0.016*\"pittsburgh\" + 0.013*\"cigarettes\" + 0.013*\"transplant\" + 0.012*\"brazil\" + 0.012*\"bone\" + 0.012*\"liver\" + 0.010*\"champion\"\n",
      "INFO:gensim.models.ldamodel:topic #54 (0.010): 0.024*\"department\" + 0.017*\"federal\" + 0.016*\"report\" + 0.016*\"commission\" + 0.012*\"agency\" + 0.011*\"national\" + 0.011*\"program\" + 0.011*\"service\" + 0.010*\"public\" + 0.010*\"government\"\n",
      "INFO:gensim.models.ldamodel:topic #86 (0.010): 0.029*\"police\" + 0.012*\"protest\" + 0.012*\"people\" + 0.010*\"protesters\" + 0.010*\"palestinians\" + 0.010*\"west\" + 0.009*\"israeli\" + 0.009*\"bank\" + 0.008*\"violence\" + 0.008*\"killed\"\n",
      "INFO:gensim.models.ldamodel:topic diff=inf, rho=0.144338\n",
      "INFO:gensim.models.ldamodel:PROGRESS: pass 0, at document #98000/164597\n",
      "INFO:gensim.models.ldamodel:merging changes from 2000 documents into a model of 164597 documents\n",
      "INFO:gensim.models.ldamodel:topic #71 (0.010): 0.032*\"television\" + 0.028*\"mexico\" + 0.024*\"tv\" + 0.020*\"cable\" + 0.020*\"station\" + 0.019*\"radio\" + 0.018*\"bakker\" + 0.017*\"mexican\" + 0.016*\"stations\" + 0.015*\"cuban\"\n",
      "INFO:gensim.models.ldamodel:topic #83 (0.010): 0.029*\"campaign\" + 0.026*\"democratic\" + 0.022*\"election\" + 0.016*\"presidential\" + 0.014*\"republican\" + 0.014*\"party\" + 0.012*\"vote\" + 0.012*\"candidate\" + 0.012*\"candidates\" + 0.011*\"political\"\n",
      "INFO:gensim.models.ldamodel:topic #15 (0.010): 0.110*\"soviet\" + 0.029*\"gorbachev\" + 0.024*\"union\" + 0.023*\"moscow\" + 0.018*\"soviets\" + 0.018*\"iran\" + 0.015*\"iraq\" + 0.010*\"mikhail\" + 0.009*\"iraqi\" + 0.009*\"news\"\n",
      "INFO:gensim.models.ldamodel:topic #5 (0.010): 0.031*\"canadian\" + 0.028*\"canada\" + 0.028*\"hotel\" + 0.021*\"immigration\" + 0.019*\"greek\" + 0.013*\"greece\" + 0.012*\"ins\" + 0.012*\"thatcher\" + 0.010*\"hotels\" + 0.010*\"athens\"\n",
      "INFO:gensim.models.ldamodel:topic #6 (0.010): 0.054*\"china\" + 0.044*\"chinese\" + 0.019*\"beijing\" + 0.017*\"students\" + 0.016*\"hong\" + 0.014*\"government\" + 0.014*\"chinas\" + 0.014*\"kong\" + 0.013*\"democracy\" + 0.013*\"people\"\n",
      "INFO:gensim.models.ldamodel:topic diff=inf, rho=0.142857\n",
      "INFO:gensim.models.ldamodel:-13.699 per-word bound, 13298.6 perplexity estimate based on a held-out corpus of 2000 documents with 521243 words\n",
      "INFO:gensim.models.ldamodel:PROGRESS: pass 0, at document #100000/164597\n",
      "INFO:gensim.models.ldamodel:merging changes from 2000 documents into a model of 164597 documents\n",
      "INFO:gensim.models.ldamodel:topic #25 (0.010): 0.022*\"company\" + 0.014*\"stock\" + 0.014*\"co\" + 0.013*\"business\" + 0.013*\"firm\" + 0.012*\"companies\" + 0.012*\"securities\" + 0.012*\"million\" + 0.012*\"investment\" + 0.010*\"chairman\"\n",
      "INFO:gensim.models.ldamodel:topic #46 (0.010): 0.051*\"south\" + 0.032*\"africa\" + 0.029*\"rights\" + 0.026*\"african\" + 0.020*\"human\" + 0.020*\"black\" + 0.015*\"prisoners\" + 0.013*\"prison\" + 0.013*\"apartheid\" + 0.012*\"anti\"\n",
      "INFO:gensim.models.ldamodel:topic #11 (0.010): 0.014*\"investigation\" + 0.010*\"information\" + 0.009*\"security\" + 0.009*\"meese\" + 0.009*\"report\" + 0.008*\"north\" + 0.008*\"fbi\" + 0.008*\"told\" + 0.008*\"did\" + 0.007*\"officials\"\n",
      "INFO:gensim.models.ldamodel:topic #14 (0.010): 0.055*\"gun\" + 0.034*\"weapons\" + 0.028*\"guns\" + 0.016*\"assault\" + 0.016*\"rifle\" + 0.016*\"ban\" + 0.013*\"automatic\" + 0.011*\"rifles\" + 0.010*\"lima\" + 0.010*\"firearms\"\n",
      "INFO:gensim.models.ldamodel:topic #2 (0.010): 0.035*\"ship\" + 0.030*\"coast\" + 0.026*\"guard\" + 0.022*\"gulf\" + 0.021*\"ships\" + 0.020*\"boat\" + 0.019*\"sea\" + 0.018*\"island\" + 0.018*\"navy\" + 0.013*\"port\"\n"
     ]
    },
    {
     "name": "stderr",
     "output_type": "stream",
     "text": [
      "INFO:gensim.models.ldamodel:topic diff=inf, rho=0.141421\n",
      "INFO:gensim.models.ldamodel:PROGRESS: pass 0, at document #102000/164597\n",
      "INFO:gensim.models.ldamodel:merging changes from 2000 documents into a model of 164597 documents\n",
      "INFO:gensim.models.ldamodel:topic #5 (0.010): 0.030*\"canadian\" + 0.030*\"hotel\" + 0.028*\"canada\" + 0.022*\"greek\" + 0.021*\"immigration\" + 0.014*\"thatcher\" + 0.014*\"greece\" + 0.012*\"ins\" + 0.011*\"athens\" + 0.010*\"hotels\"\n",
      "INFO:gensim.models.ldamodel:topic #12 (0.010): 0.047*\"d\" + 0.044*\"senate\" + 0.042*\"sen\" + 0.031*\"r\" + 0.028*\"bentsen\" + 0.027*\"dole\" + 0.022*\"committee\" + 0.017*\"yes\" + 0.017*\"gore\" + 0.011*\"texas\"\n",
      "INFO:gensim.models.ldamodel:topic #64 (0.010): 0.033*\"bomb\" + 0.020*\"british\" + 0.018*\"attack\" + 0.017*\"explosion\" + 0.016*\"navy\" + 0.013*\"bombing\" + 0.013*\"northern\" + 0.011*\"ira\" + 0.011*\"killed\" + 0.010*\"two\"\n",
      "INFO:gensim.models.ldamodel:topic #62 (0.010): 0.018*\"fair\" + 0.014*\"new\" + 0.013*\"texas\" + 0.013*\"southern\" + 0.013*\"northern\" + 0.012*\"rain\" + 0.011*\"central\" + 0.010*\"snow\" + 0.009*\"south\" + 0.008*\"cloudy\"\n",
      "INFO:gensim.models.ldamodel:topic #2 (0.010): 0.035*\"ship\" + 0.031*\"coast\" + 0.026*\"guard\" + 0.022*\"gulf\" + 0.021*\"ships\" + 0.019*\"boat\" + 0.019*\"sea\" + 0.018*\"island\" + 0.017*\"navy\" + 0.014*\"port\"\n",
      "INFO:gensim.models.ldamodel:topic diff=inf, rho=0.140028\n",
      "INFO:gensim.models.ldamodel:PROGRESS: pass 0, at document #104000/164597\n",
      "INFO:gensim.models.ldamodel:merging changes from 2000 documents into a model of 164597 documents\n",
      "INFO:gensim.models.ldamodel:topic #40 (0.010): 0.060*\"tax\" + 0.029*\"income\" + 0.023*\"house\" + 0.020*\"taxes\" + 0.019*\"wright\" + 0.017*\"pay\" + 0.013*\"ethics\" + 0.010*\"members\" + 0.009*\"gifts\" + 0.009*\"committee\"\n",
      "INFO:gensim.models.ldamodel:topic #97 (0.010): 0.034*\"aid\" + 0.029*\"nicaragua\" + 0.026*\"rebels\" + 0.025*\"contras\" + 0.024*\"contra\" + 0.022*\"el\" + 0.018*\"nicaraguan\" + 0.016*\"sandinista\" + 0.015*\"honduras\" + 0.013*\"central\"\n",
      "INFO:gensim.models.ldamodel:topic #33 (0.010): 0.061*\"jackson\" + 0.049*\"city\" + 0.031*\"black\" + 0.018*\"mayor\" + 0.014*\"county\" + 0.013*\"white\" + 0.011*\"jesse\" + 0.009*\"new\" + 0.009*\"atlanta\" + 0.009*\"york\"\n",
      "INFO:gensim.models.ldamodel:topic #54 (0.010): 0.023*\"department\" + 0.017*\"report\" + 0.016*\"federal\" + 0.016*\"commission\" + 0.013*\"agency\" + 0.011*\"national\" + 0.011*\"service\" + 0.010*\"program\" + 0.010*\"public\" + 0.009*\"government\"\n",
      "INFO:gensim.models.ldamodel:topic #28 (0.010): 0.024*\"library\" + 0.018*\"churchs\" + 0.017*\"plaintiffs\" + 0.016*\"byrne\" + 0.014*\"book\" + 0.012*\"threats\" + 0.012*\"murray\" + 0.012*\"novel\" + 0.011*\"death\" + 0.011*\"trustee\"\n",
      "INFO:gensim.models.ldamodel:topic diff=inf, rho=0.138675\n",
      "INFO:gensim.models.ldamodel:PROGRESS: pass 0, at document #106000/164597\n",
      "INFO:gensim.models.ldamodel:merging changes from 2000 documents into a model of 164597 documents\n",
      "INFO:gensim.models.ldamodel:topic #44 (0.010): 0.036*\"marcos\" + 0.032*\"poland\" + 0.022*\"polish\" + 0.021*\"communist\" + 0.020*\"aquino\" + 0.018*\"philippines\" + 0.016*\"hungary\" + 0.013*\"economic\" + 0.013*\"europe\" + 0.012*\"warsaw\"\n",
      "INFO:gensim.models.ldamodel:topic #53 (0.010): 0.042*\"steel\" + 0.028*\"tobacco\" + 0.018*\"cigarette\" + 0.015*\"pittsburgh\" + 0.013*\"transplant\" + 0.013*\"brazil\" + 0.013*\"cigarettes\" + 0.012*\"reynolds\" + 0.012*\"liver\" + 0.012*\"bone\"\n",
      "INFO:gensim.models.ldamodel:topic #59 (0.010): 0.066*\"vietnam\" + 0.030*\"veterans\" + 0.028*\"vietnamese\" + 0.021*\"cambodia\" + 0.021*\"rouge\" + 0.020*\"war\" + 0.018*\"khmer\" + 0.017*\"refugees\" + 0.011*\"government\" + 0.011*\"asian\"\n",
      "INFO:gensim.models.ldamodel:topic #95 (0.010): 0.032*\"treaty\" + 0.025*\"nuclear\" + 0.022*\"european\" + 0.021*\"missiles\" + 0.019*\"agreement\" + 0.019*\"french\" + 0.018*\"range\" + 0.017*\"arms\" + 0.016*\"weapons\" + 0.016*\"europe\"\n",
      "INFO:gensim.models.ldamodel:topic #22 (0.010): 0.033*\"lebanon\" + 0.022*\"hostages\" + 0.021*\"iranian\" + 0.018*\"beirut\" + 0.016*\"iran\" + 0.015*\"moslem\" + 0.012*\"syrian\" + 0.012*\"held\" + 0.011*\"christian\" + 0.011*\"lebanese\"\n",
      "INFO:gensim.models.ldamodel:topic diff=inf, rho=0.137361\n",
      "INFO:gensim.models.ldamodel:PROGRESS: pass 0, at document #108000/164597\n",
      "INFO:gensim.models.ldamodel:merging changes from 2000 documents into a model of 164597 documents\n",
      "INFO:gensim.models.ldamodel:topic #12 (0.010): 0.048*\"d\" + 0.043*\"senate\" + 0.040*\"sen\" + 0.033*\"r\" + 0.029*\"bentsen\" + 0.022*\"dole\" + 0.021*\"committee\" + 0.016*\"yes\" + 0.016*\"gore\" + 0.012*\"texas\"\n",
      "INFO:gensim.models.ldamodel:topic #58 (0.010): 0.022*\"million\" + 0.021*\"farmers\" + 0.020*\"production\" + 0.019*\"farm\" + 0.015*\"agriculture\" + 0.014*\"drought\" + 0.013*\"prices\" + 0.012*\"tons\" + 0.010*\"price\" + 0.009*\"agricultural\"\n",
      "INFO:gensim.models.ldamodel:topic #2 (0.010): 0.034*\"ship\" + 0.028*\"gulf\" + 0.028*\"guard\" + 0.028*\"coast\" + 0.020*\"ships\" + 0.019*\"sea\" + 0.019*\"navy\" + 0.018*\"island\" + 0.017*\"boat\" + 0.012*\"port\"\n",
      "INFO:gensim.models.ldamodel:topic #64 (0.010): 0.032*\"bomb\" + 0.021*\"british\" + 0.020*\"attack\" + 0.015*\"explosion\" + 0.014*\"northern\" + 0.014*\"navy\" + 0.012*\"bombing\" + 0.012*\"ira\" + 0.012*\"killed\" + 0.011*\"blast\"\n",
      "INFO:gensim.models.ldamodel:topic #89 (0.010): 0.043*\"police\" + 0.013*\"two\" + 0.012*\"man\" + 0.011*\"old\" + 0.010*\"found\" + 0.008*\"told\" + 0.008*\"home\" + 0.008*\"woman\" + 0.007*\"shot\" + 0.007*\"three\"\n",
      "INFO:gensim.models.ldamodel:topic diff=inf, rho=0.136083\n",
      "INFO:gensim.models.ldamodel:PROGRESS: pass 0, at document #110000/164597\n",
      "INFO:gensim.models.ldamodel:merging changes from 2000 documents into a model of 164597 documents\n",
      "INFO:gensim.models.ldamodel:topic #96 (0.010): 0.044*\"party\" + 0.019*\"government\" + 0.016*\"political\" + 0.012*\"minister\" + 0.012*\"new\" + 0.010*\"opposition\" + 0.010*\"parliament\" + 0.010*\"power\" + 0.009*\"president\" + 0.009*\"member\"\n",
      "INFO:gensim.models.ldamodel:topic #67 (0.010): 0.040*\"stock\" + 0.032*\"market\" + 0.022*\"index\" + 0.018*\"exchange\" + 0.018*\"stocks\" + 0.015*\"trading\" + 0.015*\"points\" + 0.014*\"2\" + 0.014*\"issues\" + 0.013*\"jones\"\n",
      "INFO:gensim.models.ldamodel:topic #5 (0.010): 0.029*\"canadian\" + 0.029*\"hotel\" + 0.026*\"canada\" + 0.024*\"greek\" + 0.019*\"immigration\" + 0.016*\"thatcher\" + 0.014*\"greece\" + 0.013*\"ins\" + 0.012*\"athens\" + 0.011*\"easter\"\n",
      "INFO:gensim.models.ldamodel:topic #14 (0.010): 0.054*\"gun\" + 0.029*\"weapons\" + 0.027*\"guns\" + 0.015*\"rifle\" + 0.013*\"assault\" + 0.013*\"ban\" + 0.012*\"automatic\" + 0.012*\"lima\" + 0.011*\"weapon\" + 0.010*\"rifles\"\n",
      "INFO:gensim.models.ldamodel:topic #75 (0.010): 0.045*\"government\" + 0.012*\"news\" + 0.011*\"solidarity\" + 0.010*\"reported\" + 0.009*\"people\" + 0.009*\"official\" + 0.008*\"agency\" + 0.007*\"radio\" + 0.007*\"authorities\" + 0.006*\"union\"\n",
      "INFO:gensim.models.ldamodel:topic diff=inf, rho=0.134840\n",
      "INFO:gensim.models.ldamodel:PROGRESS: pass 0, at document #112000/164597\n",
      "INFO:gensim.models.ldamodel:merging changes from 2000 documents into a model of 164597 documents\n",
      "INFO:gensim.models.ldamodel:topic #88 (0.010): 0.077*\"south\" + 0.064*\"north\" + 0.052*\"korea\" + 0.041*\"korean\" + 0.022*\"seoul\" + 0.020*\"olympics\" + 0.017*\"students\" + 0.015*\"olympic\" + 0.015*\"roh\" + 0.015*\"chun\"\n",
      "INFO:gensim.models.ldamodel:topic #46 (0.010): 0.053*\"south\" + 0.031*\"africa\" + 0.027*\"rights\" + 0.027*\"african\" + 0.020*\"black\" + 0.018*\"human\" + 0.015*\"prisoners\" + 0.014*\"apartheid\" + 0.014*\"prison\" + 0.012*\"national\"\n",
      "INFO:gensim.models.ldamodel:topic #1 (0.010): 0.034*\"computer\" + 0.019*\"system\" + 0.016*\"industry\" + 0.015*\"technology\" + 0.014*\"systems\" + 0.014*\"products\" + 0.014*\"equipment\" + 0.013*\"new\" + 0.013*\"market\" + 0.012*\"companies\"\n",
      "INFO:gensim.models.ldamodel:topic #89 (0.010): 0.043*\"police\" + 0.013*\"two\" + 0.012*\"man\" + 0.011*\"old\" + 0.010*\"found\" + 0.008*\"told\" + 0.008*\"home\" + 0.007*\"woman\" + 0.007*\"shot\" + 0.007*\"authorities\"\n",
      "INFO:gensim.models.ldamodel:topic #23 (0.010): 0.034*\"water\" + 0.025*\"environmental\" + 0.021*\"waste\" + 0.011*\"air\" + 0.011*\"pollution\" + 0.010*\"clean\" + 0.010*\"epa\" + 0.010*\"chemicals\" + 0.009*\"environment\" + 0.009*\"toxic\"\n",
      "INFO:gensim.models.ldamodel:topic diff=inf, rho=0.133631\n",
      "INFO:gensim.models.ldamodel:PROGRESS: pass 0, at document #114000/164597\n",
      "INFO:gensim.models.ldamodel:merging changes from 2000 documents into a model of 164597 documents\n",
      "INFO:gensim.models.ldamodel:topic #96 (0.010): 0.045*\"party\" + 0.018*\"government\" + 0.016*\"political\" + 0.012*\"minister\" + 0.011*\"new\" + 0.010*\"opposition\" + 0.009*\"president\" + 0.009*\"power\" + 0.009*\"parliament\" + 0.009*\"member\"\n"
     ]
    },
    {
     "name": "stderr",
     "output_type": "stream",
     "text": [
      "INFO:gensim.models.ldamodel:topic #75 (0.010): 0.044*\"government\" + 0.013*\"news\" + 0.011*\"solidarity\" + 0.010*\"official\" + 0.010*\"reported\" + 0.009*\"people\" + 0.009*\"agency\" + 0.008*\"radio\" + 0.007*\"authorities\" + 0.007*\"minister\"\n",
      "INFO:gensim.models.ldamodel:topic #88 (0.010): 0.078*\"south\" + 0.064*\"north\" + 0.052*\"korea\" + 0.042*\"korean\" + 0.021*\"seoul\" + 0.020*\"olympics\" + 0.016*\"students\" + 0.015*\"olympic\" + 0.014*\"roh\" + 0.014*\"chun\"\n",
      "INFO:gensim.models.ldamodel:topic #53 (0.010): 0.044*\"steel\" + 0.029*\"tobacco\" + 0.017*\"transplant\" + 0.016*\"pittsburgh\" + 0.015*\"cigarette\" + 0.015*\"brazil\" + 0.014*\"liver\" + 0.013*\"cigarettes\" + 0.012*\"bone\" + 0.011*\"organ\"\n",
      "INFO:gensim.models.ldamodel:topic #72 (0.010): 0.042*\"car\" + 0.042*\"cars\" + 0.026*\"ford\" + 0.015*\"williams\" + 0.015*\"vehicles\" + 0.014*\"auto\" + 0.014*\"motor\" + 0.012*\"chrysler\" + 0.011*\"trucks\" + 0.010*\"truck\"\n",
      "INFO:gensim.models.ldamodel:topic diff=inf, rho=0.132453\n",
      "INFO:gensim.models.ldamodel:PROGRESS: pass 0, at document #116000/164597\n",
      "INFO:gensim.models.ldamodel:merging changes from 2000 documents into a model of 164597 documents\n",
      "INFO:gensim.models.ldamodel:topic #5 (0.010): 0.032*\"canadian\" + 0.030*\"canada\" + 0.027*\"hotel\" + 0.022*\"greek\" + 0.021*\"immigration\" + 0.019*\"thatcher\" + 0.014*\"ins\" + 0.013*\"greece\" + 0.011*\"aliens\" + 0.011*\"toronto\"\n",
      "INFO:gensim.models.ldamodel:topic #82 (0.010): 0.072*\"newspaper\" + 0.039*\"paper\" + 0.035*\"newspapers\" + 0.032*\"daily\" + 0.023*\"magazine\" + 0.020*\"press\" + 0.019*\"news\" + 0.014*\"publishing\" + 0.013*\"free\" + 0.012*\"papers\"\n",
      "INFO:gensim.models.ldamodel:topic #43 (0.010): 0.064*\"kennedy\" + 0.035*\"florida\" + 0.018*\"funds\" + 0.016*\"hispanic\" + 0.016*\"roberts\" + 0.015*\"bureau\" + 0.015*\"money\" + 0.015*\"precincts\" + 0.014*\"beach\" + 0.013*\"population\"\n",
      "INFO:gensim.models.ldamodel:topic #31 (0.010): 0.010*\"old\" + 0.008*\"years\" + 0.007*\"says\" + 0.007*\"people\" + 0.007*\"back\" + 0.007*\"time\" + 0.007*\"home\" + 0.006*\"family\" + 0.006*\"life\" + 0.005*\"im\"\n",
      "INFO:gensim.models.ldamodel:topic #77 (0.010): 0.065*\"budget\" + 0.030*\"spending\" + 0.029*\"administration\" + 0.028*\"bush\" + 0.018*\"cuts\" + 0.015*\"deficit\" + 0.015*\"president\" + 0.015*\"fitzwater\" + 0.012*\"reagan\" + 0.012*\"cut\"\n",
      "INFO:gensim.models.ldamodel:topic diff=inf, rho=0.131306\n",
      "INFO:gensim.models.ldamodel:PROGRESS: pass 0, at document #118000/164597\n",
      "INFO:gensim.models.ldamodel:merging changes from 2000 documents into a model of 164597 documents\n",
      "INFO:gensim.models.ldamodel:topic #8 (0.010): 0.045*\"brown\" + 0.024*\"columbia\" + 0.024*\"davis\" + 0.020*\"animal\" + 0.019*\"animals\" + 0.017*\"mca\" + 0.013*\"love\" + 0.013*\"rca\" + 0.011*\"platinum\" + 0.011*\"warner\"\n",
      "INFO:gensim.models.ldamodel:topic #44 (0.010): 0.043*\"marcos\" + 0.029*\"poland\" + 0.022*\"aquino\" + 0.022*\"polish\" + 0.022*\"communist\" + 0.021*\"philippines\" + 0.016*\"hungary\" + 0.013*\"europe\" + 0.013*\"yugoslavia\" + 0.012*\"economic\"\n",
      "INFO:gensim.models.ldamodel:topic #19 (0.010): 0.106*\"oil\" + 0.024*\"gas\" + 0.014*\"alaska\" + 0.011*\"petroleum\" + 0.010*\"pipeline\" + 0.009*\"fuel\" + 0.009*\"gallons\" + 0.009*\"barrels\" + 0.008*\"tanker\" + 0.008*\"spill\"\n",
      "INFO:gensim.models.ldamodel:topic #95 (0.010): 0.034*\"treaty\" + 0.027*\"nuclear\" + 0.024*\"missiles\" + 0.021*\"european\" + 0.020*\"range\" + 0.019*\"agreement\" + 0.018*\"arms\" + 0.018*\"weapons\" + 0.017*\"french\" + 0.016*\"europe\"\n",
      "INFO:gensim.models.ldamodel:topic #6 (0.010): 0.058*\"china\" + 0.047*\"chinese\" + 0.018*\"chinas\" + 0.016*\"beijing\" + 0.014*\"hong\" + 0.013*\"government\" + 0.013*\"kong\" + 0.013*\"people\" + 0.013*\"students\" + 0.011*\"official\"\n",
      "INFO:gensim.models.ldamodel:topic diff=inf, rho=0.130189\n",
      "INFO:gensim.models.ldamodel:-13.633 per-word bound, 12700.2 perplexity estimate based on a held-out corpus of 2000 documents with 500539 words\n",
      "INFO:gensim.models.ldamodel:PROGRESS: pass 0, at document #120000/164597\n",
      "INFO:gensim.models.ldamodel:merging changes from 2000 documents into a model of 164597 documents\n",
      "INFO:gensim.models.ldamodel:topic #15 (0.010): 0.112*\"soviet\" + 0.026*\"gorbachev\" + 0.024*\"union\" + 0.022*\"iran\" + 0.022*\"moscow\" + 0.019*\"iraq\" + 0.018*\"soviets\" + 0.012*\"iraqi\" + 0.011*\"iranian\" + 0.010*\"mikhail\"\n",
      "INFO:gensim.models.ldamodel:topic #9 (0.010): 0.029*\"space\" + 0.014*\"launch\" + 0.013*\"shuttle\" + 0.007*\"nasa\" + 0.007*\"two\" + 0.007*\"mission\" + 0.006*\"miles\" + 0.006*\"satellite\" + 0.006*\"earth\" + 0.006*\"feet\"\n",
      "INFO:gensim.models.ldamodel:topic #40 (0.010): 0.068*\"tax\" + 0.027*\"income\" + 0.025*\"wright\" + 0.025*\"taxes\" + 0.022*\"house\" + 0.015*\"pay\" + 0.014*\"ethics\" + 0.010*\"committee\" + 0.009*\"members\" + 0.009*\"paid\"\n",
      "INFO:gensim.models.ldamodel:topic #44 (0.010): 0.046*\"marcos\" + 0.029*\"poland\" + 0.023*\"communist\" + 0.023*\"polish\" + 0.022*\"aquino\" + 0.019*\"philippines\" + 0.015*\"hungary\" + 0.013*\"yugoslavia\" + 0.013*\"europe\" + 0.012*\"economic\"\n",
      "INFO:gensim.models.ldamodel:topic #59 (0.010): 0.065*\"vietnam\" + 0.030*\"vietnamese\" + 0.023*\"cambodia\" + 0.023*\"war\" + 0.022*\"veterans\" + 0.019*\"rouge\" + 0.017*\"khmer\" + 0.015*\"refugees\" + 0.012*\"thailand\" + 0.010*\"americans\"\n",
      "INFO:gensim.models.ldamodel:topic diff=inf, rho=0.129099\n",
      "INFO:gensim.models.ldamodel:PROGRESS: pass 0, at document #122000/164597\n",
      "INFO:gensim.models.ldamodel:merging changes from 2000 documents into a model of 164597 documents\n",
      "INFO:gensim.models.ldamodel:topic #18 (0.010): 0.074*\"church\" + 0.030*\"catholic\" + 0.027*\"religious\" + 0.018*\"roman\" + 0.016*\"jewish\" + 0.016*\"pope\" + 0.015*\"rev\" + 0.014*\"robertson\" + 0.013*\"god\" + 0.012*\"john\"\n",
      "INFO:gensim.models.ldamodel:topic #56 (0.010): 0.068*\"plant\" + 0.051*\"nuclear\" + 0.027*\"power\" + 0.025*\"mecham\" + 0.021*\"weapons\" + 0.019*\"chemical\" + 0.017*\"plants\" + 0.017*\"energy\" + 0.011*\"safety\" + 0.009*\"department\"\n",
      "INFO:gensim.models.ldamodel:topic #86 (0.010): 0.028*\"police\" + 0.011*\"protesters\" + 0.011*\"west\" + 0.011*\"people\" + 0.011*\"israeli\" + 0.010*\"bank\" + 0.010*\"army\" + 0.010*\"protest\" + 0.010*\"palestinians\" + 0.009*\"arab\"\n",
      "INFO:gensim.models.ldamodel:topic #17 (0.010): 0.023*\"lottery\" + 0.022*\"tickets\" + 0.021*\"sex\" + 0.019*\"marriage\" + 0.018*\"married\" + 0.018*\"sexual\" + 0.017*\"divorce\" + 0.017*\"couple\" + 0.016*\"couples\" + 0.016*\"homosexual\"\n",
      "INFO:gensim.models.ldamodel:topic #3 (0.010): 0.037*\"workers\" + 0.028*\"company\" + 0.024*\"union\" + 0.018*\"employees\" + 0.013*\"contract\" + 0.013*\"labor\" + 0.012*\"companies\" + 0.011*\"work\" + 0.011*\"new\" + 0.010*\"jobs\"\n",
      "INFO:gensim.models.ldamodel:topic diff=inf, rho=0.128037\n",
      "INFO:gensim.models.ldamodel:PROGRESS: pass 0, at document #124000/164597\n",
      "INFO:gensim.models.ldamodel:merging changes from 2000 documents into a model of 164597 documents\n",
      "INFO:gensim.models.ldamodel:topic #6 (0.010): 0.057*\"china\" + 0.048*\"chinese\" + 0.017*\"chinas\" + 0.015*\"beijing\" + 0.013*\"hong\" + 0.013*\"government\" + 0.013*\"people\" + 0.012*\"kong\" + 0.012*\"official\" + 0.012*\"rangoon\"\n",
      "INFO:gensim.models.ldamodel:topic #46 (0.010): 0.051*\"south\" + 0.030*\"africa\" + 0.025*\"rights\" + 0.024*\"african\" + 0.022*\"black\" + 0.018*\"human\" + 0.016*\"prisoners\" + 0.014*\"prison\" + 0.013*\"apartheid\" + 0.012*\"white\"\n",
      "INFO:gensim.models.ldamodel:topic #93 (0.010): 0.042*\"percent\" + 0.020*\"rate\" + 0.014*\"economic\" + 0.014*\"rates\" + 0.014*\"inflation\" + 0.013*\"prices\" + 0.012*\"economy\" + 0.010*\"growth\" + 0.010*\"increase\" + 0.009*\"trade\"\n",
      "INFO:gensim.models.ldamodel:topic #73 (0.010): 0.029*\"10\" + 0.025*\"0\" + 0.020*\"abc\" + 0.020*\"8\" + 0.019*\"cbs\" + 0.019*\"nbc\" + 0.018*\"12\" + 0.018*\"6\" + 0.017*\"3\" + 0.017*\"13\"\n",
      "INFO:gensim.models.ldamodel:topic #38 (0.010): 0.025*\"offer\" + 0.019*\"company\" + 0.013*\"share\" + 0.012*\"new\" + 0.012*\"eastern\" + 0.012*\"takeover\" + 0.011*\"million\" + 0.011*\"bid\" + 0.011*\"stock\" + 0.009*\"shareholders\"\n",
      "INFO:gensim.models.ldamodel:topic diff=inf, rho=0.127000\n",
      "INFO:gensim.models.ldamodel:PROGRESS: pass 0, at document #126000/164597\n",
      "INFO:gensim.models.ldamodel:merging changes from 2000 documents into a model of 164597 documents\n",
      "INFO:gensim.models.ldamodel:topic #50 (0.010): 0.233*\"000\" + 0.036*\"1\" + 0.034*\"500\" + 0.029*\"100\" + 0.020*\"200\" + 0.017*\"300\" + 0.015*\"400\" + 0.014*\"50\" + 0.014*\"estimated\" + 0.011*\"2\"\n",
      "INFO:gensim.models.ldamodel:topic #39 (0.010): 0.101*\"book\" + 0.041*\"books\" + 0.023*\"dog\" + 0.022*\"thompson\" + 0.016*\"turner\" + 0.012*\"kelly\" + 0.012*\"published\" + 0.010*\"filipino\" + 0.009*\"dogs\" + 0.008*\"author\"\n",
      "INFO:gensim.models.ldamodel:topic #14 (0.010): 0.059*\"gun\" + 0.032*\"guns\" + 0.027*\"weapons\" + 0.015*\"automatic\" + 0.015*\"ban\" + 0.013*\"rifle\" + 0.011*\"weapon\" + 0.011*\"assault\" + 0.010*\"control\" + 0.010*\"path\"\n"
     ]
    },
    {
     "name": "stderr",
     "output_type": "stream",
     "text": [
      "INFO:gensim.models.ldamodel:topic #31 (0.010): 0.011*\"old\" + 0.008*\"years\" + 0.007*\"people\" + 0.007*\"home\" + 0.007*\"says\" + 0.007*\"time\" + 0.007*\"back\" + 0.006*\"family\" + 0.006*\"life\" + 0.005*\"im\"\n",
      "INFO:gensim.models.ldamodel:topic #16 (0.010): 0.035*\"art\" + 0.028*\"museum\" + 0.016*\"moore\" + 0.014*\"works\" + 0.013*\"american\" + 0.012*\"flag\" + 0.012*\"waldheim\" + 0.011*\"artists\" + 0.010*\"foundation\" + 0.010*\"display\"\n",
      "INFO:gensim.models.ldamodel:topic diff=inf, rho=0.125988\n",
      "INFO:gensim.models.ldamodel:PROGRESS: pass 0, at document #128000/164597\n",
      "INFO:gensim.models.ldamodel:merging changes from 2000 documents into a model of 164597 documents\n",
      "INFO:gensim.models.ldamodel:topic #43 (0.010): 0.060*\"kennedy\" + 0.043*\"florida\" + 0.023*\"precincts\" + 0.019*\"roberts\" + 0.019*\"beach\" + 0.017*\"hispanic\" + 0.016*\"funds\" + 0.015*\"money\" + 0.014*\"palm\" + 0.013*\"bureau\"\n",
      "INFO:gensim.models.ldamodel:topic #22 (0.010): 0.030*\"lebanon\" + 0.025*\"iranian\" + 0.025*\"hostages\" + 0.019*\"iran\" + 0.018*\"beirut\" + 0.013*\"moslem\" + 0.013*\"held\" + 0.012*\"syrian\" + 0.012*\"hostage\" + 0.011*\"release\"\n",
      "INFO:gensim.models.ldamodel:topic #58 (0.010): 0.023*\"farm\" + 0.022*\"farmers\" + 0.021*\"production\" + 0.019*\"million\" + 0.017*\"drought\" + 0.015*\"agriculture\" + 0.014*\"prices\" + 0.012*\"tons\" + 0.010*\"agricultural\" + 0.010*\"price\"\n",
      "INFO:gensim.models.ldamodel:topic #62 (0.010): 0.017*\"fair\" + 0.015*\"new\" + 0.013*\"northern\" + 0.012*\"texas\" + 0.012*\"southern\" + 0.012*\"central\" + 0.011*\"rain\" + 0.011*\"snow\" + 0.009*\"south\" + 0.009*\"degrees\"\n",
      "INFO:gensim.models.ldamodel:topic #6 (0.010): 0.058*\"china\" + 0.049*\"chinese\" + 0.018*\"chinas\" + 0.014*\"beijing\" + 0.013*\"hong\" + 0.013*\"people\" + 0.013*\"government\" + 0.012*\"official\" + 0.012*\"rangoon\" + 0.012*\"kong\"\n",
      "INFO:gensim.models.ldamodel:topic diff=inf, rho=0.125000\n",
      "INFO:gensim.models.ldamodel:PROGRESS: pass 0, at document #130000/164597\n",
      "INFO:gensim.models.ldamodel:merging changes from 2000 documents into a model of 164597 documents\n",
      "INFO:gensim.models.ldamodel:topic #85 (0.010): 0.050*\"mine\" + 0.032*\"coal\" + 0.021*\"miners\" + 0.021*\"mines\" + 0.018*\"virginia\" + 0.015*\"contests\" + 0.014*\"campbell\" + 0.009*\"sudan\" + 0.009*\"shamrock\" + 0.009*\"weld\"\n",
      "INFO:gensim.models.ldamodel:topic #96 (0.010): 0.045*\"party\" + 0.019*\"government\" + 0.015*\"political\" + 0.012*\"minister\" + 0.011*\"new\" + 0.011*\"opposition\" + 0.011*\"president\" + 0.009*\"parliament\" + 0.009*\"power\" + 0.009*\"national\"\n",
      "INFO:gensim.models.ldamodel:topic #32 (0.010): 0.104*\"percent\" + 0.019*\"survey\" + 0.013*\"poll\" + 0.010*\"found\" + 0.007*\"states\" + 0.007*\"10\" + 0.007*\"americans\" + 0.006*\"likely\" + 0.006*\"conducted\" + 0.006*\"error\"\n",
      "INFO:gensim.models.ldamodel:topic #3 (0.010): 0.039*\"workers\" + 0.026*\"company\" + 0.026*\"union\" + 0.019*\"employees\" + 0.015*\"contract\" + 0.013*\"labor\" + 0.011*\"work\" + 0.011*\"companies\" + 0.010*\"strike\" + 0.010*\"jobs\"\n",
      "INFO:gensim.models.ldamodel:topic #30 (0.010): 0.035*\"indian\" + 0.028*\"people\" + 0.025*\"india\" + 0.017*\"killed\" + 0.015*\"ethnic\" + 0.012*\"armenian\" + 0.012*\"government\" + 0.011*\"indians\" + 0.010*\"sikh\" + 0.010*\"sinhalese\"\n",
      "INFO:gensim.models.ldamodel:topic diff=inf, rho=0.124035\n",
      "INFO:gensim.models.ldamodel:PROGRESS: pass 0, at document #132000/164597\n",
      "INFO:gensim.models.ldamodel:merging changes from 2000 documents into a model of 164597 documents\n",
      "INFO:gensim.models.ldamodel:topic #60 (0.010): 0.068*\"housing\" + 0.051*\"project\" + 0.042*\"kemp\" + 0.040*\"construction\" + 0.024*\"projects\" + 0.017*\"development\" + 0.012*\"hudson\" + 0.011*\"argentina\" + 0.010*\"urban\" + 0.010*\"contractor\"\n",
      "INFO:gensim.models.ldamodel:topic #3 (0.010): 0.039*\"workers\" + 0.026*\"company\" + 0.025*\"union\" + 0.019*\"employees\" + 0.014*\"contract\" + 0.014*\"labor\" + 0.012*\"work\" + 0.011*\"strike\" + 0.011*\"companies\" + 0.010*\"jobs\"\n",
      "INFO:gensim.models.ldamodel:topic #86 (0.010): 0.026*\"police\" + 0.011*\"west\" + 0.011*\"israeli\" + 0.011*\"protesters\" + 0.011*\"army\" + 0.010*\"bank\" + 0.010*\"palestinians\" + 0.010*\"protest\" + 0.009*\"people\" + 0.009*\"arab\"\n",
      "INFO:gensim.models.ldamodel:topic #12 (0.010): 0.045*\"sen\" + 0.045*\"d\" + 0.042*\"senate\" + 0.032*\"r\" + 0.030*\"dole\" + 0.027*\"bentsen\" + 0.024*\"gore\" + 0.016*\"committee\" + 0.015*\"texas\" + 0.015*\"yes\"\n",
      "INFO:gensim.models.ldamodel:topic #16 (0.010): 0.035*\"art\" + 0.027*\"museum\" + 0.018*\"moore\" + 0.016*\"works\" + 0.013*\"american\" + 0.012*\"waldheim\" + 0.012*\"artists\" + 0.011*\"exhibit\" + 0.011*\"display\" + 0.010*\"flag\"\n",
      "INFO:gensim.models.ldamodel:topic diff=inf, rho=0.123091\n",
      "INFO:gensim.models.ldamodel:PROGRESS: pass 0, at document #134000/164597\n",
      "INFO:gensim.models.ldamodel:merging changes from 2000 documents into a model of 164597 documents\n",
      "INFO:gensim.models.ldamodel:topic #35 (0.010): 0.023*\"charges\" + 0.021*\"trial\" + 0.017*\"jury\" + 0.015*\"attorney\" + 0.014*\"former\" + 0.013*\"judge\" + 0.013*\"charged\" + 0.012*\"case\" + 0.010*\"federal\" + 0.010*\"court\"\n",
      "INFO:gensim.models.ldamodel:topic #4 (0.010): 0.036*\"stores\" + 0.030*\"food\" + 0.028*\"store\" + 0.012*\"restaurant\" + 0.010*\"items\" + 0.010*\"shopping\" + 0.009*\"restaurants\" + 0.009*\"chain\" + 0.008*\"shop\" + 0.008*\"sales\"\n",
      "INFO:gensim.models.ldamodel:topic #97 (0.010): 0.034*\"aid\" + 0.029*\"rebels\" + 0.027*\"nicaragua\" + 0.024*\"contras\" + 0.023*\"contra\" + 0.021*\"el\" + 0.021*\"nicaraguan\" + 0.017*\"sandinista\" + 0.015*\"peace\" + 0.015*\"honduras\"\n",
      "INFO:gensim.models.ldamodel:topic #91 (0.010): 0.052*\"league\" + 0.045*\"team\" + 0.031*\"baseball\" + 0.031*\"egyptian\" + 0.027*\"egypt\" + 0.020*\"painting\" + 0.019*\"cairo\" + 0.017*\"eagle\" + 0.017*\"sports\" + 0.016*\"homosexuals\"\n",
      "INFO:gensim.models.ldamodel:topic #36 (0.010): 0.113*\"west\" + 0.055*\"german\" + 0.048*\"east\" + 0.046*\"germany\" + 0.027*\"angola\" + 0.026*\"south\" + 0.023*\"africa\" + 0.016*\"independence\" + 0.015*\"berlin\" + 0.015*\"cuban\"\n",
      "INFO:gensim.models.ldamodel:topic diff=inf, rho=0.122169\n",
      "INFO:gensim.models.ldamodel:PROGRESS: pass 0, at document #136000/164597\n",
      "INFO:gensim.models.ldamodel:merging changes from 2000 documents into a model of 164597 documents\n",
      "INFO:gensim.models.ldamodel:topic #90 (0.010): 0.031*\"bill\" + 0.028*\"house\" + 0.021*\"congress\" + 0.015*\"senate\" + 0.013*\"legislation\" + 0.011*\"committee\" + 0.010*\"reagan\" + 0.009*\"president\" + 0.008*\"vote\" + 0.008*\"measure\"\n",
      "INFO:gensim.models.ldamodel:topic #29 (0.010): 0.059*\"aids\" + 0.025*\"women\" + 0.025*\"virus\" + 0.023*\"health\" + 0.021*\"disease\" + 0.018*\"cases\" + 0.012*\"people\" + 0.010*\"infected\" + 0.009*\"immune\" + 0.009*\"blood\"\n",
      "INFO:gensim.models.ldamodel:topic #11 (0.010): 0.014*\"investigation\" + 0.011*\"information\" + 0.010*\"meese\" + 0.008*\"officials\" + 0.008*\"office\" + 0.008*\"told\" + 0.008*\"documents\" + 0.007*\"department\" + 0.007*\"did\" + 0.007*\"security\"\n",
      "INFO:gensim.models.ldamodel:topic #12 (0.010): 0.046*\"sen\" + 0.044*\"senate\" + 0.042*\"d\" + 0.033*\"bentsen\" + 0.030*\"r\" + 0.030*\"dole\" + 0.026*\"gore\" + 0.018*\"texas\" + 0.016*\"committee\" + 0.015*\"simon\"\n",
      "INFO:gensim.models.ldamodel:topic #74 (0.010): 0.063*\"court\" + 0.020*\"law\" + 0.020*\"judge\" + 0.018*\"case\" + 0.015*\"federal\" + 0.014*\"state\" + 0.013*\"supreme\" + 0.012*\"ruling\" + 0.012*\"decision\" + 0.012*\"appeals\"\n",
      "INFO:gensim.models.ldamodel:topic diff=inf, rho=0.121268\n",
      "INFO:gensim.models.ldamodel:PROGRESS: pass 0, at document #138000/164597\n",
      "INFO:gensim.models.ldamodel:merging changes from 2000 documents into a model of 164597 documents\n",
      "INFO:gensim.models.ldamodel:topic #34 (0.010): 0.032*\"study\" + 0.023*\"research\" + 0.015*\"cancer\" + 0.014*\"found\" + 0.013*\"university\" + 0.012*\"researchers\" + 0.010*\"institute\" + 0.009*\"scientists\" + 0.008*\"studies\" + 0.006*\"food\"\n",
      "INFO:gensim.models.ldamodel:topic #68 (0.010): 0.037*\"medical\" + 0.034*\"hospital\" + 0.027*\"doctors\" + 0.022*\"blood\" + 0.020*\"patients\" + 0.020*\"tests\" + 0.019*\"test\" + 0.019*\"dr\" + 0.018*\"heart\" + 0.017*\"testing\"\n",
      "INFO:gensim.models.ldamodel:topic #86 (0.010): 0.025*\"police\" + 0.012*\"west\" + 0.012*\"israeli\" + 0.012*\"army\" + 0.011*\"bank\" + 0.011*\"palestinians\" + 0.010*\"protesters\" + 0.010*\"arab\" + 0.010*\"protest\" + 0.009*\"people\"\n",
      "INFO:gensim.models.ldamodel:topic #25 (0.010): 0.027*\"company\" + 0.016*\"co\" + 0.015*\"business\" + 0.013*\"firm\" + 0.013*\"companies\" + 0.012*\"stock\" + 0.012*\"million\" + 0.012*\"securities\" + 0.012*\"investment\" + 0.010*\"corp\"\n",
      "INFO:gensim.models.ldamodel:topic #90 (0.010): 0.031*\"bill\" + 0.028*\"house\" + 0.021*\"congress\" + 0.015*\"senate\" + 0.013*\"legislation\" + 0.011*\"committee\" + 0.010*\"reagan\" + 0.009*\"president\" + 0.008*\"measure\" + 0.008*\"vote\"\n"
     ]
    },
    {
     "name": "stderr",
     "output_type": "stream",
     "text": [
      "INFO:gensim.models.ldamodel:topic diff=inf, rho=0.120386\n",
      "INFO:gensim.models.ldamodel:-13.662 per-word bound, 12964.9 perplexity estimate based on a held-out corpus of 2000 documents with 525704 words\n",
      "INFO:gensim.models.ldamodel:PROGRESS: pass 0, at document #140000/164597\n",
      "INFO:gensim.models.ldamodel:merging changes from 2000 documents into a model of 164597 documents\n",
      "INFO:gensim.models.ldamodel:topic #16 (0.010): 0.037*\"art\" + 0.025*\"museum\" + 0.018*\"moore\" + 0.016*\"works\" + 0.013*\"artists\" + 0.012*\"american\" + 0.011*\"display\" + 0.011*\"century\" + 0.010*\"reed\" + 0.010*\"work\"\n",
      "INFO:gensim.models.ldamodel:topic #0 (0.010): 0.067*\"women\" + 0.046*\"abortion\" + 0.020*\"womens\" + 0.019*\"woman\" + 0.015*\"anti\" + 0.014*\"life\" + 0.013*\"clinic\" + 0.012*\"abortions\" + 0.012*\"rights\" + 0.010*\"choice\"\n",
      "INFO:gensim.models.ldamodel:topic #74 (0.010): 0.064*\"court\" + 0.021*\"law\" + 0.020*\"judge\" + 0.018*\"case\" + 0.015*\"federal\" + 0.014*\"state\" + 0.013*\"supreme\" + 0.013*\"ruling\" + 0.012*\"appeals\" + 0.012*\"decision\"\n",
      "INFO:gensim.models.ldamodel:topic #32 (0.010): 0.111*\"percent\" + 0.019*\"survey\" + 0.013*\"poll\" + 0.010*\"found\" + 0.007*\"americans\" + 0.007*\"states\" + 0.007*\"10\" + 0.007*\"likely\" + 0.006*\"average\" + 0.006*\"points\"\n",
      "INFO:gensim.models.ldamodel:topic #24 (0.010): 0.029*\"embassy\" + 0.016*\"foreign\" + 0.013*\"italian\" + 0.013*\"ambassador\" + 0.013*\"official\" + 0.012*\"state\" + 0.011*\"country\" + 0.010*\"travel\" + 0.010*\"jews\" + 0.009*\"leave\"\n",
      "INFO:gensim.models.ldamodel:topic diff=inf, rho=0.119523\n",
      "INFO:gensim.models.ldamodel:PROGRESS: pass 0, at document #142000/164597\n",
      "INFO:gensim.models.ldamodel:merging changes from 2000 documents into a model of 164597 documents\n",
      "INFO:gensim.models.ldamodel:topic #83 (0.010): 0.032*\"campaign\" + 0.029*\"democratic\" + 0.019*\"presidential\" + 0.018*\"election\" + 0.017*\"republican\" + 0.015*\"convention\" + 0.012*\"candidate\" + 0.012*\"democrats\" + 0.012*\"delegates\" + 0.012*\"party\"\n",
      "INFO:gensim.models.ldamodel:topic #24 (0.010): 0.029*\"embassy\" + 0.016*\"foreign\" + 0.012*\"official\" + 0.012*\"italian\" + 0.012*\"ambassador\" + 0.012*\"state\" + 0.011*\"country\" + 0.011*\"jews\" + 0.010*\"travel\" + 0.009*\"leave\"\n",
      "INFO:gensim.models.ldamodel:topic #17 (0.010): 0.027*\"lottery\" + 0.023*\"divorce\" + 0.021*\"sex\" + 0.021*\"marriage\" + 0.020*\"tickets\" + 0.019*\"married\" + 0.017*\"prize\" + 0.017*\"couple\" + 0.017*\"male\" + 0.016*\"couples\"\n",
      "INFO:gensim.models.ldamodel:topic #97 (0.010): 0.035*\"aid\" + 0.029*\"rebels\" + 0.027*\"nicaragua\" + 0.026*\"contras\" + 0.025*\"contra\" + 0.022*\"nicaraguan\" + 0.019*\"honduras\" + 0.019*\"el\" + 0.018*\"sandinista\" + 0.015*\"peace\"\n",
      "INFO:gensim.models.ldamodel:topic #49 (0.010): 0.026*\"years\" + 0.018*\"war\" + 0.017*\"died\" + 0.016*\"world\" + 0.011*\"ago\" + 0.010*\"ii\" + 0.009*\"history\" + 0.008*\"former\" + 0.008*\"born\" + 0.007*\"today\"\n",
      "INFO:gensim.models.ldamodel:topic diff=inf, rho=0.118678\n",
      "INFO:gensim.models.ldamodel:PROGRESS: pass 0, at document #144000/164597\n",
      "INFO:gensim.models.ldamodel:merging changes from 2000 documents into a model of 164597 documents\n",
      "INFO:gensim.models.ldamodel:topic #44 (0.010): 0.048*\"marcos\" + 0.028*\"communist\" + 0.027*\"aquino\" + 0.025*\"poland\" + 0.023*\"polish\" + 0.021*\"philippines\" + 0.016*\"hungary\" + 0.015*\"hungarian\" + 0.013*\"yugoslavia\" + 0.011*\"economic\"\n",
      "INFO:gensim.models.ldamodel:topic #96 (0.010): 0.045*\"party\" + 0.019*\"government\" + 0.016*\"political\" + 0.012*\"minister\" + 0.011*\"opposition\" + 0.011*\"president\" + 0.011*\"new\" + 0.009*\"power\" + 0.009*\"elections\" + 0.009*\"national\"\n",
      "INFO:gensim.models.ldamodel:topic #20 (0.010): 0.060*\"miller\" + 0.052*\"alcohol\" + 0.048*\"carter\" + 0.043*\"beer\" + 0.028*\"drinking\" + 0.022*\"regan\" + 0.019*\"liquor\" + 0.017*\"drink\" + 0.016*\"giuliani\" + 0.014*\"kodak\"\n",
      "INFO:gensim.models.ldamodel:topic #66 (0.010): 0.065*\"percent\" + 0.042*\"million\" + 0.039*\"1\" + 0.028*\"2\" + 0.026*\"billion\" + 0.022*\"3\" + 0.021*\"5\" + 0.020*\"4\" + 0.016*\"6\" + 0.016*\"7\"\n",
      "INFO:gensim.models.ldamodel:topic #59 (0.010): 0.068*\"vietnam\" + 0.031*\"vietnamese\" + 0.027*\"veterans\" + 0.022*\"refugees\" + 0.022*\"war\" + 0.019*\"cambodia\" + 0.017*\"rouge\" + 0.014*\"khmer\" + 0.013*\"thailand\" + 0.012*\"asian\"\n",
      "INFO:gensim.models.ldamodel:topic diff=inf, rho=0.117851\n",
      "INFO:gensim.models.ldamodel:PROGRESS: pass 0, at document #146000/164597\n",
      "INFO:gensim.models.ldamodel:merging changes from 2000 documents into a model of 164597 documents\n",
      "INFO:gensim.models.ldamodel:topic #92 (0.010): 0.019*\"park\" + 0.016*\"land\" + 0.014*\"000\" + 0.013*\"forest\" + 0.012*\"river\" + 0.012*\"miles\" + 0.011*\"acres\" + 0.011*\"area\" + 0.010*\"people\" + 0.009*\"national\"\n",
      "INFO:gensim.models.ldamodel:topic #85 (0.010): 0.042*\"mine\" + 0.034*\"coal\" + 0.019*\"miners\" + 0.018*\"mines\" + 0.016*\"contests\" + 0.016*\"virginia\" + 0.016*\"sudan\" + 0.015*\"campbell\" + 0.010*\"weld\" + 0.010*\"khartoum\"\n",
      "INFO:gensim.models.ldamodel:topic #89 (0.010): 0.045*\"police\" + 0.014*\"two\" + 0.012*\"man\" + 0.010*\"old\" + 0.010*\"found\" + 0.008*\"home\" + 0.008*\"authorities\" + 0.007*\"woman\" + 0.007*\"told\" + 0.007*\"shot\"\n",
      "INFO:gensim.models.ldamodel:topic #55 (0.010): 0.042*\"noriega\" + 0.037*\"panama\" + 0.031*\"military\" + 0.020*\"president\" + 0.017*\"panamanian\" + 0.017*\"government\" + 0.015*\"de\" + 0.015*\"gen\" + 0.013*\"states\" + 0.013*\"united\"\n",
      "INFO:gensim.models.ldamodel:topic #15 (0.010): 0.113*\"soviet\" + 0.028*\"gorbachev\" + 0.025*\"union\" + 0.024*\"moscow\" + 0.024*\"iran\" + 0.021*\"iraq\" + 0.018*\"soviets\" + 0.011*\"iraqi\" + 0.010*\"mikhail\" + 0.010*\"iranian\"\n",
      "INFO:gensim.models.ldamodel:topic diff=inf, rho=0.117041\n",
      "INFO:gensim.models.ldamodel:PROGRESS: pass 0, at document #148000/164597\n",
      "INFO:gensim.models.ldamodel:merging changes from 2000 documents into a model of 164597 documents\n",
      "INFO:gensim.models.ldamodel:topic #23 (0.010): 0.045*\"water\" + 0.027*\"environmental\" + 0.020*\"waste\" + 0.012*\"pollution\" + 0.012*\"epa\" + 0.011*\"air\" + 0.010*\"protection\" + 0.009*\"clean\" + 0.009*\"chemical\" + 0.009*\"environment\"\n",
      "INFO:gensim.models.ldamodel:topic #3 (0.010): 0.039*\"workers\" + 0.028*\"union\" + 0.023*\"company\" + 0.019*\"employees\" + 0.016*\"labor\" + 0.015*\"contract\" + 0.014*\"strike\" + 0.012*\"work\" + 0.011*\"companies\" + 0.011*\"jobs\"\n",
      "INFO:gensim.models.ldamodel:topic #27 (0.010): 0.047*\"children\" + 0.034*\"care\" + 0.026*\"child\" + 0.023*\"health\" + 0.017*\"families\" + 0.014*\"family\" + 0.014*\"homeless\" + 0.011*\"home\" + 0.011*\"parents\" + 0.011*\"people\"\n",
      "INFO:gensim.models.ldamodel:topic #72 (0.010): 0.042*\"cars\" + 0.038*\"car\" + 0.028*\"ford\" + 0.016*\"williams\" + 0.016*\"motor\" + 0.014*\"chrysler\" + 0.014*\"vehicles\" + 0.014*\"auto\" + 0.012*\"trucks\" + 0.011*\"gm\"\n",
      "INFO:gensim.models.ldamodel:topic #88 (0.010): 0.072*\"south\" + 0.060*\"north\" + 0.048*\"korea\" + 0.038*\"korean\" + 0.021*\"olympics\" + 0.020*\"seoul\" + 0.019*\"students\" + 0.018*\"olympic\" + 0.016*\"games\" + 0.015*\"roh\"\n",
      "INFO:gensim.models.ldamodel:topic diff=inf, rho=0.116248\n",
      "INFO:gensim.models.ldamodel:PROGRESS: pass 0, at document #150000/164597\n",
      "INFO:gensim.models.ldamodel:merging changes from 2000 documents into a model of 164597 documents\n",
      "INFO:gensim.models.ldamodel:topic #67 (0.010): 0.040*\"stock\" + 0.033*\"market\" + 0.020*\"index\" + 0.018*\"exchange\" + 0.017*\"stocks\" + 0.015*\"points\" + 0.014*\"trading\" + 0.014*\"jones\" + 0.013*\"issues\" + 0.013*\"2\"\n",
      "INFO:gensim.models.ldamodel:topic #38 (0.010): 0.026*\"offer\" + 0.020*\"company\" + 0.016*\"share\" + 0.014*\"takeover\" + 0.013*\"new\" + 0.013*\"stock\" + 0.013*\"bid\" + 0.012*\"million\" + 0.011*\"shares\" + 0.010*\"eastern\"\n",
      "INFO:gensim.models.ldamodel:topic #41 (0.010): 0.094*\"drug\" + 0.032*\"drugs\" + 0.027*\"cocaine\" + 0.013*\"police\" + 0.012*\"enforcement\" + 0.010*\"marijuana\" + 0.010*\"customs\" + 0.010*\"states\" + 0.009*\"agents\" + 0.009*\"arrested\"\n",
      "INFO:gensim.models.ldamodel:topic #82 (0.010): 0.078*\"newspaper\" + 0.041*\"paper\" + 0.032*\"newspapers\" + 0.029*\"daily\" + 0.028*\"magazine\" + 0.018*\"news\" + 0.017*\"press\" + 0.015*\"published\" + 0.013*\"publishing\" + 0.013*\"papers\"\n",
      "INFO:gensim.models.ldamodel:topic #90 (0.010): 0.029*\"house\" + 0.029*\"bill\" + 0.022*\"congress\" + 0.015*\"senate\" + 0.013*\"legislation\" + 0.011*\"committee\" + 0.010*\"reagan\" + 0.009*\"vote\" + 0.009*\"president\" + 0.008*\"measure\"\n",
      "INFO:gensim.models.ldamodel:topic diff=inf, rho=0.115470\n",
      "INFO:gensim.models.ldamodel:PROGRESS: pass 0, at document #152000/164597\n",
      "INFO:gensim.models.ldamodel:merging changes from 2000 documents into a model of 164597 documents\n"
     ]
    },
    {
     "name": "stderr",
     "output_type": "stream",
     "text": [
      "INFO:gensim.models.ldamodel:topic #52 (0.010): 0.062*\"christmas\" + 0.049*\"game\" + 0.033*\"holiday\" + 0.029*\"card\" + 0.025*\"santa\" + 0.022*\"cards\" + 0.019*\"tree\" + 0.015*\"griffin\" + 0.013*\"resorts\" + 0.013*\"thanksgiving\"\n",
      "INFO:gensim.models.ldamodel:topic #20 (0.010): 0.059*\"miller\" + 0.052*\"alcohol\" + 0.041*\"carter\" + 0.040*\"beer\" + 0.029*\"drinking\" + 0.021*\"liquor\" + 0.018*\"drink\" + 0.016*\"kodak\" + 0.016*\"regan\" + 0.014*\"owens\"\n",
      "INFO:gensim.models.ldamodel:topic #36 (0.010): 0.121*\"west\" + 0.056*\"german\" + 0.048*\"germany\" + 0.037*\"east\" + 0.034*\"south\" + 0.030*\"africa\" + 0.027*\"angola\" + 0.018*\"independence\" + 0.015*\"berlin\" + 0.014*\"cuban\"\n",
      "INFO:gensim.models.ldamodel:topic #26 (0.010): 0.076*\"million\" + 0.029*\"1\" + 0.018*\"2\" + 0.015*\"auction\" + 0.012*\"guild\" + 0.011*\"weeks\" + 0.011*\"3\" + 0.011*\"5\" + 0.010*\"disney\" + 0.010*\"screen\"\n",
      "INFO:gensim.models.ldamodel:topic #97 (0.010): 0.035*\"aid\" + 0.029*\"rebels\" + 0.027*\"nicaragua\" + 0.025*\"contras\" + 0.024*\"contra\" + 0.022*\"nicaraguan\" + 0.019*\"honduras\" + 0.019*\"el\" + 0.018*\"sandinista\" + 0.016*\"government\"\n",
      "INFO:gensim.models.ldamodel:topic diff=inf, rho=0.114708\n",
      "INFO:gensim.models.ldamodel:PROGRESS: pass 0, at document #154000/164597\n",
      "INFO:gensim.models.ldamodel:merging changes from 2000 documents into a model of 164597 documents\n",
      "INFO:gensim.models.ldamodel:topic #98 (0.010): 0.054*\"1\" + 0.049*\"dollar\" + 0.030*\"yen\" + 0.026*\"late\" + 0.025*\"gold\" + 0.014*\"bid\" + 0.014*\"ounce\" + 0.013*\"trading\" + 0.013*\"london\" + 0.012*\"6\"\n",
      "INFO:gensim.models.ldamodel:topic #61 (0.010): 0.020*\"new\" + 0.015*\"memorial\" + 0.010*\"australia\" + 0.010*\"harris\" + 0.009*\"ferry\" + 0.009*\"australian\" + 0.008*\"collision\" + 0.007*\"pan\" + 0.007*\"parker\" + 0.007*\"scotland\"\n",
      "INFO:gensim.models.ldamodel:topic #2 (0.010): 0.034*\"gulf\" + 0.030*\"ship\" + 0.028*\"coast\" + 0.027*\"guard\" + 0.022*\"navy\" + 0.021*\"ships\" + 0.020*\"sea\" + 0.019*\"boat\" + 0.017*\"island\" + 0.012*\"persian\"\n",
      "INFO:gensim.models.ldamodel:topic #47 (0.010): 0.130*\"quayle\" + 0.046*\"club\" + 0.040*\"dan\" + 0.028*\"indiana\" + 0.025*\"mandela\" + 0.021*\"nixon\" + 0.019*\"nelson\" + 0.018*\"quayles\" + 0.013*\"clubs\" + 0.013*\"anc\"\n",
      "INFO:gensim.models.ldamodel:topic #33 (0.010): 0.070*\"jackson\" + 0.048*\"city\" + 0.029*\"black\" + 0.019*\"mayor\" + 0.015*\"york\" + 0.015*\"new\" + 0.015*\"county\" + 0.013*\"atlanta\" + 0.013*\"white\" + 0.011*\"jesse\"\n",
      "INFO:gensim.models.ldamodel:topic diff=inf, rho=0.113961\n",
      "INFO:gensim.models.ldamodel:PROGRESS: pass 0, at document #156000/164597\n",
      "INFO:gensim.models.ldamodel:merging changes from 2000 documents into a model of 164597 documents\n",
      "INFO:gensim.models.ldamodel:topic #28 (0.010): 0.032*\"library\" + 0.028*\"churchs\" + 0.022*\"plaintiffs\" + 0.021*\"threats\" + 0.018*\"trustee\" + 0.015*\"murray\" + 0.015*\"stephens\" + 0.014*\"decree\" + 0.012*\"birmingham\" + 0.011*\"libraries\"\n",
      "INFO:gensim.models.ldamodel:topic #84 (0.010): 0.030*\"news\" + 0.026*\"new\" + 0.025*\"york\" + 0.023*\"times\" + 0.020*\"press\" + 0.017*\"ad\" + 0.016*\"newspaper\" + 0.015*\"editor\" + 0.014*\"post\" + 0.013*\"media\"\n",
      "INFO:gensim.models.ldamodel:topic #85 (0.010): 0.049*\"mine\" + 0.031*\"coal\" + 0.021*\"miners\" + 0.019*\"mines\" + 0.016*\"virginia\" + 0.015*\"campbell\" + 0.015*\"sudan\" + 0.015*\"contests\" + 0.014*\"ge\" + 0.013*\"platforms\"\n",
      "INFO:gensim.models.ldamodel:topic #70 (0.010): 0.062*\"japanese\" + 0.051*\"japan\" + 0.029*\"television\" + 0.028*\"cbs\" + 0.028*\"news\" + 0.024*\"network\" + 0.020*\"nbc\" + 0.017*\"japans\" + 0.015*\"prime\" + 0.013*\"tokyo\"\n",
      "INFO:gensim.models.ldamodel:topic #53 (0.010): 0.051*\"steel\" + 0.035*\"tobacco\" + 0.027*\"smoking\" + 0.019*\"cigarette\" + 0.019*\"pittsburgh\" + 0.018*\"cigarettes\" + 0.017*\"transplant\" + 0.017*\"liver\" + 0.015*\"brazil\" + 0.012*\"reynolds\"\n",
      "INFO:gensim.models.ldamodel:topic diff=inf, rho=0.113228\n",
      "INFO:gensim.models.ldamodel:PROGRESS: pass 0, at document #158000/164597\n",
      "INFO:gensim.models.ldamodel:merging changes from 2000 documents into a model of 164597 documents\n",
      "INFO:gensim.models.ldamodel:topic #48 (0.010): 0.094*\"school\" + 0.057*\"students\" + 0.044*\"university\" + 0.028*\"schools\" + 0.028*\"education\" + 0.026*\"college\" + 0.022*\"student\" + 0.020*\"high\" + 0.015*\"teachers\" + 0.010*\"campus\"\n",
      "INFO:gensim.models.ldamodel:topic #18 (0.010): 0.078*\"church\" + 0.029*\"catholic\" + 0.025*\"religious\" + 0.019*\"pope\" + 0.019*\"roman\" + 0.015*\"rev\" + 0.014*\"jewish\" + 0.014*\"john\" + 0.013*\"god\" + 0.012*\"paul\"\n",
      "INFO:gensim.models.ldamodel:topic #65 (0.010): 0.092*\"british\" + 0.059*\"london\" + 0.034*\"britain\" + 0.024*\"pounds\" + 0.022*\"merger\" + 0.022*\"share\" + 0.018*\"shares\" + 0.016*\"britains\" + 0.016*\"times\" + 0.014*\"133\"\n",
      "INFO:gensim.models.ldamodel:topic #5 (0.010): 0.036*\"canadian\" + 0.035*\"hotel\" + 0.032*\"canada\" + 0.028*\"thatcher\" + 0.026*\"greek\" + 0.021*\"immigration\" + 0.015*\"greece\" + 0.014*\"lyng\" + 0.014*\"ins\" + 0.013*\"aliens\"\n",
      "INFO:gensim.models.ldamodel:topic #3 (0.010): 0.040*\"workers\" + 0.030*\"union\" + 0.023*\"company\" + 0.019*\"employees\" + 0.016*\"contract\" + 0.015*\"strike\" + 0.015*\"labor\" + 0.013*\"work\" + 0.010*\"jobs\" + 0.010*\"companies\"\n",
      "INFO:gensim.models.ldamodel:topic diff=inf, rho=0.112509\n",
      "INFO:gensim.models.ldamodel:-13.691 per-word bound, 13224.0 perplexity estimate based on a held-out corpus of 2000 documents with 512646 words\n",
      "INFO:gensim.models.ldamodel:PROGRESS: pass 0, at document #160000/164597\n",
      "INFO:gensim.models.ldamodel:merging changes from 2000 documents into a model of 164597 documents\n",
      "INFO:gensim.models.ldamodel:topic #29 (0.010): 0.063*\"aids\" + 0.025*\"health\" + 0.025*\"disease\" + 0.023*\"virus\" + 0.017*\"cases\" + 0.016*\"women\" + 0.012*\"people\" + 0.009*\"immune\" + 0.009*\"infected\" + 0.008*\"blood\"\n",
      "INFO:gensim.models.ldamodel:topic #39 (0.010): 0.102*\"book\" + 0.043*\"books\" + 0.023*\"dog\" + 0.018*\"thompson\" + 0.016*\"turner\" + 0.014*\"published\" + 0.013*\"dogs\" + 0.013*\"author\" + 0.012*\"kelly\" + 0.010*\"wrote\"\n",
      "INFO:gensim.models.ldamodel:topic #8 (0.010): 0.048*\"brown\" + 0.031*\"davis\" + 0.024*\"animals\" + 0.023*\"columbia\" + 0.019*\"animal\" + 0.018*\"whales\" + 0.014*\"mca\" + 0.014*\"warner\" + 0.012*\"love\" + 0.011*\"rca\"\n",
      "INFO:gensim.models.ldamodel:topic #78 (0.010): 0.234*\"dukakis\" + 0.088*\"state\" + 0.044*\"governor\" + 0.043*\"massachusetts\" + 0.040*\"michael\" + 0.040*\"gov\" + 0.027*\"states\" + 0.018*\"governors\" + 0.014*\"boston\" + 0.011*\"campaign\"\n",
      "INFO:gensim.models.ldamodel:topic #31 (0.010): 0.011*\"old\" + 0.008*\"years\" + 0.008*\"home\" + 0.007*\"says\" + 0.007*\"time\" + 0.007*\"back\" + 0.007*\"people\" + 0.006*\"family\" + 0.006*\"life\" + 0.005*\"im\"\n",
      "INFO:gensim.models.ldamodel:topic diff=inf, rho=0.111803\n",
      "INFO:gensim.models.ldamodel:PROGRESS: pass 0, at document #162000/164597\n",
      "INFO:gensim.models.ldamodel:merging changes from 2000 documents into a model of 164597 documents\n",
      "INFO:gensim.models.ldamodel:topic #84 (0.010): 0.030*\"news\" + 0.026*\"new\" + 0.025*\"york\" + 0.023*\"times\" + 0.020*\"press\" + 0.018*\"ad\" + 0.016*\"newspaper\" + 0.016*\"editor\" + 0.015*\"media\" + 0.014*\"post\"\n",
      "INFO:gensim.models.ldamodel:topic #55 (0.010): 0.048*\"noriega\" + 0.037*\"panama\" + 0.029*\"military\" + 0.020*\"president\" + 0.017*\"panamanian\" + 0.016*\"government\" + 0.014*\"gen\" + 0.013*\"united\" + 0.013*\"states\" + 0.013*\"manuel\"\n",
      "INFO:gensim.models.ldamodel:topic #60 (0.010): 0.071*\"housing\" + 0.064*\"project\" + 0.053*\"construction\" + 0.028*\"kemp\" + 0.028*\"projects\" + 0.022*\"development\" + 0.022*\"building\" + 0.013*\"hudson\" + 0.013*\"contractor\" + 0.011*\"argentina\"\n",
      "INFO:gensim.models.ldamodel:topic #15 (0.010): 0.114*\"soviet\" + 0.028*\"gorbachev\" + 0.025*\"moscow\" + 0.024*\"union\" + 0.022*\"iran\" + 0.019*\"iraq\" + 0.018*\"soviets\" + 0.011*\"iraqi\" + 0.011*\"iranian\" + 0.010*\"mikhail\"\n",
      "INFO:gensim.models.ldamodel:topic #63 (0.010): 0.102*\"smith\" + 0.082*\"y\" + 0.079*\"n\" + 0.060*\"yes\" + 0.052*\"x\" + 0.026*\"lewis\" + 0.020*\"democrats\" + 0.020*\"republicans\" + 0.020*\"bryan\" + 0.014*\"hawkins\"\n",
      "INFO:gensim.models.ldamodel:topic diff=inf, rho=0.111111\n",
      "INFO:gensim.models.ldamodel:PROGRESS: pass 0, at document #164000/164597\n",
      "INFO:gensim.models.ldamodel:merging changes from 2000 documents into a model of 164597 documents\n",
      "INFO:gensim.models.ldamodel:topic #9 (0.010): 0.029*\"space\" + 0.013*\"shuttle\" + 0.011*\"launch\" + 0.007*\"two\" + 0.007*\"nasa\" + 0.007*\"feet\" + 0.007*\"mission\" + 0.006*\"earth\" + 0.006*\"center\" + 0.006*\"satellite\"\n",
      "INFO:gensim.models.ldamodel:topic #19 (0.010): 0.117*\"oil\" + 0.028*\"gas\" + 0.015*\"barrels\" + 0.014*\"petroleum\" + 0.012*\"alaska\" + 0.012*\"pipeline\" + 0.010*\"fish\" + 0.010*\"energy\" + 0.010*\"natural\" + 0.008*\"drilling\"\n"
     ]
    },
    {
     "name": "stderr",
     "output_type": "stream",
     "text": [
      "INFO:gensim.models.ldamodel:topic #21 (0.010): 0.028*\"jean\" + 0.025*\"haiti\" + 0.021*\"orchestra\" + 0.020*\"seattle\" + 0.019*\"namphy\" + 0.019*\"prince\" + 0.017*\"paul\" + 0.017*\"symphony\" + 0.015*\"dominican\" + 0.014*\"republic\"\n",
      "INFO:gensim.models.ldamodel:topic #51 (0.010): 0.071*\"clark\" + 0.035*\"orange\" + 0.032*\"evans\" + 0.028*\"fruit\" + 0.023*\"myerson\" + 0.022*\"roper\" + 0.021*\"juice\" + 0.021*\"apple\" + 0.018*\"boxes\" + 0.017*\"phyllis\"\n",
      "INFO:gensim.models.ldamodel:topic #88 (0.010): 0.070*\"south\" + 0.058*\"north\" + 0.043*\"korea\" + 0.039*\"korean\" + 0.020*\"seoul\" + 0.020*\"students\" + 0.017*\"olympics\" + 0.017*\"roh\" + 0.015*\"olympic\" + 0.015*\"kim\"\n",
      "INFO:gensim.models.ldamodel:topic diff=inf, rho=0.110432\n",
      "INFO:gensim.models.ldamodel:-13.439 per-word bound, 11103.8 perplexity estimate based on a held-out corpus of 597 documents with 152399 words\n",
      "INFO:gensim.models.ldamodel:PROGRESS: pass 0, at document #164597/164597\n",
      "INFO:gensim.models.ldamodel:merging changes from 597 documents into a model of 164597 documents\n",
      "INFO:gensim.models.ldamodel:topic #72 (0.010): 0.039*\"cars\" + 0.039*\"car\" + 0.026*\"ford\" + 0.015*\"williams\" + 0.015*\"auto\" + 0.015*\"chrysler\" + 0.015*\"motor\" + 0.014*\"vehicles\" + 0.013*\"trucks\" + 0.012*\"gm\"\n",
      "INFO:gensim.models.ldamodel:topic #64 (0.010): 0.030*\"bomb\" + 0.023*\"attack\" + 0.022*\"british\" + 0.016*\"northern\" + 0.015*\"killed\" + 0.015*\"explosion\" + 0.015*\"ira\" + 0.014*\"irish\" + 0.014*\"ireland\" + 0.014*\"blast\"\n",
      "INFO:gensim.models.ldamodel:topic #11 (0.010): 0.015*\"investigation\" + 0.011*\"information\" + 0.010*\"meese\" + 0.009*\"department\" + 0.008*\"officials\" + 0.008*\"office\" + 0.008*\"documents\" + 0.008*\"attorney\" + 0.008*\"told\" + 0.007*\"fbi\"\n",
      "INFO:gensim.models.ldamodel:topic #83 (0.010): 0.030*\"campaign\" + 0.027*\"democratic\" + 0.021*\"republican\" + 0.020*\"election\" + 0.018*\"presidential\" + 0.013*\"convention\" + 0.012*\"voters\" + 0.012*\"gop\" + 0.012*\"democrats\" + 0.012*\"candidate\"\n",
      "INFO:gensim.models.ldamodel:topic #60 (0.010): 0.071*\"housing\" + 0.059*\"project\" + 0.052*\"construction\" + 0.029*\"kemp\" + 0.027*\"projects\" + 0.024*\"development\" + 0.024*\"building\" + 0.014*\"hudson\" + 0.013*\"contractor\" + 0.012*\"urban\"\n",
      "INFO:gensim.models.ldamodel:topic diff=inf, rho=0.109764\n",
      "INFO:gensim.utils:saving LdaState object under models/lda_train100.state, separately None\n",
      "INFO:gensim.utils:storing np array 'sstats' to models/lda_train100.state.sstats.npy\n",
      "INFO:gensim.utils:saved models/lda_train100.state\n",
      "INFO:gensim.utils:saving LdaModel object under models/lda_train100, separately ['expElogbeta', 'sstats']\n",
      "INFO:gensim.utils:not storing attribute dispatcher\n",
      "INFO:gensim.utils:storing np array 'expElogbeta' to models/lda_train100.expElogbeta.npy\n",
      "INFO:gensim.utils:not storing attribute id2word\n",
      "INFO:gensim.utils:not storing attribute state\n",
      "INFO:gensim.utils:saved models/lda_train100\n"
     ]
    }
   ],
   "source": [
    "##### train transformation model for LDA\n",
    "if os.path.exists('models/lda_train100'):\n",
    "    lda_train = gensim.models.LdaModel.load('models/lda_train100') #load model from disk\n",
    "    print('Using already saved LDA Model')\n",
    "else:\n",
    "#    lda_train = gensim.models.LdaModel(corpus=corpus, id2word=dictionary_corpus, num_topics=100)\n",
    "    lda_train = gensim.models.LdaModel(corpus=corpus, id2word=dictionary_corpus, num_topics=100, update_every=0, passes=20, distributed=True)\n",
    "    lda_train.save('models/lda_train100')  #save model to disk"
   ]
  },
  {
   "cell_type": "code",
   "execution_count": 33,
   "metadata": {},
   "outputs": [
    {
     "name": "stderr",
     "output_type": "stream",
     "text": [
      "INFO:gensim.models.ldamodel:topic #59 (0.010): 0.072*\"vietnam\" + 0.029*\"veterans\" + 0.028*\"vietnamese\" + 0.025*\"war\" + 0.022*\"cambodia\" + 0.020*\"refugees\" + 0.016*\"rouge\" + 0.014*\"khmer\" + 0.013*\"thailand\" + 0.012*\"cambodian\"\n",
      "INFO:gensim.models.ldamodel:topic #94 (0.010): 0.058*\"defense\" + 0.053*\"military\" + 0.037*\"force\" + 0.037*\"air\" + 0.031*\"pentagon\" + 0.021*\"base\" + 0.019*\"army\" + 0.015*\"navy\" + 0.013*\"missile\" + 0.012*\"bases\"\n",
      "INFO:gensim.models.ldamodel:topic #68 (0.010): 0.039*\"medical\" + 0.036*\"hospital\" + 0.028*\"doctors\" + 0.022*\"patients\" + 0.020*\"blood\" + 0.019*\"tests\" + 0.018*\"test\" + 0.018*\"heart\" + 0.017*\"dr\" + 0.016*\"testing\"\n",
      "INFO:gensim.models.ldamodel:topic #48 (0.010): 0.093*\"school\" + 0.054*\"students\" + 0.041*\"university\" + 0.029*\"schools\" + 0.026*\"education\" + 0.024*\"college\" + 0.022*\"student\" + 0.020*\"high\" + 0.016*\"teachers\" + 0.011*\"teacher\"\n",
      "INFO:gensim.models.ldamodel:topic #57 (0.010): 0.106*\"bank\" + 0.036*\"loan\" + 0.031*\"savings\" + 0.030*\"federal\" + 0.030*\"texas\" + 0.029*\"board\" + 0.024*\"s\" + 0.024*\"banks\" + 0.020*\"institutions\" + 0.018*\"banking\"\n"
     ]
    },
    {
     "data": {
      "text/plain": [
       "[(59,\n",
       "  '0.072*\"vietnam\" + 0.029*\"veterans\" + 0.028*\"vietnamese\" + 0.025*\"war\" + 0.022*\"cambodia\" + 0.020*\"refugees\" + 0.016*\"rouge\" + 0.014*\"khmer\" + 0.013*\"thailand\" + 0.012*\"cambodian\"'),\n",
       " (94,\n",
       "  '0.058*\"defense\" + 0.053*\"military\" + 0.037*\"force\" + 0.037*\"air\" + 0.031*\"pentagon\" + 0.021*\"base\" + 0.019*\"army\" + 0.015*\"navy\" + 0.013*\"missile\" + 0.012*\"bases\"'),\n",
       " (68,\n",
       "  '0.039*\"medical\" + 0.036*\"hospital\" + 0.028*\"doctors\" + 0.022*\"patients\" + 0.020*\"blood\" + 0.019*\"tests\" + 0.018*\"test\" + 0.018*\"heart\" + 0.017*\"dr\" + 0.016*\"testing\"'),\n",
       " (48,\n",
       "  '0.093*\"school\" + 0.054*\"students\" + 0.041*\"university\" + 0.029*\"schools\" + 0.026*\"education\" + 0.024*\"college\" + 0.022*\"student\" + 0.020*\"high\" + 0.016*\"teachers\" + 0.011*\"teacher\"'),\n",
       " (57,\n",
       "  '0.106*\"bank\" + 0.036*\"loan\" + 0.031*\"savings\" + 0.030*\"federal\" + 0.030*\"texas\" + 0.029*\"board\" + 0.024*\"s\" + 0.024*\"banks\" + 0.020*\"institutions\" + 0.018*\"banking\"')]"
      ]
     },
     "execution_count": 33,
     "metadata": {},
     "output_type": "execute_result"
    }
   ],
   "source": [
    "lda_train.print_topics(5)"
   ]
  },
  {
   "cell_type": "code",
   "execution_count": 34,
   "metadata": {},
   "outputs": [],
   "source": [
    "DOC_lda = lda_train[corpus]\n",
    "QUERY_lda = lda_train[query_bow]"
   ]
  },
  {
   "cell_type": "code",
   "execution_count": 35,
   "metadata": {},
   "outputs": [],
   "source": [
    "#create query and document representation\n",
    "'''\n",
    "THIS TAKES A LOOOOOOOOOOOOOOOOOOOOOOOOOOOOOOOOOOOOOOOOOT OF TIME TO RUN/EXECUTE!\n",
    "'''\n",
    "document_representation = {}\n",
    "lda_cosine_similarity = {}\n",
    "\n",
    "for doc_lda_term, doc_lda_id in (zip(DOC_lda, range(index.document_base(), index.maximum_document()) )):\n",
    "    document_representation[doc_lda_id] = doc_lda_term"
   ]
  },
  {
   "cell_type": "code",
   "execution_count": 36,
   "metadata": {},
   "outputs": [],
   "source": [
    "for query_lda_id, query_lda_term in (zip(tokenized_queries.items(), QUERY_lda)):\n",
    "    lda_cosine_similarity[query_lda_id[0]] = []\n",
    "    query_lda_representation = convert2vec(query_lda_term)\n",
    "    \n",
    "    for value in top1000_tfidf[query_lda_id[0]]:\n",
    "#         print(value,'****---****' ,top1000_tfidf[query_lsi_id[0]])\n",
    "        d = document_representation[value[2]]\n",
    "        document_lda_representation = convert2vec(d)\n",
    "        lda_cosine_similarity[query_lda_id[0]].append((\n",
    "            cosine_similarity(query_lda_representation.reshape(1,-1), document_lda_representation.reshape(1, -1) ),\n",
    "            index.document(value[2])[0]))"
   ]
  },
  {
   "cell_type": "code",
   "execution_count": 37,
   "metadata": {},
   "outputs": [],
   "source": [
    "#Create a run file for the LDA model\n",
    "write_run(model_name='lda_cosine',\n",
    "          data=lda_cosine_similarity,\n",
    "          out_f=open('models/lda_cosine_tfidf.run', 'w'),\n",
    "          max_objects_per_query=1000)"
   ]
  },
  {
   "cell_type": "code",
   "execution_count": 58,
   "metadata": {},
   "outputs": [
    {
     "name": "stdout",
     "output_type": "stream",
     "text": [
      "{'lda_cosine_tfidf': ['lda_cosine_tfidf'],\n",
      " 'lsi_cosine_tfidf': ['lsi_cosine_tfidf']}\n"
     ]
    }
   ],
   "source": [
    "def parse_results(results_file):\n",
    "    results_lines = [l.strip('\\n') for l in open(results_file, 'r').readlines()]\n",
    "    eval_measure = None\n",
    "    results_by_scoring = defaultdict(lambda: defaultdict(dict))\n",
    "    results_by_eval = defaultdict(lambda: defaultdict(dict))\n",
    "    means = defaultdict(lambda: defaultdict(float))\n",
    "    \n",
    "    for line in results_lines:\n",
    "        if line.startswith('MODEL:'):\n",
    "            scoring_method = line.split(': ')[1]\n",
    "            continue\n",
    "        else:\n",
    "            eval_measure, query, result = line.split()\n",
    "            if query == 'all':\n",
    "                means[eval_measure][scoring_method] = result\n",
    "            else:\n",
    "                results_by_scoring[scoring_method][eval_measure][int(query)] = float(result)\n",
    "                \n",
    "    for scoring_method in results_by_scoring.keys():\n",
    "        for eval_measure in results_by_scoring[scoring_method].keys():\n",
    "            for query, result in results_by_scoring[scoring_method][eval_measure].items():\n",
    "                results_by_eval[eval_measure][scoring_method][query] = float(result)\n",
    "\n",
    "    return means, results_by_scoring, results_by_eval\n",
    "    \n",
    "means, scoring_dict, eval_dict = parse_results('results_validation.txt')\n",
    "\n",
    "language_models = {\n",
    "    'lsi_cosine_tfidf' : [setting for setting in list(means['ndcg_cut_10'])\n",
    "                   if setting.startswith('lsi_cosine_tfidf')],\n",
    "    'lda_cosine_tfidf' : [setting for setting in list(means['ndcg_cut_10'])\n",
    "               if setting.startswith('lda_cosine_tfidf')]\n",
    "#     'absolute_discounting' : [setting for setting in list(means['ndcg_cut_10']) \n",
    "#                               if setting.startswith('absolute_discounting')],\n",
    "#     'dirichlet' : [setting for setting in list(means['ndcg_cut_10']) \n",
    "#                    if setting.startswith('dirichlet')],\n",
    "#     'jelinek_mercer' : [setting for setting in list(means['ndcg_cut_10']) \n",
    "#                         if setting.startswith('jelinek_mercer')],\n",
    "    #'plm500' : [setting for setting in list(means['ndcg_cut_10']) \n",
    "    #                    if setting.startswith('plm500')],\n",
    "    #'plm1500' : [setting for setting in list(means['ndcg_cut_10']) \n",
    "    #                    if setting.startswith('plm1500')]\n",
    "}\n",
    "\n",
    "pprint(language_models)"
   ]
  },
  {
   "cell_type": "code",
   "execution_count": 59,
   "metadata": {},
   "outputs": [
    {
     "data": {
      "text/html": [
       "<div>\n",
       "<style scoped>\n",
       "    .dataframe tbody tr th:only-of-type {\n",
       "        vertical-align: middle;\n",
       "    }\n",
       "\n",
       "    .dataframe tbody tr th {\n",
       "        vertical-align: top;\n",
       "    }\n",
       "\n",
       "    .dataframe thead th {\n",
       "        text-align: right;\n",
       "    }\n",
       "</style>\n",
       "<table border=\"1\" class=\"dataframe\">\n",
       "  <thead>\n",
       "    <tr style=\"text-align: right;\">\n",
       "      <th></th>\n",
       "      <th>P_5</th>\n",
       "      <th>map_cut_1000</th>\n",
       "      <th>ndcg_cut_10</th>\n",
       "      <th>recall_1000</th>\n",
       "    </tr>\n",
       "  </thead>\n",
       "  <tbody>\n",
       "    <tr>\n",
       "      <th>lda_cosine_tfidf</th>\n",
       "      <td>0.0533</td>\n",
       "      <td>0.0327</td>\n",
       "      <td>0.0506</td>\n",
       "      <td>0.1662</td>\n",
       "    </tr>\n",
       "    <tr>\n",
       "      <th>lsi_cosine_tfidf</th>\n",
       "      <td>0.0533</td>\n",
       "      <td>0.0327</td>\n",
       "      <td>0.0506</td>\n",
       "      <td>0.1662</td>\n",
       "    </tr>\n",
       "  </tbody>\n",
       "</table>\n",
       "</div>"
      ],
      "text/plain": [
       "                     P_5 map_cut_1000 ndcg_cut_10 recall_1000\n",
       "lda_cosine_tfidf  0.0533       0.0327      0.0506      0.1662\n",
       "lsi_cosine_tfidf  0.0533       0.0327      0.0506      0.1662"
      ]
     },
     "execution_count": 59,
     "metadata": {},
     "output_type": "execute_result"
    }
   ],
   "source": [
    "means_df = pd.DataFrame.from_dict(means)\n",
    "means_df"
   ]
  },
  {
   "cell_type": "code",
   "execution_count": null,
   "metadata": {},
   "outputs": [],
   "source": [
    "#i wonder why both lsi and lda have identical values o.o"
   ]
  },
  {
   "cell_type": "code",
   "execution_count": 63,
   "metadata": {},
   "outputs": [
    {
     "data": {
      "image/png": "[encoded data removed]",
      "text/plain": [
       "<matplotlib.figure.Figure at 0x7fb20076b0b8>"
      ]
     },
     "metadata": {},
     "output_type": "display_data"
    },
    {
     "data": {
      "image/png": "[encoded data removed]",
      "text/plain": [
       "<matplotlib.figure.Figure at 0x7fb200c02fd0>"
      ]
     },
     "metadata": {},
     "output_type": "display_data"
    }
   ],
   "source": [
    "for model in language_models.keys():\n",
    "    dicts = { setting : eval_dict['recall_1000'][setting] for setting in language_models[model] }\n",
    "    ndcg_df = pd.DataFrame.from_dict(dicts) \n",
    "    ndcg_df.plot.bar(figsize=(10,5))\n",
    "    plt.title(model + ' recall')\n",
    "    plt.show()\n",
    "    ndcg_df"
   ]
  },
  {
   "cell_type": "code",
   "execution_count": 89,
   "metadata": {},
   "outputs": [],
   "source": [
    "for k, v in lsi_cosine_similarity.items():\n",
    "    lsi_cosine_array = [0.0]*len(v)\n",
    "    i=0\n",
    "    for val in v:\n",
    "        #store the scores of lsi_cosine in an array for significance testing\n",
    "        lsi_cosine_array[i] = val[0][0][0]\n",
    "        i+=1"
   ]
  },
  {
   "cell_type": "code",
   "execution_count": 93,
   "metadata": {},
   "outputs": [],
   "source": [
    "#not sure if the testing is correct. will discuss it with you guys"
   ]
  },
  {
   "cell_type": "code",
   "execution_count": 91,
   "metadata": {},
   "outputs": [],
   "source": [
    "for k, v in lda_cosine_similarity.items():\n",
    "    lda_cosine_array = [0.0]*len(v)\n",
    "    i=0\n",
    "    for val in v:\n",
    "        #store the scores of lsi_cosine in an array for significance testing\n",
    "        lda_cosine_array[i] = val[0][0][0]\n",
    "        i+=1"
   ]
  },
  {
   "cell_type": "code",
   "execution_count": 92,
   "metadata": {},
   "outputs": [
    {
     "data": {
      "text/plain": [
       "Ttest_relResult(statistic=0.36841071313803836, pvalue=0.7126450630176855)"
      ]
     },
     "execution_count": 92,
     "metadata": {},
     "output_type": "execute_result"
    }
   ],
   "source": [
    "stats.ttest_rel(lsi_cosine_array,lda_cosine_array)"
   ]
  },
  {
   "cell_type": "markdown",
   "metadata": {},
   "source": [
    "### Task 3:  Word embeddings for ranking [20 points] (open-ended) ###\n",
    "\n",
    "First create word embeddings on the corpus we provided using [word2vec](http://arxiv.org/abs/1411.2738) -- [gensim implementation](https://radimrehurek.com/gensim/models/word2vec.html). You should extract the indexed documents using pyndri and provide them to gensim for training a model (see example [here](https://github.com/nickvosk/pyndri/blob/master/examples/word2vec.py)).\n",
    "   \n",
    "This is an open-ended task. It is left up you to decide how you will combine word embeddings to derive query and document representations. Note that since we provide the implementation for training word2vec, you will be graded based on your creativity on combining word embeddings for building query and document representations.\n",
    "\n",
    "Note: If you want to experiment with pre-trained word embeddings on a different corpus, you can use the word embeddings we provide alongside the assignment (./data/reduced_vectors_google.txt.tar.gz). These are the [google word2vec word embeddings](https://code.google.com/archive/p/word2vec/), reduced to only the words that appear in the document collection we use in this assignment."
   ]
  },
  {
   "cell_type": "markdown",
   "metadata": {},
   "source": [
    "#### WORD2VEC"
   ]
  },
  {
   "cell_type": "code",
   "execution_count": 41,
   "metadata": {},
   "outputs": [
    {
     "name": "stderr",
     "output_type": "stream",
     "text": [
      "INFO:root:Created variables\n"
     ]
    }
   ],
   "source": [
    "#creating names, constants and files\n",
    "word2vec_file = 'word2vec_model.bin'\n",
    "doc2vec_file = 'doc2vec_model.doc2vec'\n",
    "\n",
    "corpus_file = 'pyndri_corpus.mm'\n",
    "dict_file='corpdict.dict'\n",
    "\n",
    "tfidf_model_file = 'tfidf_model.model'\n",
    "tfidf_corpus_file = 'tfidf_corpus.mm'\n",
    "\n",
    "lsi_model_file = 'lsi_model.model'\n",
    "lsi_corpus_file = 'lsi_corpus.mm'\n",
    "\n",
    "lda_model_file = 'lda_model.model'\n",
    "lda_corpus_file = 'lda_corpus.mm'\n",
    "\n",
    "LSI_SHAPE = 64\n",
    "LDA_SHAPE = 32\n",
    "NN_LAYERS = 32\n",
    "\n",
    "AVAILABLE_CORES = multiprocessing.cpu_count()\n",
    "\n",
    "logging.info(\"Created variables\")"
   ]
  },
  {
   "cell_type": "code",
   "execution_count": 42,
   "metadata": {},
   "outputs": [
    {
     "name": "stderr",
     "output_type": "stream",
     "text": [
      "INFO:root:Initializing word2vec.\n",
      "INFO:gensim.models.keyedvectors:loading projection weights from word2vec_model.bin\n",
      "INFO:gensim.models.keyedvectors:loaded (102844, 32) matrix from word2vec_model.bin\n"
     ]
    }
   ],
   "source": [
    "logging.info('Initializing word2vec.')\n",
    "\n",
    "dictionary = pyndri.extract_dictionary(index)\n",
    "sentences = pyndri.compat.IndriSentences(index, dictionary)\n",
    "\n",
    "if not os.path.isfile(word2vec_file):\n",
    "    #train a model if it is not present\n",
    "    model = gensim.models.Word2Vec(sentences,\n",
    "                                  size = NN_LAYERS,\n",
    "                                  window = 5, # One-sided window size\n",
    "                                  min_count = 5, # Minimum word frequency\n",
    "                                  workers = AVAILABLE_CORES,\n",
    "                                  sample = 1e-5, # Sub-sample threshold\n",
    "                                  negative = 5, # Number of negative examples\n",
    "                                  sg = True)\n",
    "    model.wv.save_word2vec_format(word2vec_file, binary = True)\n",
    "    \n",
    "else:\n",
    "    #load existing model\n",
    "    word2vec_model = gensim.models.KeyedVectors.load_word2vec_format(word2vec_file, binary = True)"
   ]
  },
  {
   "cell_type": "code",
   "execution_count": null,
   "metadata": {},
   "outputs": [],
   "source": []
  },
  {
   "cell_type": "markdown",
   "metadata": {},
   "source": [
    "### Task 4: Learning to rank (LTR) [15 points] (open-ended) ###\n",
    "\n",
    "In this task you will get an introduction into learning to rank for information retrieval.\n",
    "\n",
    "You can explore different ways for devising features for the model. Obviously, you can use the retrieval methods you implemented in Task 1, Task 2 and Task 3 as features. Think about other features you can use (e.g. query/document length). Creativity on devising new features and providing motivation for them will be taken into account when grading.\n",
    "\n",
    "For every query, first create a document candidate set using the top-1000 documents using TF-IDF, and subsequently compute features given a query and a document. Note that the feature values of different retrieval methods are likely to be distributed differently.\n",
    "\n",
    "You are adviced to start some pointwise learning to rank algorithm e.g. logistic regression, implemented in [scikit-learn](http://scikit-learn.org/stable/modules/generated/sklearn.linear_model.LogisticRegression.html).\n",
    "Train your LTR model using 10-fold cross validation on the test set. More advanced learning to rank algorithms will be appreciated when grading."
   ]
  },
  {
   "cell_type": "code",
   "execution_count": null,
   "metadata": {},
   "outputs": [],
   "source": []
  },
  {
   "cell_type": "markdown",
   "metadata": {
    "collapsed": true
   },
   "source": [
    "### Task 5: Write a report [15 points; instant FAIL if not provided] ###\n",
    "\n",
    "The report should be a PDF file created using the [sigconf ACM template](https://www.acm.org/publications/proceedings-template) and will determine a significant part of your grade.\n",
    "\n",
    "   * It should explain what you have implemented, motivate your experiments and detail what you expect to learn from them. **[10 points]**\n",
    "   * Lastly, provide a convincing analysis of your results and conclude the report accordingly. **[10 points]**\n",
    "      * Do all methods perform similarly on all queries? Why?\n",
    "      * Is there a single retrieval model that outperforms all other retrieval models (i.e., silver bullet)?\n",
    "      * ...\n",
    "\n",
    "**Hand in the report and your self-contained implementation source files.** Only send us the files that matter, organized in a well-documented zip/tgz file with clear instructions on how to reproduce your results. That is, we want to be able to regenerate all your results with minimal effort. You can assume that the index and ground-truth information is present in the same file structure as the one we have provided.\n"
   ]
  },
  {
   "cell_type": "code",
   "execution_count": null,
   "metadata": {},
   "outputs": [],
   "source": []
  }
 ],
 "metadata": {
  "anaconda-cloud": {},
  "kernelspec": {
   "display_name": "Python 3",
   "language": "python",
   "name": "python3"
  },
  "language_info": {
   "codemirror_mode": {
    "name": "ipython",
    "version": 3
   },
   "file_extension": ".py",
   "mimetype": "text/x-python",
   "name": "python",
   "nbconvert_exporter": "python",
   "pygments_lexer": "ipython3",
   "version": "3.5.2"
  }
 },
 "nbformat": 4,
 "nbformat_minor": 1
}
